{
 "cells": [
  {
   "cell_type": "code",
   "execution_count": 2,
   "metadata": {},
   "outputs": [],
   "source": [
    "import jpype\n",
    "from jpype import JClass"
   ]
  },
  {
   "cell_type": "code",
   "execution_count": 4,
   "metadata": {},
   "outputs": [],
   "source": [
    "jpype.startJVM()"
   ]
  },
  {
   "cell_type": "code",
   "execution_count": 5,
   "metadata": {},
   "outputs": [],
   "source": [
    "JString = JClass('java.lang.String')"
   ]
  },
  {
   "cell_type": "code",
   "execution_count": 7,
   "metadata": {},
   "outputs": [],
   "source": [
    "test_java_str = JString('hello world')"
   ]
  },
  {
   "cell_type": "markdown",
   "metadata": {},
   "source": [
    "[Java String documentation](https://docs.oracle.com/en/java/javase/11/docs/api/java.base/java/lang/String.html#method.summary)"
   ]
  },
  {
   "cell_type": "code",
   "execution_count": 10,
   "metadata": {},
   "outputs": [
    {
     "data": {
      "text/plain": [
       "'CASE_INSENSITIVE_ORDER, __add__, __class__, __contains__, __del__, __delattr__, __dict__, __dir__, __doc__, __eq__, __format__, __ge__, __getattribute__, __getitem__, __gt__, __hash__, __init__, __init_subclass__, __javadoc__, __le__, __len__, __lt__, __module__, __ne__, __new__, __reduce__, __reduce_ex__, __repr__, __setattr__, __sizeof__, __str__, __subclasshook__, __weakref__, charAt, chars, codePointAt, codePointBefore, codePointCount, codePoints, compare, compareTo, compareToIgnoreCase, concat, contains, contentEquals, copyValueOf, endsWith, equals, equalsIgnoreCase, format, getBytes, getChars, getClass, hashCode, indexOf, intern, isBlank, isEmpty, join, lastIndexOf, length, lines, matches, notify, notifyAll, offsetByCodePoints, regionMatches, repeat, replace, replaceAll, replaceFirst, split, startsWith, strip, stripLeading, stripTrailing, subSequence, substring, toCharArray, toLowerCase, toString, toUpperCase, trim, valueOf, wait'"
      ]
     },
     "execution_count": 10,
     "metadata": {},
     "output_type": "execute_result"
    }
   ],
   "source": [
    "', '.join(dir(test_java_str))"
   ]
  },
  {
   "cell_type": "code",
   "execution_count": 11,
   "metadata": {},
   "outputs": [],
   "source": [
    "test_python_str = 'hello world'"
   ]
  },
  {
   "cell_type": "markdown",
   "metadata": {},
   "source": [
    "[Python String documentation](https://docs.python.org/3.8/library/stdtypes.html#str)"
   ]
  },
  {
   "cell_type": "code",
   "execution_count": 12,
   "metadata": {},
   "outputs": [
    {
     "data": {
      "text/plain": [
       "'__add__, __class__, __contains__, __delattr__, __dir__, __doc__, __eq__, __format__, __ge__, __getattribute__, __getitem__, __getnewargs__, __gt__, __hash__, __init__, __init_subclass__, __iter__, __le__, __len__, __lt__, __mod__, __mul__, __ne__, __new__, __reduce__, __reduce_ex__, __repr__, __rmod__, __rmul__, __setattr__, __sizeof__, __str__, __subclasshook__, capitalize, casefold, center, count, encode, endswith, expandtabs, find, format, format_map, index, isalnum, isalpha, isascii, isdecimal, isdigit, isidentifier, islower, isnumeric, isprintable, isspace, istitle, isupper, join, ljust, lower, lstrip, maketrans, partition, replace, rfind, rindex, rjust, rpartition, rsplit, rstrip, split, splitlines, startswith, strip, swapcase, title, translate, upper, zfill'"
      ]
     },
     "execution_count": 12,
     "metadata": {},
     "output_type": "execute_result"
    }
   ],
   "source": [
    "', '.join(dir(test_python_str))"
   ]
  },
  {
   "cell_type": "code",
   "execution_count": 18,
   "metadata": {},
   "outputs": [
    {
     "name": "stdout",
     "output_type": "stream",
     "text": [
      "hello world\n"
     ]
    }
   ],
   "source": [
    "print(test_java_str)"
   ]
  },
  {
   "cell_type": "code",
   "execution_count": 21,
   "metadata": {},
   "outputs": [
    {
     "name": "stdout",
     "output_type": "stream",
     "text": [
      "python: hello world\n",
      "java: hello world\n"
     ]
    }
   ],
   "source": [
    "print(f'python: {test_python_str}\\njava: {test_java_str}')"
   ]
  },
  {
   "cell_type": "code",
   "execution_count": 22,
   "metadata": {},
   "outputs": [
    {
     "data": {
      "text/plain": [
       "'HELLO WORLD'"
      ]
     },
     "execution_count": 22,
     "metadata": {},
     "output_type": "execute_result"
    }
   ],
   "source": [
    "test_java_str.toUpperCase()"
   ]
  },
  {
   "cell_type": "code",
   "execution_count": null,
   "metadata": {},
   "outputs": [],
   "source": []
  },
  {
   "cell_type": "markdown",
   "metadata": {},
   "source": [
    "Here is the [first working prototype](https://github.com/hx2A/py5generator/blob/636712b1c786eee67a6e1cbec9d59d2a25afb0e8/packages/py5/py5/__init__.py):\n",
    "\n",
    "Was using [pyjnius](https://github.com/kivy/pyjnius) back then\n",
    "\n",
    "\n",
    "```\n",
    "import jnius_config\n",
    "jnius_config.set_classpath('.', '/home/jim/Projects/git/processing/core/library/*')\n",
    "from jnius import autoclass  # noqa\n",
    "\n",
    "PythonPApplet = autoclass('processing.core.PythonPApplet')\n",
    "PConstants = autoclass('processing.core.PConstants')\n",
    "\n",
    "_papplet = PythonPApplet()\n",
    "\n",
    "# *** PY5 GENERATED CONSTANTS ***\n",
    "ADD = 2\n",
    "ALPHA = 4\n",
    "\n",
    "# ...lots of constants...\n",
    "\n",
    "\n",
    "# *** PY5 GENERATED FUNCTIONS ***\n",
    "def abs(*args):\n",
    "    return _papplet.abs(*args)\n",
    "\n",
    "\n",
    "def acos(*args):\n",
    "    return _papplet.acos(*args)\n",
    "\n",
    "# ...lots of functions...\n",
    "\n",
    "\n",
    "frame_rate = 0\n",
    "mouse_x = 0\n",
    "mouse_y = 0\n",
    "\n",
    "\n",
    "def _handle_settings(settings):\n",
    "    _papplet.handleSettingsPt1()\n",
    "    settings()\n",
    "    _papplet.handleSettingsPt2()\n",
    "\n",
    "\n",
    "def _update_vars():\n",
    "    global frame_rate\n",
    "    frame_rate = _papplet.frameRate\n",
    "    global mouse_x\n",
    "    mouse_x = _papplet.mouseX\n",
    "    global mouse_y\n",
    "    mouse_y = _papplet.mouseY\n",
    "\n",
    "\n",
    "def _handle_draw(setup, draw):\n",
    "    _update_vars()\n",
    "    _papplet.handleDrawPt1()\n",
    "    if _papplet.frameCount == 0:\n",
    "        setup()\n",
    "    _papplet.handleDrawPt2()\n",
    "    draw()\n",
    "    _papplet.handleDrawPt3()\n",
    "\n",
    "    _papplet.render()\n",
    "\n",
    "\n",
    "def run_sketch(settings, setup, draw, frameLimit=1000):\n",
    "    _handle_settings(settings)\n",
    "    PythonPApplet.setupSketch(['py5 sketch'], _papplet)\n",
    "\n",
    "    while frameLimit > 0:\n",
    "        _handle_draw(setup, draw)\n",
    "        time.sleep(1 / 60)\n",
    "\n",
    "        frameLimit -= 1\n",
    "```\n",
    "\n",
    "The Java PythonPApplet class was inherited from Processing's PApplet class and had some extra functions to facilitate sketch execution. Most importantly, [Processing's handleDraw method](https://github.com/processing/processing4/blob/e96622d633cb83972be1b85e94065426e407fd36/core/src/processing/core/PApplet.java#L2369) was divided up into new `handleDrawPt1`, `handleDrawPt2`, and `handleDrawPt3` methods. The code was segmented before and after `handleDraw`'s calls to the user's `setup()` and `draw()` methods. This enabled me to have Processing execute the same Java code with the user's Python `setup()` and `draw()` methods called at the appropriate time. Processing's `handleSettings` method and the user's `settings()` method are managed in a similar way."
   ]
  },
  {
   "cell_type": "markdown",
   "metadata": {},
   "source": [
    "This worked when using the default Processing renderer (JAVA2D), which uses [AWT](https://docs.oracle.com/en/java/javase/11/docs/api/java.desktop/java/awt/package-summary.html) to draw to the screen. Unfortunately, neither of the OpenGL renderers worked (P2D and P3D). It was a struggle to understand the errors and get it to work."
   ]
  },
  {
   "cell_type": "markdown",
   "metadata": {},
   "source": [
    "First problem: error about the Animation thread not running\n",
    "\n",
    "Solution: some complicated thing with an actual running sketch and simultaneous threads in Python and Java that would use a semaphore to pause Java and execute the Python `setup()` and `draw()` methods at the appropriate times\n",
    "\n",
    "Second problem: error about [OpenGL Context](https://www.khronos.org/opengl/wiki/Creating_an_OpenGL_Context_(WGL))"
   ]
  },
  {
   "cell_type": "markdown",
   "metadata": {},
   "source": [
    "# Final Version\n",
    "\n",
    "To solve all these problems and move forward with the library I used functionality in both jpype and pyjnius to allow calls from Java to Python.\n",
    "\n",
    "    Proxies in Java are foreign elements that pretend to implement a Java interface.\n",
    "\n",
    "https://jpype.readthedocs.io/en/latest/userguide.html#implementing-java-interfaces\n",
    "\n",
    "https://github.com/hx2A/py5generator/blob/master/py5_jar/src/py5/core/Py5Applet.java\n",
    "\n",
    "The `Py5Applet` class extends Processing's PApplet class and implements all the user functions like so:\n",
    "\n",
    "```\n",
    "  @Override\n",
    "  public void draw() {\n",
    "    if (success) {\n",
    "      if (py5RegisteredEvents.contains(\"draw\")) {\n",
    "        success = py5Methods.run_method(\"draw\");\n",
    "      } else {\n",
    "        super.draw();\n",
    "      }\n",
    "    }\n",
    "  }\n",
    "```\n",
    "\n",
    "That `py5methods` object implements this interface:\n",
    "\n",
    "https://github.com/hx2A/py5generator/blob/master/py5_jar/src/py5/core/Py5Methods.java\n",
    "\n",
    "Java thinks it is a real Java object, it it is actually implemented with the Py5Methods class, implemented in Python here:\n",
    "\n",
    "https://github.com/hx2A/py5generator/blob/master/py5_resources/py5_module/py5/methods.py\n",
    "\n",
    "Sketch is still running the animation thread\n",
    "\n",
    "Python calls are on the same thread, resolving the OpenGL Context problems."
   ]
  },
  {
   "cell_type": "markdown",
   "metadata": {},
   "source": [
    "Python calls Processing's `runSketch()` method (Java), which opens the window, starts the animation sketch, runs the `Py5Applet` sketch. As far as Processing is concerned, this is regular sketch. `Py5Applet` makes calls back to Python via the Py5Methods interface. The user implemented `setup()` and `draw()` methods make calls back to Processing to draw the frame. Python calls Java calls Python calls Java."
   ]
  },
  {
   "cell_type": "code",
   "execution_count": null,
   "metadata": {},
   "outputs": [],
   "source": []
  }
 ],
 "metadata": {
  "kernelspec": {
   "display_name": "Python 3",
   "language": "python",
   "name": "python3"
  },
  "language_info": {
   "codemirror_mode": {
    "name": "ipython",
    "version": 3
   },
   "file_extension": ".py",
   "mimetype": "text/x-python",
   "name": "python",
   "nbconvert_exporter": "python",
   "pygments_lexer": "ipython3",
   "version": "3.8.5"
  }
 },
 "nbformat": 4,
 "nbformat_minor": 4
}
