{
 "cells": [
  {
   "cell_type": "code",
   "execution_count": 1,
   "metadata": {},
   "outputs": [],
   "source": [
    "import pygments\n",
    "from pygments.formatters import ImageFormatter, HtmlFormatter\n",
    "from pygments.lexers import Python3Lexer\n",
    "from IPython.display import Image, HTML\n",
    "\n",
    "import py5"
   ]
  },
  {
   "cell_type": "code",
   "execution_count": 2,
   "metadata": {},
   "outputs": [],
   "source": [
    "%load_ext py5"
   ]
  },
  {
   "cell_type": "code",
   "execution_count": 3,
   "metadata": {},
   "outputs": [],
   "source": [
    "def settings():\n",
    "    py5.size(500, 400, py5.P3D)\n",
    "\n",
    "def setup():\n",
    "    py5.fill(255)\n",
    "    py5.stroke(0)\n",
    "    py5.stroke_weight(4)\n",
    "\n",
    "def draw():\n",
    "    py5.background(255, 0, 0)\n",
    "    py5.translate(py5.width / 2, py5.height / 2)\n",
    "\n",
    "    x = 0.5 * py5.width * py5.noise(py5.frame_count / 400)\n",
    "    y = 0.5 * py5.height * py5.noise(-py5.frame_count / 400)\n",
    "    rot_x = py5.TWO_PI * py5.noise(py5.frame_count / 1000)\n",
    "    rot_y = py5.TWO_PI * py5.noise(-py5.frame_count / 1000)\n",
    "\n",
    "    py5.translate(x, y)\n",
    "    py5.rotate_x(rot_x)\n",
    "    py5.rotate_y(rot_y)\n",
    "\n",
    "    py5.box(100)"
   ]
  },
  {
   "cell_type": "code",
   "execution_count": 4,
   "metadata": {},
   "outputs": [],
   "source": [
    "py5.run_sketch()"
   ]
  },
  {
   "cell_type": "code",
   "execution_count": 5,
   "metadata": {},
   "outputs": [
    {
     "name": "stdout",
     "output_type": "stream",
     "text": [
      "collecting frame 10/10\n"
     ]
    },
    {
     "data": {
      "text/plain": [
       "'py5_example.gif'"
      ]
     },
     "execution_count": 5,
     "metadata": {},
     "output_type": "execute_result"
    }
   ],
   "source": [
    "%py5animatedgif py5_example.gif 10 2000 500"
   ]
  },
  {
   "cell_type": "markdown",
   "metadata": {},
   "source": [
    "![example](py5_example.gif)"
   ]
  },
  {
   "cell_type": "code",
   "execution_count": 6,
   "metadata": {},
   "outputs": [
    {
     "name": "stdout",
     "output_type": "stream",
     "text": [
      "\n",
      "import py5\n",
      "\n",
      "def settings():\n",
      "    py5.size(500, 400, py5.P3D)\n",
      "\n",
      "def setup():\n",
      "    py5.fill(255)\n",
      "    py5.stroke(0)\n",
      "    py5.stroke_weight(4)\n",
      "\n",
      "def draw():\n",
      "    py5.background(255, 0, 0)\n",
      "    py5.translate(py5.width / 2, py5.height / 2)\n",
      "\n",
      "    x = 0.5 * py5.width * py5.noise(py5.frame_count / 400)\n",
      "    y = 0.5 * py5.height * py5.noise(-py5.frame_count / 400)\n",
      "    rot_x = py5.TWO_PI * py5.noise(py5.frame_count / 1000)\n",
      "    rot_y = py5.TWO_PI * py5.noise(-py5.frame_count / 1000)\n",
      "\n",
      "    py5.translate(x, y)\n",
      "    py5.rotate_x(rot_x)\n",
      "    py5.rotate_y(rot_y)\n",
      "\n",
      "    py5.box(100)\n",
      "\n",
      "py5.run_sketch()\n",
      "\n"
     ]
    }
   ],
   "source": [
    "cell_numbers = [3]\n",
    "\n",
    "code = \"\"\"\n",
    "import py5\n",
    "\n",
    "{0}\n",
    "\n",
    "py5.run_sketch()\n",
    "\"\"\".format('\\n\\n'.join(In[x] for x in cell_numbers))\n",
    "\n",
    "print(code)"
   ]
  },
  {
   "cell_type": "code",
   "execution_count": 7,
   "metadata": {},
   "outputs": [],
   "source": [
    "pygments.highlight(code, Python3Lexer(), ImageFormatter(line_numbers=False), 'py5_example_code.png')"
   ]
  },
  {
   "cell_type": "markdown",
   "metadata": {},
   "source": [
    "![image](py5_example_code.png)"
   ]
  },
  {
   "cell_type": "code",
   "execution_count": null,
   "metadata": {},
   "outputs": [],
   "source": []
  },
  {
   "cell_type": "code",
   "execution_count": null,
   "metadata": {},
   "outputs": [],
   "source": []
  }
 ],
 "metadata": {
  "kernelspec": {
   "display_name": "Python 3",
   "language": "python",
   "name": "python3"
  },
  "language_info": {
   "codemirror_mode": {
    "name": "ipython",
    "version": 3
   },
   "file_extension": ".py",
   "mimetype": "text/x-python",
   "name": "python",
   "nbconvert_exporter": "python",
   "pygments_lexer": "ipython3",
   "version": "3.8.5"
  }
 },
 "nbformat": 4,
 "nbformat_minor": 4
}
