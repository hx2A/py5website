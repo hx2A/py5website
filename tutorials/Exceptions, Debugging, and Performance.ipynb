{
 "cells": [
  {
   "cell_type": "markdown",
   "metadata": {},
   "source": [
    "# Exceptions, Debugging, and Performance of py5"
   ]
  },
  {
   "cell_type": "code",
   "execution_count": 1,
   "metadata": {},
   "outputs": [
    {
     "data": {
      "text/plain": [
       "'0.3a5'"
      ]
     },
     "execution_count": 1,
     "metadata": {},
     "output_type": "execute_result"
    }
   ],
   "source": [
    "import numpy as np\n",
    "import py5\n",
    "py5.__version__"
   ]
  },
  {
   "cell_type": "code",
   "execution_count": 2,
   "metadata": {},
   "outputs": [],
   "source": [
    "%load_ext py5"
   ]
  },
  {
   "cell_type": "markdown",
   "metadata": {},
   "source": [
    "## Example 1"
   ]
  },
  {
   "cell_type": "code",
   "execution_count": 3,
   "metadata": {},
   "outputs": [],
   "source": [
    "def settings():\n",
    "    py5.size(500, 500, py5.P2D)"
   ]
  },
  {
   "cell_type": "code",
   "execution_count": 4,
   "metadata": {},
   "outputs": [],
   "source": [
    "def setup():\n",
    "    py5.background(255)\n",
    "    py5.rect_mode(py5.CENTER)\n",
    "    py5.stroke(128, 32)"
   ]
  },
  {
   "cell_type": "markdown",
   "metadata": {},
   "source": [
    "The draw function will throw an error when `frame_count == 100`."
   ]
  },
  {
   "cell_type": "code",
   "execution_count": 5,
   "metadata": {},
   "outputs": [],
   "source": [
    "def throw_error(p1, p2):\n",
    "    py5.rect(p1, p2)\n",
    "\n",
    "def draw():\n",
    "    py5.fill(py5.random(255), py5.random(255), py5.random(255), 50.0)\n",
    "    py5.rect(py5.mouse_x, py5.mouse_y, 40, 40)\n",
    "\n",
    "    if py5.frame_count == 100:\n",
    "        throw_error('garbage', 'parameters')\n",
    "\n",
    "    count = 1000\n",
    "    for i in range(count):\n",
    "        py5.point(py5.random(py5.width), py5.random(py5.height))"
   ]
  },
  {
   "cell_type": "markdown",
   "metadata": {},
   "source": [
    "Run the code and observe what is presented to the user."
   ]
  },
  {
   "cell_type": "code",
   "execution_count": 6,
   "metadata": {},
   "outputs": [
    {
     "name": "stderr",
     "output_type": "stream",
     "text": [
      "File \"<ipython-input-5-e8a5623654c7>\", line 9, in draw\n",
      "    4    def draw():\n",
      "    5        py5.fill(py5.random(255), py5.random(255), py5.random(255), 50.0)\n",
      "    6        py5.rect(py5.mouse_x, py5.mouse_y, 40, 40)\n",
      "    7    \n",
      "    8        if py5.frame_count == 100:\n",
      "--> 9            throw_error('garbage', 'parameters')\n",
      "    10   \n",
      "\n",
      "File \"<ipython-input-5-e8a5623654c7>\", line 2, in throw_error\n",
      "    1    def throw_error(p1, p2):\n",
      "--> 2        py5.rect(p1, p2)\n",
      "    ..................................................\n",
      "     p1 = 'garbage'\n",
      "     p2 = 'parameters'\n",
      "    ..................................................\n",
      "\n",
      "TypeError: The parameter types (str, str) are invalid for method rect.\n",
      "Your parameters must match one of the following signatures:\n",
      " * rect(a: float, b: float, c: float, d: float, /) -> None\n",
      " * rect(a: float, b: float, c: float, d: float, r: float, /) -> None\n",
      " * rect(a: float, b: float, c: float, d: float, tl: float, tr: float, br: float, bl: float, /) -> None\n"
     ]
    }
   ],
   "source": [
    "py5_options = ['--location=1300,50', '--display=1']\n",
    "py5.run_sketch(py5_options=py5_options)"
   ]
  },
  {
   "cell_type": "markdown",
   "metadata": {},
   "source": [
    "## Debugging\n",
    "\n",
    "The regular Jupyter notebook debugger works here."
   ]
  },
  {
   "cell_type": "code",
   "execution_count": 7,
   "metadata": {},
   "outputs": [
    {
     "name": "stdout",
     "output_type": "stream",
     "text": [
      "> \u001b[0;32m<ipython-input-5-e8a5623654c7>\u001b[0m(2)\u001b[0;36mthrow_error\u001b[0;34m()\u001b[0m\n",
      "\u001b[0;32m      1 \u001b[0;31m\u001b[0;32mdef\u001b[0m \u001b[0mthrow_error\u001b[0m\u001b[0;34m(\u001b[0m\u001b[0mp1\u001b[0m\u001b[0;34m,\u001b[0m \u001b[0mp2\u001b[0m\u001b[0;34m)\u001b[0m\u001b[0;34m:\u001b[0m\u001b[0;34m\u001b[0m\u001b[0;34m\u001b[0m\u001b[0m\n",
      "\u001b[0m\u001b[0;32m----> 2 \u001b[0;31m    \u001b[0mpy5\u001b[0m\u001b[0;34m.\u001b[0m\u001b[0mrect\u001b[0m\u001b[0;34m(\u001b[0m\u001b[0mp1\u001b[0m\u001b[0;34m,\u001b[0m \u001b[0mp2\u001b[0m\u001b[0;34m)\u001b[0m\u001b[0;34m\u001b[0m\u001b[0;34m\u001b[0m\u001b[0m\n",
      "\u001b[0m\u001b[0;32m      3 \u001b[0;31m\u001b[0;34m\u001b[0m\u001b[0m\n",
      "\u001b[0m\u001b[0;32m      4 \u001b[0;31m\u001b[0;32mdef\u001b[0m \u001b[0mdraw\u001b[0m\u001b[0;34m(\u001b[0m\u001b[0;34m)\u001b[0m\u001b[0;34m:\u001b[0m\u001b[0;34m\u001b[0m\u001b[0;34m\u001b[0m\u001b[0m\n",
      "\u001b[0m\u001b[0;32m      5 \u001b[0;31m    \u001b[0mpy5\u001b[0m\u001b[0;34m.\u001b[0m\u001b[0mfill\u001b[0m\u001b[0;34m(\u001b[0m\u001b[0mpy5\u001b[0m\u001b[0;34m.\u001b[0m\u001b[0mrandom\u001b[0m\u001b[0;34m(\u001b[0m\u001b[0;36m255\u001b[0m\u001b[0;34m)\u001b[0m\u001b[0;34m,\u001b[0m \u001b[0mpy5\u001b[0m\u001b[0;34m.\u001b[0m\u001b[0mrandom\u001b[0m\u001b[0;34m(\u001b[0m\u001b[0;36m255\u001b[0m\u001b[0;34m)\u001b[0m\u001b[0;34m,\u001b[0m \u001b[0mpy5\u001b[0m\u001b[0;34m.\u001b[0m\u001b[0mrandom\u001b[0m\u001b[0;34m(\u001b[0m\u001b[0;36m255\u001b[0m\u001b[0;34m)\u001b[0m\u001b[0;34m,\u001b[0m \u001b[0;36m50.0\u001b[0m\u001b[0;34m)\u001b[0m\u001b[0;34m\u001b[0m\u001b[0;34m\u001b[0m\u001b[0m\n",
      "\u001b[0m\n"
     ]
    },
    {
     "name": "stdin",
     "output_type": "stream",
     "text": [
      "ipdb>  print(p1)\n"
     ]
    },
    {
     "name": "stdout",
     "output_type": "stream",
     "text": [
      "garbage\n"
     ]
    },
    {
     "name": "stdin",
     "output_type": "stream",
     "text": [
      "ipdb>  print(p2)\n"
     ]
    },
    {
     "name": "stdout",
     "output_type": "stream",
     "text": [
      "parameters\n"
     ]
    },
    {
     "name": "stdin",
     "output_type": "stream",
     "text": [
      "ipdb>  u\n"
     ]
    },
    {
     "name": "stdout",
     "output_type": "stream",
     "text": [
      "> \u001b[0;32m<ipython-input-5-e8a5623654c7>\u001b[0m(9)\u001b[0;36mdraw\u001b[0;34m()\u001b[0m\n",
      "\u001b[0;32m      7 \u001b[0;31m\u001b[0;34m\u001b[0m\u001b[0m\n",
      "\u001b[0m\u001b[0;32m      8 \u001b[0;31m    \u001b[0;32mif\u001b[0m \u001b[0mpy5\u001b[0m\u001b[0;34m.\u001b[0m\u001b[0mframe_count\u001b[0m \u001b[0;34m==\u001b[0m \u001b[0;36m100\u001b[0m\u001b[0;34m:\u001b[0m\u001b[0;34m\u001b[0m\u001b[0;34m\u001b[0m\u001b[0m\n",
      "\u001b[0m\u001b[0;32m----> 9 \u001b[0;31m        \u001b[0mthrow_error\u001b[0m\u001b[0;34m(\u001b[0m\u001b[0;34m'garbage'\u001b[0m\u001b[0;34m,\u001b[0m \u001b[0;34m'parameters'\u001b[0m\u001b[0;34m)\u001b[0m\u001b[0;34m\u001b[0m\u001b[0;34m\u001b[0m\u001b[0m\n",
      "\u001b[0m\u001b[0;32m     10 \u001b[0;31m\u001b[0;34m\u001b[0m\u001b[0m\n",
      "\u001b[0m\u001b[0;32m     11 \u001b[0;31m    \u001b[0mcount\u001b[0m \u001b[0;34m=\u001b[0m \u001b[0;36m1000\u001b[0m\u001b[0;34m\u001b[0m\u001b[0;34m\u001b[0m\u001b[0m\n",
      "\u001b[0m\n"
     ]
    },
    {
     "name": "stdin",
     "output_type": "stream",
     "text": [
      "ipdb>  q\n"
     ]
    }
   ],
   "source": [
    "%debug"
   ]
  },
  {
   "cell_type": "markdown",
   "metadata": {},
   "source": [
    "## Example 2\n",
    "\n",
    "Modify the code to throw a different error."
   ]
  },
  {
   "cell_type": "code",
   "execution_count": 8,
   "metadata": {},
   "outputs": [],
   "source": [
    "def throw_error(p1, p2):\n",
    "    print(0 / 0)"
   ]
  },
  {
   "cell_type": "code",
   "execution_count": 9,
   "metadata": {},
   "outputs": [
    {
     "name": "stderr",
     "output_type": "stream",
     "text": [
      "File \"<ipython-input-5-e8a5623654c7>\", line 9, in draw\n",
      "    4    def draw():\n",
      "    5        py5.fill(py5.random(255), py5.random(255), py5.random(255), 50.0)\n",
      "    6        py5.rect(py5.mouse_x, py5.mouse_y, 40, 40)\n",
      "    7    \n",
      "    8        if py5.frame_count == 100:\n",
      "--> 9            throw_error('garbage', 'parameters')\n",
      "    10   \n",
      "\n",
      "File \"<ipython-input-8-d21bcc29fb0d>\", line 2, in throw_error\n",
      "    1    def throw_error(p1, p2):\n",
      "--> 2        print(0 / 0)\n",
      "\n",
      "ZeroDivisionError: division by zero\n"
     ]
    }
   ],
   "source": [
    "py5.run_sketch(py5_options=py5_options)"
   ]
  },
  {
   "cell_type": "markdown",
   "metadata": {},
   "source": [
    "## Customizing Error Messages\n",
    "\n",
    "All error messages can be customized.\n",
    "\n",
    "Custom error messages can (and should) be built into py5 by default.\n",
    "\n",
    "One can imagine a professor further augmenting the default Python error messages to provide suitable messages for their class or perhaps include links to class lecture notes to assist debugging."
   ]
  },
  {
   "cell_type": "code",
   "execution_count": 10,
   "metadata": {},
   "outputs": [],
   "source": [
    "py5.register_exception_msg('ZeroDivisionError', 'Dividing by Zero? Madness!!!')"
   ]
  },
  {
   "cell_type": "code",
   "execution_count": 11,
   "metadata": {},
   "outputs": [
    {
     "name": "stderr",
     "output_type": "stream",
     "text": [
      "File \"<ipython-input-5-e8a5623654c7>\", line 9, in draw\n",
      "    4    def draw():\n",
      "    5        py5.fill(py5.random(255), py5.random(255), py5.random(255), 50.0)\n",
      "    6        py5.rect(py5.mouse_x, py5.mouse_y, 40, 40)\n",
      "    7    \n",
      "    8        if py5.frame_count == 100:\n",
      "--> 9            throw_error('garbage', 'parameters')\n",
      "    10   \n",
      "\n",
      "File \"<ipython-input-8-d21bcc29fb0d>\", line 2, in throw_error\n",
      "    1    def throw_error(p1, p2):\n",
      "--> 2        print(0 / 0)\n",
      "\n",
      "ZeroDivisionError: Dividing by Zero? Madness!!!\n"
     ]
    }
   ],
   "source": [
    "py5.run_sketch(py5_options=py5_options)"
   ]
  },
  {
   "cell_type": "markdown",
   "metadata": {},
   "source": [
    "## Example 3"
   ]
  },
  {
   "cell_type": "code",
   "execution_count": 12,
   "metadata": {},
   "outputs": [],
   "source": [
    "def draw():\n",
    "    py5.fill(py5.random(255), py5.random(255), py5.random(255), 50.0)\n",
    "    py5.rect(py5.mouse_x, py5.mouse_y, 40, 40)\n",
    "\n",
    "    count = 2500\n",
    "    for i in range(count):\n",
    "        py5.point(py5.random(py5.width), py5.random(py5.height))"
   ]
  },
  {
   "cell_type": "code",
   "execution_count": 13,
   "metadata": {},
   "outputs": [],
   "source": [
    "py5.run_sketch(py5_options=py5_options)"
   ]
  },
  {
   "cell_type": "markdown",
   "metadata": {},
   "source": [
    "## Sluggish Sketch\n",
    "\n",
    "The sketch is slow. Why?\n",
    "\n",
    "Let's use the built-in line profiler to investigate."
   ]
  },
  {
   "cell_type": "code",
   "execution_count": 14,
   "metadata": {},
   "outputs": [
    {
     "data": {
      "text/plain": [
       "23.01425552368164"
      ]
     },
     "execution_count": 14,
     "metadata": {},
     "output_type": "execute_result"
    }
   ],
   "source": [
    "py5.get_frame_rate()"
   ]
  },
  {
   "cell_type": "code",
   "execution_count": 15,
   "metadata": {},
   "outputs": [],
   "source": [
    "py5.profile_draw()"
   ]
  },
  {
   "cell_type": "code",
   "execution_count": 16,
   "metadata": {},
   "outputs": [
    {
     "name": "stdout",
     "output_type": "stream",
     "text": [
      "Timer unit: 1e-06 s\n",
      "\n",
      "Total time: 4.05752 s\n",
      "File: <ipython-input-12-148949ef5e8b>\n",
      "Function: draw at line 1\n",
      "\n",
      "Line #      Hits         Time  Per Hit   % Time  Line Contents\n",
      "==============================================================\n",
      "     1                                           def draw():\n",
      "     2        63       1661.0     26.4      0.0      py5.fill(py5.random(255), py5.random(255), py5.random(255), 50.0)\n",
      "     3        63       2695.0     42.8      0.1      py5.rect(py5.mouse_x, py5.mouse_y, 40, 40)\n",
      "     4                                           \n",
      "     5        63         60.0      1.0      0.0      count = 2500\n",
      "     6    156659     117737.0      0.8      2.9      for i in range(count):\n",
      "     7    156596    3935369.0     25.1     97.0          py5.point(py5.random(py5.width), py5.random(py5.height))\n",
      "\n"
     ]
    }
   ],
   "source": [
    "py5.print_line_profiler_stats()"
   ]
  },
  {
   "cell_type": "code",
   "execution_count": 17,
   "metadata": {},
   "outputs": [
    {
     "data": {
      "text/plain": [
       "62750.0"
      ]
     },
     "execution_count": 17,
     "metadata": {},
     "output_type": "execute_result"
    }
   ],
   "source": [
    "2500 * 25.1"
   ]
  },
  {
   "cell_type": "markdown",
   "metadata": {},
   "source": [
    "The sketch is slow because of the loop drawing one `point` at a time. Each call to `point` is a call from Python to Java, which has a small overhead. That overhead times 2,500 adds up to a performance penalty.\n",
    "\n",
    "To counter this, py5 has some built-in functions such as `points` and `vertices` to speed up common use cases.\n",
    "\n",
    "Users will also be able to build their own Java extensions to speed up critical parts of their code."
   ]
  },
  {
   "cell_type": "code",
   "execution_count": 18,
   "metadata": {},
   "outputs": [],
   "source": [
    "def draw():\n",
    "    py5.fill(py5.random(255), py5.random(255), py5.random(255), 50.0)\n",
    "    py5.rect(py5.mouse_x, py5.mouse_y, 40, 40)\n",
    "\n",
    "    count = 2500\n",
    "    random_coords = py5.width * np.random.rand(count, 2)\n",
    "    py5.points(random_coords)"
   ]
  },
  {
   "cell_type": "code",
   "execution_count": 19,
   "metadata": {},
   "outputs": [],
   "source": [
    "py5.run_sketch(py5_options=py5_options)"
   ]
  },
  {
   "cell_type": "code",
   "execution_count": 20,
   "metadata": {},
   "outputs": [
    {
     "data": {
      "text/plain": [
       "57.81379318237305"
      ]
     },
     "execution_count": 20,
     "metadata": {},
     "output_type": "execute_result"
    }
   ],
   "source": [
    "py5.get_frame_rate()"
   ]
  },
  {
   "cell_type": "code",
   "execution_count": 21,
   "metadata": {},
   "outputs": [],
   "source": [
    "py5.profile_draw()"
   ]
  },
  {
   "cell_type": "code",
   "execution_count": 22,
   "metadata": {},
   "outputs": [
    {
     "name": "stdout",
     "output_type": "stream",
     "text": [
      "Timer unit: 1e-06 s\n",
      "\n",
      "Total time: 5.32156 s\n",
      "File: <ipython-input-18-6ed870eb14fc>\n",
      "Function: draw at line 1\n",
      "\n",
      "Line #      Hits         Time  Per Hit   % Time  Line Contents\n",
      "==============================================================\n",
      "     1                                           def draw():\n",
      "     2       429      15990.0     37.3      0.3      py5.fill(py5.random(255), py5.random(255), py5.random(255), 50.0)\n",
      "     3       429      21274.0     49.6      0.4      py5.rect(py5.mouse_x, py5.mouse_y, 40, 40)\n",
      "     4                                           \n",
      "     5       429        508.0      1.2      0.0      count = 2500\n",
      "     6       429      37615.0     87.7      0.7      random_coords = py5.width * np.random.rand(count, 2)\n",
      "     7       428    5246172.0  12257.4     98.6      py5.points(random_coords)\n",
      "\n"
     ]
    }
   ],
   "source": [
    "py5.print_line_profiler_stats()"
   ]
  },
  {
   "cell_type": "markdown",
   "metadata": {},
   "source": [
    "## Discussion\n",
    "\n",
    "This performance is comparable to the equivalent Processing code, which also gets about 60 fps on my computer. \n",
    "\n",
    "```\n",
    "    void setup() {\n",
    "      size(500, 500, P2D);\n",
    "      background(255);\n",
    "      rectMode(CENTER);\n",
    "      stroke(128, 32);\n",
    "    }\n",
    "\n",
    "    void draw() {\n",
    "      fill(random(255), random(255), random(255), 50.0);\n",
    "      rect(mouseX, mouseY, 40, 40);\n",
    "\n",
    "      int count = 2500;\n",
    "      for (int i = 0; i < count; i++) {\n",
    "        point(random(width), random(height));\n",
    "      }\n",
    "    }\n",
    "\n",
    "    void keyPressed() {\n",
    "      println(frameRate);\n",
    "    }\n",
    "```\n",
    "\n",
    "However, if `count` is increased further, the py5 code above will not be able to keep up with Processing's performance.\n",
    "\n",
    "Consider that much of the time needed for the `points` method is because JPype must use JNI to repeatedly transfer 5000 floats from Python's memory space to the JVM. If thousands of random points are necessary, this can be further improved using custom Java code employing [Java direct buffers, which JPype supports](https://jpype.readthedocs.io/en/latest/userguide.html#buffer-backed-numpy-arrays)."
   ]
  },
  {
   "cell_type": "code",
   "execution_count": null,
   "metadata": {},
   "outputs": [],
   "source": []
  }
 ],
 "metadata": {
  "kernelspec": {
   "display_name": "Python 3",
   "language": "python",
   "name": "python3"
  },
  "language_info": {
   "codemirror_mode": {
    "name": "ipython",
    "version": 3
   },
   "file_extension": ".py",
   "mimetype": "text/x-python",
   "name": "python",
   "nbconvert_exporter": "python",
   "pygments_lexer": "ipython3",
   "version": "3.8.6"
  },
  "nikola": {
   "date": "2020-10-03 10:05:23 EST",
   "slug": "exceptions-debugging-performance",
   "title": "Exceptions, Debugging, and Performance"
  }
 },
 "nbformat": 4,
 "nbformat_minor": 4
}
