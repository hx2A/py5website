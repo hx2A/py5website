{
 "cells": [
  {
   "cell_type": "markdown",
   "id": "threatened-option",
   "metadata": {},
   "source": [
    "These Render Helper Tools facilitate the creation of simple sketches.\n",
    "\n",
    "Currently this is limited to the default and OpenGL renderers (P2D and P3D). I would like to add support for other renderers such as SVG at a later date."
   ]
  },
  {
   "cell_type": "code",
   "execution_count": 1,
   "id": "dimensional-place",
   "metadata": {},
   "outputs": [],
   "source": [
    "from IPython.display import display\n",
    "\n",
    "import py5"
   ]
  },
  {
   "cell_type": "markdown",
   "id": "warming-pencil",
   "metadata": {},
   "source": [
    "# Making a Single Image\n",
    "\n",
    "Below is an introductory example showing how to make a single image.\n",
    "\n",
    "The first parameter, `s: py5.Sketch`, includes a typehint. The typehint makes tab completion provide the right fields and methods, simplifying development."
   ]
  },
  {
   "cell_type": "code",
   "execution_count": 2,
   "id": "suitable-indication",
   "metadata": {},
   "outputs": [],
   "source": [
    "def draw_square(s: py5.Sketch):\n",
    "    s.background(240)\n",
    "    s.rect_mode(s.CENTER)\n",
    "    s.fill(255, 0, 0)\n",
    "    s.rect(s.width / 2, s.height / 2, 50, 50)"
   ]
  },
  {
   "cell_type": "markdown",
   "id": "brave-perfume",
   "metadata": {},
   "source": [
    "Pass the newly created `draw_square` function to [render_frame()](link://slug/render_frame). It will render a single frame sketch with a width and height of `200, 200`. The result is returned as a [PIL Image object](https://pillow.readthedocs.io/en/stable/index.html)."
   ]
  },
  {
   "cell_type": "code",
   "execution_count": 3,
   "id": "stuck-collectible",
   "metadata": {},
   "outputs": [
    {
     "name": "stdout",
     "output_type": "stream",
     "text": [
      "<class 'PIL.Image.Image'>\n"
     ]
    }
   ],
   "source": [
    "img = py5.render_frame(draw_square, 200, 200)\n",
    "\n",
    "print(type(img))"
   ]
  },
  {
   "cell_type": "markdown",
   "id": "sapphire-quantity",
   "metadata": {},
   "source": [
    "Here's what that image looks like:"
   ]
  },
  {
   "cell_type": "code",
   "execution_count": 4,
   "id": "pretty-violin",
   "metadata": {},
   "outputs": [
    {
     "data": {
      "image/png": "[encoded data removed]",
      "text/plain": [
       "<PIL.Image.Image image mode=RGB size=200x200 at 0x7FF4A476CA30>"
      ]
     },
     "execution_count": 4,
     "metadata": {},
     "output_type": "execute_result"
    }
   ],
   "source": [
    "img"
   ]
  },
  {
   "cell_type": "markdown",
   "id": "indian-director",
   "metadata": {},
   "source": [
    "Next, add some parameters to `draw_square` to parameterize the output."
   ]
  },
  {
   "cell_type": "code",
   "execution_count": 5,
   "id": "arabic-cologne",
   "metadata": {},
   "outputs": [],
   "source": [
    "def draw_square(s: py5.Sketch, fill_color, square_size):\n",
    "    s.background(240)\n",
    "    s.rect_mode(s.CENTER)\n",
    "    s.fill(*fill_color)\n",
    "    s.rect(s.width / 2, s.height / 2, square_size, square_size)"
   ]
  },
  {
   "cell_type": "markdown",
   "id": "selected-square",
   "metadata": {},
   "source": [
    "Below, use the new `draw_square` function with [render_frame()](link://slug/render_frame). Arguments are passed to `draw_square` via [render_frame()](link://slug/render_frame)'s `draw_kwargs` parameter.\n",
    "\n",
    "You can pass positional arguments with `draw_args` but I think using keyword arguments is easier and more readable."
   ]
  },
  {
   "cell_type": "code",
   "execution_count": 6,
   "id": "stable-parts",
   "metadata": {},
   "outputs": [
    {
     "data": {
      "image/png": "[encoded data removed]",
      "text/plain": [
       "<PIL.Image.Image image mode=RGB size=200x200 at 0x7FF418043250>"
      ]
     },
     "execution_count": 6,
     "metadata": {},
     "output_type": "execute_result"
    }
   ],
   "source": [
    "img = py5.render_frame(draw_square, 200, 200,\n",
    "                       draw_kwargs=dict(fill_color=(255, 0, 255), square_size=100))\n",
    "\n",
    "img"
   ]
  },
  {
   "cell_type": "markdown",
   "id": "renewable-manitoba",
   "metadata": {},
   "source": [
    "[render()](link://slug/render) is the [decorator](https://realpython.com/primer-on-python-decorators/) equivalent for [render_frame()](link://slug/render_frame). I think it achieves cleaner results, particularly when passing function arguments.\n",
    "\n",
    "When using decorators, don't forget the `@` sign, like I just did while writing this documentation."
   ]
  },
  {
   "cell_type": "code",
   "execution_count": 7,
   "id": "defined-corps",
   "metadata": {},
   "outputs": [],
   "source": [
    "@py5.render(200, 200)\n",
    "def draw_square(s: py5.Sketch, fill_color, square_size):\n",
    "    s.background(240)\n",
    "    s.rect_mode(s.CENTER)\n",
    "    s.fill(*fill_color)\n",
    "    s.rect(s.width / 2, s.height / 2, square_size, square_size)"
   ]
  },
  {
   "cell_type": "markdown",
   "id": "noted-ontario",
   "metadata": {},
   "source": [
    "Now you have an easy to use function that outputs images using the passed parameter values."
   ]
  },
  {
   "cell_type": "code",
   "execution_count": 8,
   "id": "federal-secretary",
   "metadata": {},
   "outputs": [
    {
     "data": {
      "image/png": "[encoded data removed]",
      "text/plain": [
       "<PIL.Image.Image image mode=RGB size=200x200 at 0x7FF4101320A0>"
      ]
     },
     "execution_count": 8,
     "metadata": {},
     "output_type": "execute_result"
    }
   ],
   "source": [
    "draw_square((255, 255, 0), 75)"
   ]
  },
  {
   "cell_type": "markdown",
   "id": "vertical-sheriff",
   "metadata": {},
   "source": [
    "You can make this more interesting with default arguments and the OpenGL renderer."
   ]
  },
  {
   "cell_type": "code",
   "execution_count": 9,
   "id": "historical-pickup",
   "metadata": {},
   "outputs": [],
   "source": [
    "@py5.render(200, 200, py5.P2D)\n",
    "def draw_square(s: py5.Sketch, fill_color, square_size=50):\n",
    "    s.background(240)\n",
    "    s.rect_mode(s.CENTER)\n",
    "    s.fill(*fill_color)\n",
    "    s.rect(s.width / 2, s.height / 2, square_size, square_size)"
   ]
  },
  {
   "cell_type": "code",
   "execution_count": 10,
   "id": "neural-honolulu",
   "metadata": {},
   "outputs": [
    {
     "data": {
      "image/png": "[encoded data removed]",
      "text/plain": [
       "<PIL.Image.Image image mode=RGB size=200x200 at 0x7FF4A57AB400>"
      ]
     },
     "metadata": {},
     "output_type": "display_data"
    },
    {
     "data": {
      "image/png": "[encoded data removed]",
      "text/plain": [
       "<PIL.Image.Image image mode=RGB size=200x200 at 0x7FF4A47226D0>"
      ]
     },
     "metadata": {},
     "output_type": "display_data"
    }
   ],
   "source": [
    "img1 = draw_square((0, 255, 255))\n",
    "img2 = draw_square((255, 0, 0), square_size=10)\n",
    "\n",
    "display(img1, img2)"
   ]
  },
  {
   "cell_type": "markdown",
   "id": "swedish-apollo",
   "metadata": {},
   "source": [
    "Finally, apply what you've learned to make a more interesting example."
   ]
  },
  {
   "cell_type": "code",
   "execution_count": 11,
   "id": "remarkable-jacket",
   "metadata": {},
   "outputs": [],
   "source": [
    "@py5.render(400, 100)\n",
    "def draw_message(s: py5.Sketch, message, color=(255,)):\n",
    "    s.background(0)\n",
    "    s.text_size(40)\n",
    "    s.text_align(s.CENTER, s.CENTER)\n",
    "    s.fill(*color)\n",
    "    s.text(message, s.width / 2, s.height / 2)"
   ]
  },
  {
   "cell_type": "code",
   "execution_count": 12,
   "id": "informal-status",
   "metadata": {},
   "outputs": [
    {
     "data": {
      "image/png": "[encoded data removed]",
      "text/plain": [
       "<PIL.Image.Image image mode=RGB size=400x100 at 0x7FF4A4755C40>"
      ]
     },
     "metadata": {},
     "output_type": "display_data"
    },
    {
     "data": {
      "image/png": "[encoded data removed]",
      "text/plain": [
       "<PIL.Image.Image image mode=RGB size=400x100 at 0x7FF4A4777A60>"
      ]
     },
     "metadata": {},
     "output_type": "display_data"
    },
    {
     "data": {
      "image/png": "[encoded data removed]",
      "text/plain": [
       "<PIL.Image.Image image mode=RGB size=400x100 at 0x7FF4A4777D00>"
      ]
     },
     "metadata": {},
     "output_type": "display_data"
    }
   ],
   "source": [
    "msg1 = draw_message('py5')\n",
    "msg2 = draw_message('is')\n",
    "msg3 = draw_message('awesome!', color=(255, 0, 0))\n",
    "\n",
    "display(msg1, msg2, msg3)"
   ]
  },
  {
   "cell_type": "markdown",
   "id": "promotional-cruise",
   "metadata": {},
   "source": [
    "Assembling that into an animated GIF is easy with the PIL Image library."
   ]
  },
  {
   "cell_type": "code",
   "execution_count": 13,
   "id": "dimensional-buffer",
   "metadata": {},
   "outputs": [],
   "source": [
    "msg1.save('images/render_helper/py5_is_awesome.gif',\n",
    "          save_all=True, duration=500, loop=0, append_images=[msg2, msg3])"
   ]
  },
  {
   "cell_type": "markdown",
   "id": "comfortable-baseball",
   "metadata": {},
   "source": [
    "Here is the animated GIF:\n",
    "\n",
    "![py5 is awesome](images/render_helper/py5_is_awesome.gif)"
   ]
  },
  {
   "cell_type": "markdown",
   "id": "opposite-presentation",
   "metadata": {},
   "source": [
    "# Making a Series of Images\n",
    "\n",
    "The Render Helper Tools can also create a sequence of images for an animation of some kind."
   ]
  },
  {
   "cell_type": "code",
   "execution_count": 14,
   "id": "verbal-heather",
   "metadata": {},
   "outputs": [],
   "source": [
    "def draw_cubes(s: py5.Sketch, cube_size=50):\n",
    "    s.background(255)\n",
    "    s.no_fill()\n",
    "    s.translate(s.width / 2, s.height / 2, 50)\n",
    "    s.rotate_y(s.HALF_PI * s.frame_count / 10)\n",
    "    s.box(cube_size)"
   ]
  },
  {
   "cell_type": "markdown",
   "id": "attended-thousand",
   "metadata": {},
   "source": [
    "Pass the `draw_cubes` function to [render_frame_sequence()](link://slug/render_frame_sequence) to return a list of [PIL Image object](https://pillow.readthedocs.io/en/stable/index.html)."
   ]
  },
  {
   "cell_type": "code",
   "execution_count": 15,
   "id": "handed-nation",
   "metadata": {},
   "outputs": [
    {
     "data": {
      "text/plain": [
       "[<PIL.Image.Image image mode=RGB size=200x200 at 0x7FF4A4755AC0>,\n",
       " <PIL.Image.Image image mode=RGB size=200x200 at 0x7FF4A47664F0>,\n",
       " <PIL.Image.Image image mode=RGB size=200x200 at 0x7FF4A4766BE0>,\n",
       " <PIL.Image.Image image mode=RGB size=200x200 at 0x7FF418043580>,\n",
       " <PIL.Image.Image image mode=RGB size=200x200 at 0x7FF418043D60>,\n",
       " <PIL.Image.Image image mode=RGB size=200x200 at 0x7FF418043D90>,\n",
       " <PIL.Image.Image image mode=RGB size=200x200 at 0x7FF418043070>,\n",
       " <PIL.Image.Image image mode=RGB size=200x200 at 0x7FF418043EE0>,\n",
       " <PIL.Image.Image image mode=RGB size=200x200 at 0x7FF4A47777C0>,\n",
       " <PIL.Image.Image image mode=RGB size=200x200 at 0x7FF4A4777880>]"
      ]
     },
     "execution_count": 15,
     "metadata": {},
     "output_type": "execute_result"
    }
   ],
   "source": [
    "cubes = py5.render_frame_sequence(draw_cubes, 200, 200, py5.P3D, limit=10)\n",
    "\n",
    "cubes"
   ]
  },
  {
   "cell_type": "code",
   "execution_count": 16,
   "id": "biblical-poster",
   "metadata": {},
   "outputs": [
    {
     "data": {
      "image/png": "[encoded data removed]",
      "text/plain": [
       "<PIL.Image.Image image mode=RGB size=200x200 at 0x7FF4A4755AC0>"
      ]
     },
     "metadata": {},
     "output_type": "display_data"
    },
    {
     "data": {
      "image/png": "[encoded data removed]",
      "text/plain": [
       "<PIL.Image.Image image mode=RGB size=200x200 at 0x7FF418043D90>"
      ]
     },
     "metadata": {},
     "output_type": "display_data"
    }
   ],
   "source": [
    "display(cubes[0], cubes[5])"
   ]
  },
  {
   "cell_type": "markdown",
   "id": "fifty-rachel",
   "metadata": {},
   "source": [
    "As before, a decorator is available. [render_sequence()](link://slug/render_sequence) is the decorator equivalent of [render_frame_sequence()](link://slug/render_frame_sequence)."
   ]
  },
  {
   "cell_type": "code",
   "execution_count": 17,
   "id": "chicken-plain",
   "metadata": {},
   "outputs": [],
   "source": [
    "@py5.render_sequence(200, 200, py5.P3D, limit=10)\n",
    "def draw_cubes(s: py5.Sketch, cube_size=50):\n",
    "    s.no_fill()\n",
    "    s.background(255)\n",
    "    s.translate(s.width / 2, s.height / 2, 50)\n",
    "    s.rotate_y(s.HALF_PI * s.frame_count / 10)\n",
    "    s.box(cube_size)"
   ]
  },
  {
   "cell_type": "code",
   "execution_count": 18,
   "id": "democratic-listing",
   "metadata": {},
   "outputs": [
    {
     "data": {
      "image/png": "[encoded data removed]",
      "text/plain": [
       "<PIL.Image.Image image mode=RGB size=200x200 at 0x7FF4A476C430>"
      ]
     },
     "metadata": {},
     "output_type": "display_data"
    },
    {
     "data": {
      "image/png": "[encoded data removed]",
      "text/plain": [
       "<PIL.Image.Image image mode=RGB size=200x200 at 0x7FF4A4777070>"
      ]
     },
     "metadata": {},
     "output_type": "display_data"
    }
   ],
   "source": [
    "cubes = draw_cubes(75)\n",
    "\n",
    "display(cubes[0], cubes[5])"
   ]
  },
  {
   "cell_type": "markdown",
   "id": "crucial-trunk",
   "metadata": {},
   "source": [
    "Normally py5 sketches have a `setup()` method that is run once at the beginning of the animation. This method might be used to configure fill and stroke settings that should apply for every frame of the animation. You could leave those kinds of commands in the `draw_cubes()` function, but it might be nice to be able to break it out into a seperate `cube_setup()` function, like so:"
   ]
  },
  {
   "cell_type": "code",
   "execution_count": 19,
   "id": "regular-found",
   "metadata": {},
   "outputs": [],
   "source": [
    "def cube_setup(s: py5.Sketch):\n",
    "    s.no_fill()\n",
    "    s.stroke_weight(3)\n",
    "\n",
    "@py5.render_sequence(200, 200, py5.P3D, limit=10, setup=cube_setup)\n",
    "def draw_cubes(s: py5.Sketch, cube_size=50):\n",
    "    s.background(255)\n",
    "    s.translate(s.width / 2, s.height / 2, 50)\n",
    "    s.rotate_y(s.HALF_PI * s.frame_count / 10)\n",
    "    s.box(cube_size)"
   ]
  },
  {
   "cell_type": "markdown",
   "id": "incorporate-cylinder",
   "metadata": {},
   "source": [
    "Now use the `draw_cubes` function and create an animated GIF."
   ]
  },
  {
   "cell_type": "code",
   "execution_count": 20,
   "id": "greenhouse-moses",
   "metadata": {},
   "outputs": [],
   "source": [
    "cubes = draw_cubes(75)\n",
    "\n",
    "first_cube = cubes[0]\n",
    "first_cube.save('images/render_helper/rotating_cube.gif',\n",
    "                save_all=True, duration=100, loop=0, append_images=cubes[1:])"
   ]
  },
  {
   "cell_type": "markdown",
   "id": "black-focus",
   "metadata": {},
   "source": [
    "Here is the GIF:\n",
    "\n",
    "![rotating cube](images/render_helper/rotating_cube.gif)"
   ]
  },
  {
   "cell_type": "markdown",
   "id": "extraordinary-margin",
   "metadata": {},
   "source": [
    "In the previous example the [frame_count](link://slug/frame_count) field was used to drive the animation, rotating the cube by a different angle in each frame. It worked well, but it might not always be easy or convenient to link changing animation state to [frame_count](link://slug/frame_count). An alternative approach is to use the Python `global` keyword.\n",
    "\n",
    "Below is the same example as before, but without depending on [frame_count](link://slug/frame_count)."
   ]
  },
  {
   "cell_type": "code",
   "execution_count": 21,
   "id": "minor-theme",
   "metadata": {},
   "outputs": [],
   "source": [
    "rot_y = 0\n",
    "\n",
    "@py5.render_sequence(200, 200, py5.P3D, limit=10, setup=cube_setup)\n",
    "def draw_cubes(s: py5.Sketch, cube_size=50):\n",
    "    s.background(255)\n",
    "    s.translate(s.width / 2, s.height / 2, 50)\n",
    "    # rot_y gets updated with each frame, changing the state\n",
    "    global rot_y\n",
    "    rot_y += s.HALF_PI / 10\n",
    "    s.rotate_y(rot_y)\n",
    "    s.box(cube_size)"
   ]
  },
  {
   "cell_type": "code",
   "execution_count": 22,
   "id": "numerical-maine",
   "metadata": {},
   "outputs": [],
   "source": [
    "cubes = draw_cubes(75)"
   ]
  },
  {
   "cell_type": "code",
   "execution_count": 23,
   "id": "confident-citizenship",
   "metadata": {},
   "outputs": [
    {
     "data": {
      "image/png": "[encoded data removed]",
      "text/plain": [
       "<PIL.Image.Image image mode=RGB size=200x200 at 0x7FF4A4736A30>"
      ]
     },
     "metadata": {},
     "output_type": "display_data"
    },
    {
     "data": {
      "image/png": "[encoded data removed]",
      "text/plain": [
       "<PIL.Image.Image image mode=RGB size=200x200 at 0x7FF4101328B0>"
      ]
     },
     "metadata": {},
     "output_type": "display_data"
    }
   ],
   "source": [
    "display(cubes[0], cubes[5])"
   ]
  },
  {
   "cell_type": "markdown",
   "id": "voluntary-flour",
   "metadata": {},
   "source": [
    "# A Caveat\n",
    "\n",
    "In both Processing and py5 it is unwise or impossible to run a sketch inside of another sketch.\n",
    "\n",
    "These Render Helper Tools are creating and running sketches to provide their functionality. Although you might be tempted to do so, I do not recommend you use them in any way that places them inside of another running sketch."
   ]
  }
 ],
 "metadata": {
  "kernelspec": {
   "display_name": "Python 3",
   "language": "python",
   "name": "python3"
  },
  "language_info": {
   "codemirror_mode": {
    "name": "ipython",
    "version": 3
   },
   "file_extension": ".py",
   "mimetype": "text/x-python",
   "name": "python",
   "nbconvert_exporter": "python",
   "pygments_lexer": "ipython3",
   "version": "3.8.6"
  },
  "nikola": {
   "date": "2021-02-04 16:44:12 EST",
   "filters": "python scripts/adjust_notebook_img_link.py '%s'",
   "slug": "render-helper-tools",
   "title": "Render Helper Tools"
  }
 },
 "nbformat": 4,
 "nbformat_minor": 5
}
