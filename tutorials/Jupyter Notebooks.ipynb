{
 "cells": [
  {
   "cell_type": "markdown",
   "metadata": {},
   "source": [
    "The py5 library is designed to work well with Jupyter tools, including Jupyter notebook. There are included IPython magics that are useful for supporting your development and documentation efforts as well as your creative endeavors. Used well, they can greatly enhance your programming workflow.\n",
    "\n",
    "To use py5 in a notebook, first import the library:"
   ]
  },
  {
   "cell_type": "code",
   "execution_count": 1,
   "metadata": {},
   "outputs": [
    {
     "data": {
      "text/plain": [
       "'0.3a3'"
      ]
     },
     "execution_count": 1,
     "metadata": {},
     "output_type": "execute_result"
    }
   ],
   "source": [
    "import py5\n",
    "py5.__version__"
   ]
  },
  {
   "cell_type": "markdown",
   "metadata": {},
   "source": [
    "# Getting Help\n",
    "\n",
    "Before continuing, it is worth pointing out that you can access the docstrings for any py5 functions by appending a `?` to the end of the function, or with the builtin `help` function.\n",
    "\n",
    "Using the `?` which something like `py5.rect?` temporarily displays the documentation at the bottom of the notebook window. The builtin `help` function puts the result in the notebook cell."
   ]
  },
  {
   "cell_type": "code",
   "execution_count": 2,
   "metadata": {},
   "outputs": [
    {
     "name": "stdout",
     "output_type": "stream",
     "text": [
      "Help on function rect in module py5:\n",
      "\n",
      "rect(*args)\n",
      "    Draws a rectangle to the screen.\n",
      "    \n",
      "    Underlying Java method: PApplet.rect\n",
      "    \n",
      "    Methods\n",
      "    -------\n",
      "    \n",
      "    You can use any of the following signatures:\n",
      "    \n",
      "     * rect(a: float, b: float, c: float, d: float, /) -> None\n",
      "     * rect(a: float, b: float, c: float, d: float, r: float, /) -> None\n",
      "     * rect(a: float, b: float, c: float, d: float, tl: float, tr: float, br: float, bl: float, /) -> None\n",
      "    \n",
      "    Parameters\n",
      "    ----------\n",
      "    \n",
      "    a: float\n",
      "        x-coordinate of the rectangle by default\n",
      "    \n",
      "    b: float\n",
      "        y-coordinate of the rectangle by default\n",
      "    \n",
      "    bl: float\n",
      "        radius for bottom-left corner\n",
      "    \n",
      "    br: float\n",
      "        radius for bottom-right corner\n",
      "    \n",
      "    c: float\n",
      "        width of the rectangle by default\n",
      "    \n",
      "    d: float\n",
      "        height of the rectangle by default\n",
      "    \n",
      "    r: float\n",
      "        radii for all four corners\n",
      "    \n",
      "    tl: float\n",
      "        radius for top-left corner\n",
      "    \n",
      "    tr: float\n",
      "        radius for top-right corner\n",
      "    \n",
      "    Notes\n",
      "    -----\n",
      "    \n",
      "    Draws a rectangle to the screen. A rectangle is a four-sided shape with every\n",
      "    angle at ninety degrees. By default, the first two parameters set the location\n",
      "    of the upper-left corner, the third sets the width, and the fourth sets the\n",
      "    height. The way these parameters are interpreted, however, may be changed with\n",
      "    the ``rect_mode()`` function.\n",
      "    \n",
      "    To draw a rounded rectangle, add a fifth parameter, which is used as the radius\n",
      "    value for all four corners.\n",
      "    \n",
      "    To use a different radius value for each corner, include eight parameters. When\n",
      "    using eight parameters, the latter four set the radius of the arc at each corner\n",
      "    separately, starting with the top-left corner and moving clockwise around the\n",
      "    rectangle.\n",
      "\n"
     ]
    }
   ],
   "source": [
    "help(py5.rect)"
   ]
  },
  {
   "cell_type": "markdown",
   "metadata": {},
   "source": [
    "Pause to take a moment to appreciate that documentation, with its proper type signatures and explicit variable types. You'll also notice the content is identical what is in the [rect()](link://slug/rect) reference documentation.\n",
    "\n",
    "Producing thorough and coordinated py5 docstrings and reference documentation like this took an enormous amount of work.\n",
    "\n",
    "You'll also notice that all the usual Jupyter niceties such as tab completion work for py5. "
   ]
  },
  {
   "cell_type": "markdown",
   "metadata": {},
   "source": [
    "# Load IPython Magics\n",
    "\n",
    "Next, load the py5 magics:"
   ]
  },
  {
   "cell_type": "code",
   "execution_count": 3,
   "metadata": {},
   "outputs": [],
   "source": [
    "%load_ext py5"
   ]
  },
  {
   "cell_type": "markdown",
   "metadata": {},
   "source": [
    "These \"magic\" commands are like extra functionality added to what Python and Jupyter notebooks can already do.\n",
    "\n",
    "The py5 magics all start with \"py5\".\n",
    "\n",
    "The line magics are:\n",
    "\n",
    "* %py5animatedgif\n",
    "* %py5screencapture\n",
    "* %py5screenshot\n",
    "\n",
    "and the cell magics are:\n",
    "\n",
    "* %%py5draw\n",
    "* %%py5drawdxf\n",
    "* %%py5drawpdf\n",
    "* %%py5drawsvg\n",
    "\n",
    "As before, documentation for each is available by appending a `?`, such as when you type `%%py5draw?` in an empty cell. The builtin `help` function does not work with IPython magics.\n",
    "\n",
    "See below for demonstrations of what each does."
   ]
  },
  {
   "cell_type": "markdown",
   "metadata": {},
   "source": [
    "# Static Sketches\n",
    "\n",
    "The below example creates a static image with some simple shapes.\n",
    "\n",
    "The first line in the cell, `%%py5draw 300 200`, is not Python code. Instead, it is a command to Jupyter itself, instructing it to send the rest of the cell's contents to a special py5 draw function.\n",
    "\n",
    "Observe that there are no defined `setup` or `draw` functions."
   ]
  },
  {
   "cell_type": "code",
   "execution_count": 4,
   "metadata": {},
   "outputs": [
    {
     "data": {
      "image/png": "[encoded data removed]",
      "text/plain": [
       "<IPython.core.display.Image object>"
      ]
     },
     "metadata": {},
     "output_type": "display_data"
    }
   ],
   "source": [
    "%%py5draw 300 200\n",
    "\n",
    "# make the background light gray\n",
    "py5.background(240)\n",
    "\n",
    "# draw a red square\n",
    "py5.fill(255, 0, 0)\n",
    "py5.rect_mode(py5.CENTER)\n",
    "py5.rect(170, 80, 100, 100)\n",
    "\n",
    "# add a thick green line\n",
    "py5.stroke(0, 255, 0)\n",
    "py5.stroke_weight(15)\n",
    "py5.line(40, 30, 220, 180)"
   ]
  },
  {
   "cell_type": "markdown",
   "metadata": {},
   "source": [
    "The code can access variables and functions defined in other non-magic notebook cells. This is especially useful when the code leverages py5 functionality.\n",
    "\n",
    "For example, the below function sets the fill color to a random color."
   ]
  },
  {
   "cell_type": "code",
   "execution_count": 5,
   "metadata": {},
   "outputs": [],
   "source": [
    "def pick_random_fill():\n",
    "    py5.fill(py5.random(255), py5.random(255), py5.random(255))"
   ]
  },
  {
   "cell_type": "markdown",
   "metadata": {},
   "source": [
    "The below example uses `pick_random_fill` to draw randomly colored rectangles. This example is a bit contrived, but you do see how the code below can call a function defined elsewhere."
   ]
  },
  {
   "cell_type": "code",
   "execution_count": 6,
   "metadata": {},
   "outputs": [
    {
     "data": {
      "image/png": "[encoded data removed]",
      "text/plain": [
       "<IPython.core.display.Image object>"
      ]
     },
     "metadata": {},
     "output_type": "display_data"
    }
   ],
   "source": [
    "%%py5draw 300 200\n",
    "\n",
    "py5.background(240)\n",
    "py5.rect_mode(py5.CENTER)\n",
    "\n",
    "for i in range(100):\n",
    "    pick_random_fill()\n",
    "    py5.rect(py5.random(py5.width), py5.random(py5.height), 10, 10)"
   ]
  },
  {
   "cell_type": "markdown",
   "metadata": {},
   "source": [
    "The `pick_random_fill` function can be reused again elsewhere in this notebook.\n",
    "\n",
    "By default, any new functions and variables defined in that `%%py5draw` cell are not available outside of the cell. However, you can explicitly change this. See below for further discussion."
   ]
  },
  {
   "cell_type": "markdown",
   "metadata": {},
   "source": [
    "## Saving to a File\n",
    "\n",
    "If you like you can save the generated image to a file with the `-f` parameter, like so:"
   ]
  },
  {
   "cell_type": "code",
   "execution_count": 7,
   "metadata": {},
   "outputs": [
    {
     "name": "stdout",
     "output_type": "stream",
     "text": [
      "PNG file written to images/jupyter_notebooks/simple_example.png\n"
     ]
    },
    {
     "data": {
      "image/png": "[encoded data removed]",
      "text/plain": [
       "<IPython.core.display.Image object>"
      ]
     },
     "metadata": {},
     "output_type": "display_data"
    }
   ],
   "source": [
    "%%py5draw 300 200 -f images/jupyter_notebooks/simple_example.png\n",
    "\n",
    "py5.background(240)\n",
    "py5.rect_mode(py5.CENTER)\n",
    "\n",
    "for i in range(100):\n",
    "    pick_random_fill()\n",
    "    py5.rect(py5.random(py5.width), py5.random(py5.height), 10, 10)"
   ]
  },
  {
   "cell_type": "markdown",
   "metadata": {},
   "source": [
    "Now there's an image on my computer located at `images/jupyter_notebooks/simple_example.png`. I can embed that in this notebook using markdown.\n",
    "\n",
    "![asdf](images/jupyter_notebooks/simple_example.png)"
   ]
  },
  {
   "cell_type": "markdown",
   "metadata": {},
   "source": [
    "## OpenGL Renderers\n",
    "\n",
    "You can also use the OpenGL renderers with the `-r` parameter, like so."
   ]
  },
  {
   "cell_type": "code",
   "execution_count": 8,
   "metadata": {},
   "outputs": [
    {
     "data": {
      "image/png": "[encoded data removed]",
      "text/plain": [
       "<IPython.core.display.Image object>"
      ]
     },
     "metadata": {},
     "output_type": "display_data"
    }
   ],
   "source": [
    "%%py5draw 300 200 -r P2D\n",
    "\n",
    "py5.background(240)\n",
    "py5.rect_mode(py5.CENTER)\n",
    "\n",
    "for i in range(100):\n",
    "    pick_random_fill()\n",
    "    py5.rect(py5.random(py5.width), py5.random(py5.height), 10, 10)"
   ]
  },
  {
   "cell_type": "markdown",
   "metadata": {},
   "source": [
    "When that cell runs, a py5 window is quickly opened and closed. For whatever reason, the Processing's OpenGL renderers cannot draw to an invisible window (but I would be delighted to be proven wrong about that).\n",
    "\n",
    "The previous `%%py5draw` examples in this notebook used a special `HIDDEN` renderer based on the default `JAVA2D` renderer that does not need to open a window. That `HIDDEN` renderer was created just for this purpose. Despite my best efforts, I couldn't create similar renderers based on the OpenGL renderers `P2D` and `P3D`.\n",
    "\n",
    "The 3D renderer also works:"
   ]
  },
  {
   "cell_type": "code",
   "execution_count": 9,
   "metadata": {},
   "outputs": [
    {
     "data": {
      "image/png": "[encoded data removed]",
      "text/plain": [
       "<IPython.core.display.Image object>"
      ]
     },
     "metadata": {},
     "output_type": "display_data"
    }
   ],
   "source": [
    "%%py5draw 300 300 -r P3D\n",
    "\n",
    "py5.background(240)\n",
    "\n",
    "N = 10\n",
    "\n",
    "for i in range(N):\n",
    "    py5.push_matrix()\n",
    "    pick_random_fill()\n",
    "    py5.translate(i * py5.width / N, i * py5.width / N, i * 20 - 200)\n",
    "    py5.box(40)\n",
    "    py5.pop_matrix()"
   ]
  },
  {
   "cell_type": "markdown",
   "metadata": {},
   "source": [
    "## SVG Renderer\n",
    "\n",
    "To create SVG images, use the `%%py5drawsvg` magic.\n",
    "\n",
    "As before, the result can be saved to a file with the `-f` parameter."
   ]
  },
  {
   "cell_type": "code",
   "execution_count": 10,
   "metadata": {},
   "outputs": [
    {
     "name": "stdout",
     "output_type": "stream",
     "text": [
      "SVG drawing written to /tmp/test.svg\n"
     ]
    },
    {
     "data": {
      "image/svg+xml": [
       "<svg xmlns:xlink=\"http://www.w3.org/1999/xlink\" xmlns=\"http://www.w3.org/2000/svg\" style=\"fill-opacity:1; color-rendering:auto; color-interpolation:auto; text-rendering:auto; stroke:black; stroke-linecap:square; stroke-miterlimit:10; shape-rendering:auto; stroke-opacity:1; fill:black; stroke-dasharray:none; font-weight:normal; stroke-width:1; font-family:'Dialog'; font-style:normal; stroke-linejoin:miter; font-size:12px; stroke-dashoffset:0; image-rendering:auto;\" width=\"300\" height=\"200\"><!--Generated by the Batik Graphics2D SVG Generator--><defs id=\"genericDefs\"/><g><g style=\"stroke-linecap:round; fill:rgb(204,204,204); stroke:rgb(204,204,204);\"><rect x=\"0\" width=\"300\" height=\"200\" y=\"0\" style=\"stroke:none;\"/></g><g style=\"stroke-linecap:round; fill:rgb(240,240,240); stroke:rgb(240,240,240);\"><rect x=\"0\" width=\"300\" height=\"200\" y=\"0\" style=\"stroke:none;\"/></g><g style=\"stroke-linecap:round; fill:rgb(188,20,22); stroke:rgb(188,20,22);\"><rect x=\"12.2902\" width=\"10\" height=\"10\" y=\"19.6383\" style=\"stroke:none;\"/><rect x=\"12.2902\" y=\"19.6383\" width=\"10\" style=\"fill:none; stroke:black;\" height=\"10\"/><rect x=\"270.035\" y=\"99.5908\" width=\"10\" style=\"fill:rgb(73,151,222); stroke:none;\" height=\"10\"/><rect x=\"270.035\" y=\"99.5908\" width=\"10\" style=\"fill:none; stroke:black;\" height=\"10\"/><rect x=\"151.6927\" y=\"190.3524\" width=\"10\" style=\"fill:rgb(131,31,110); stroke:none;\" height=\"10\"/><rect x=\"151.6927\" y=\"190.3524\" width=\"10\" style=\"fill:none; stroke:black;\" height=\"10\"/><rect x=\"113.1509\" y=\"183.4128\" width=\"10\" style=\"fill:rgb(32,141,131); stroke:none;\" height=\"10\"/><rect x=\"113.1509\" y=\"183.4128\" width=\"10\" style=\"fill:none; stroke:black;\" height=\"10\"/><rect x=\"292.5095\" y=\"64.77\" width=\"10\" style=\"fill:rgb(57,19,56); stroke:none;\" height=\"10\"/><rect x=\"292.5095\" y=\"64.77\" width=\"10\" style=\"fill:none; stroke:black;\" height=\"10\"/><rect x=\"169.5624\" y=\"70.3162\" width=\"10\" style=\"fill:rgb(205,142,239); stroke:none;\" height=\"10\"/><rect x=\"169.5624\" y=\"70.3162\" width=\"10\" style=\"fill:none; stroke:black;\" height=\"10\"/><rect x=\"271.6759\" y=\"30.1615\" width=\"10\" style=\"fill:rgb(129,104,252); stroke:none;\" height=\"10\"/><rect x=\"271.6759\" y=\"30.1615\" width=\"10\" style=\"fill:none; stroke:black;\" height=\"10\"/><rect x=\"203.4748\" y=\"82.3287\" width=\"10\" style=\"fill:rgb(53,177,135); stroke:none;\" height=\"10\"/><rect x=\"203.4748\" y=\"82.3287\" width=\"10\" style=\"fill:none; stroke:black;\" height=\"10\"/><rect x=\"78.9377\" y=\"16.1978\" width=\"10\" style=\"fill:rgb(18,245,14); stroke:none;\" height=\"10\"/><rect x=\"78.9377\" y=\"16.1978\" width=\"10\" style=\"fill:none; stroke:black;\" height=\"10\"/><rect x=\"30.9897\" y=\"69.0388\" width=\"10\" style=\"fill:rgb(252,92,154); stroke:none;\" height=\"10\"/><rect x=\"30.9897\" y=\"69.0388\" width=\"10\" style=\"fill:none; stroke:black;\" height=\"10\"/><rect x=\"210.6211\" y=\"76.8466\" width=\"10\" style=\"fill:rgb(208,31,212); stroke:none;\" height=\"10\"/><rect x=\"210.6211\" y=\"76.8466\" width=\"10\" style=\"fill:none; stroke:black;\" height=\"10\"/><rect x=\"209.1873\" y=\"19.0362\" width=\"10\" style=\"fill:rgb(112,127,183); stroke:none;\" height=\"10\"/><rect x=\"209.1873\" y=\"19.0362\" width=\"10\" style=\"fill:none; stroke:black;\" height=\"10\"/><rect x=\"248.801\" y=\"80.9523\" width=\"10\" style=\"fill:rgb(207,175,142); stroke:none;\" height=\"10\"/><rect x=\"248.801\" y=\"80.9523\" width=\"10\" style=\"fill:none; stroke:black;\" height=\"10\"/><rect x=\"241.1827\" y=\"154.9456\" width=\"10\" style=\"fill:rgb(87,183,114); stroke:none;\" height=\"10\"/><rect x=\"241.1827\" y=\"154.9456\" width=\"10\" style=\"fill:none; stroke:black;\" height=\"10\"/><rect x=\"175.2509\" y=\"86.8133\" width=\"10\" style=\"fill:rgb(8,141,226); stroke:none;\" height=\"10\"/><rect x=\"175.2509\" y=\"86.8133\" width=\"10\" style=\"fill:none; stroke:black;\" height=\"10\"/><rect x=\"102.2819\" y=\"6.6684\" width=\"10\" style=\"fill:rgb(147,87,170); stroke:none;\" height=\"10\"/><rect x=\"102.2819\" y=\"6.6684\" width=\"10\" style=\"fill:none; stroke:black;\" height=\"10\"/><rect x=\"280.8707\" y=\"193.3183\" width=\"10\" style=\"fill:rgb(157,247,92); stroke:none;\" height=\"10\"/><rect x=\"280.8707\" y=\"193.3183\" width=\"10\" style=\"fill:none; stroke:black;\" height=\"10\"/><rect x=\"137.9578\" y=\"60.9498\" width=\"10\" style=\"fill:rgb(46,70,62); stroke:none;\" height=\"10\"/><rect x=\"137.9578\" y=\"60.9498\" width=\"10\" style=\"fill:none; stroke:black;\" height=\"10\"/><rect x=\"253.4253\" y=\"42.786\" width=\"10\" style=\"fill:rgb(101,124,173); stroke:none;\" height=\"10\"/><rect x=\"253.4253\" y=\"42.786\" width=\"10\" style=\"fill:none; stroke:black;\" height=\"10\"/><rect x=\"58.6546\" y=\"131.2312\" width=\"10\" style=\"fill:rgb(131,7,89); stroke:none;\" height=\"10\"/><rect x=\"58.6546\" y=\"131.2312\" width=\"10\" style=\"fill:none; stroke:black;\" height=\"10\"/><rect x=\"184.7306\" y=\"165.442\" width=\"10\" style=\"fill:rgb(221,92,201); stroke:none;\" height=\"10\"/><rect x=\"184.7306\" y=\"165.442\" width=\"10\" style=\"fill:none; stroke:black;\" height=\"10\"/><rect x=\"81.7171\" y=\"115.6225\" width=\"10\" style=\"fill:rgb(18,138,99); stroke:none;\" height=\"10\"/><rect x=\"81.7171\" y=\"115.6225\" width=\"10\" style=\"fill:none; stroke:black;\" height=\"10\"/><rect x=\"94.8357\" y=\"189.489\" width=\"10\" style=\"fill:rgb(30,5,111); stroke:none;\" height=\"10\"/><rect x=\"94.8357\" y=\"189.489\" width=\"10\" style=\"fill:none; stroke:black;\" height=\"10\"/><rect x=\"267.4716\" y=\"149.0919\" width=\"10\" style=\"fill:rgb(134,123,61); stroke:none;\" height=\"10\"/><rect x=\"267.4716\" y=\"149.0919\" width=\"10\" style=\"fill:none; stroke:black;\" height=\"10\"/><rect x=\"233.4379\" y=\"32.1711\" width=\"10\" style=\"fill:rgb(197,172,52); stroke:none;\" height=\"10\"/><rect x=\"233.4379\" y=\"32.1711\" width=\"10\" style=\"fill:none; stroke:black;\" height=\"10\"/><rect x=\"257.5946\" y=\"51.5282\" width=\"10\" style=\"fill:rgb(239,143,164); stroke:none;\" height=\"10\"/><rect x=\"257.5946\" y=\"51.5282\" width=\"10\" style=\"fill:none; stroke:black;\" height=\"10\"/><rect x=\"217.1124\" y=\"125.4827\" width=\"10\" style=\"fill:rgb(129,131,226); stroke:none;\" height=\"10\"/><rect x=\"217.1124\" y=\"125.4827\" width=\"10\" style=\"fill:none; stroke:black;\" height=\"10\"/><rect x=\"107.2353\" y=\"169.0743\" width=\"10\" style=\"fill:rgb(183,84,51); stroke:none;\" height=\"10\"/><rect x=\"107.2353\" y=\"169.0743\" width=\"10\" style=\"fill:none; stroke:black;\" height=\"10\"/><rect x=\"290.4896\" y=\"5.6889\" width=\"10\" style=\"fill:rgb(99,179,71); stroke:none;\" height=\"10\"/><rect x=\"290.4896\" y=\"5.6889\" width=\"10\" style=\"fill:none; stroke:black;\" height=\"10\"/><rect x=\"5.3257\" y=\"170.2971\" width=\"10\" style=\"fill:rgb(161,23,102); stroke:none;\" height=\"10\"/><rect x=\"5.3257\" y=\"170.2971\" width=\"10\" style=\"fill:none; stroke:black;\" height=\"10\"/><rect x=\"227.1585\" y=\"6.9031\" width=\"10\" style=\"fill:rgb(22,165,107); stroke:none;\" height=\"10\"/><rect x=\"227.1585\" y=\"6.9031\" width=\"10\" style=\"fill:none; stroke:black;\" height=\"10\"/><rect x=\"64.2417\" y=\"62.8874\" width=\"10\" style=\"fill:rgb(83,225,224); stroke:none;\" height=\"10\"/><rect x=\"64.2417\" y=\"62.8874\" width=\"10\" style=\"fill:none; stroke:black;\" height=\"10\"/><rect x=\"202.0723\" y=\"182.5819\" width=\"10\" style=\"fill:rgb(33,25,169); stroke:none;\" height=\"10\"/><rect x=\"202.0723\" y=\"182.5819\" width=\"10\" style=\"fill:none; stroke:black;\" height=\"10\"/><rect x=\"104.9695\" y=\"86.964\" width=\"10\" style=\"fill:rgb(118,141,85); stroke:none;\" height=\"10\"/><rect x=\"104.9695\" y=\"86.964\" width=\"10\" style=\"fill:none; stroke:black;\" height=\"10\"/><rect x=\"182.5089\" y=\"107.8228\" width=\"10\" style=\"fill:rgb(20,53,39); stroke:none;\" height=\"10\"/><rect x=\"182.5089\" y=\"107.8228\" width=\"10\" style=\"fill:none; stroke:black;\" height=\"10\"/><rect x=\"195.3966\" y=\"55.0492\" width=\"10\" style=\"fill:rgb(214,215,90); stroke:none;\" height=\"10\"/><rect x=\"195.3966\" y=\"55.0492\" width=\"10\" style=\"fill:none; stroke:black;\" height=\"10\"/><rect x=\"228.3378\" y=\"163.8416\" width=\"10\" style=\"fill:rgb(190,89,65); stroke:none;\" height=\"10\"/><rect x=\"228.3378\" y=\"163.8416\" width=\"10\" style=\"fill:none; stroke:black;\" height=\"10\"/><rect x=\"176.8249\" y=\"77.7986\" width=\"10\" style=\"fill:rgb(248,24,150); stroke:none;\" height=\"10\"/><rect x=\"176.8249\" y=\"77.7986\" width=\"10\" style=\"fill:none; stroke:black;\" height=\"10\"/><rect x=\"89.1096\" y=\"80.0877\" width=\"10\" style=\"fill:rgb(127,20,59); stroke:none;\" height=\"10\"/><rect x=\"89.1096\" y=\"80.0877\" width=\"10\" style=\"fill:none; stroke:black;\" height=\"10\"/><rect x=\"239.8297\" y=\"165.6229\" width=\"10\" style=\"fill:rgb(23,82,52); stroke:none;\" height=\"10\"/><rect x=\"239.8297\" y=\"165.6229\" width=\"10\" style=\"fill:none; stroke:black;\" height=\"10\"/><rect x=\"77.2063\" y=\"161.8222\" width=\"10\" style=\"fill:rgb(8,244,97); stroke:none;\" height=\"10\"/><rect x=\"77.2063\" y=\"161.8222\" width=\"10\" style=\"fill:none; stroke:black;\" height=\"10\"/><rect x=\"187.1982\" y=\"140.2166\" width=\"10\" style=\"fill:rgb(176,76,249); stroke:none;\" height=\"10\"/><rect x=\"187.1982\" y=\"140.2166\" width=\"10\" style=\"fill:none; stroke:black;\" height=\"10\"/><rect x=\"-3.1979\" y=\"67.5282\" width=\"10\" style=\"fill:rgb(206,142,104); stroke:none;\" height=\"10\"/><rect x=\"-3.1979\" y=\"67.5282\" width=\"10\" style=\"fill:none; stroke:black;\" height=\"10\"/><rect x=\"49.9756\" y=\"54.1879\" width=\"10\" style=\"fill:rgb(243,48,141); stroke:none;\" height=\"10\"/><rect x=\"49.9756\" y=\"54.1879\" width=\"10\" style=\"fill:none; stroke:black;\" height=\"10\"/><rect x=\"69.7515\" y=\"174.7214\" width=\"10\" style=\"fill:rgb(180,7,9); stroke:none;\" height=\"10\"/><rect x=\"69.7515\" y=\"174.7214\" width=\"10\" style=\"fill:none; stroke:black;\" height=\"10\"/><rect x=\"27.246\" y=\"101.922\" width=\"10\" style=\"fill:rgb(206,63,243); stroke:none;\" height=\"10\"/><rect x=\"27.246\" y=\"101.922\" width=\"10\" style=\"fill:none; stroke:black;\" height=\"10\"/><rect x=\"167.0867\" y=\"65.8594\" width=\"10\" style=\"fill:rgb(88,191,42); stroke:none;\" height=\"10\"/><rect x=\"167.0867\" y=\"65.8594\" width=\"10\" style=\"fill:none; stroke:black;\" height=\"10\"/><rect x=\"144.9725\" y=\"31.2405\" width=\"10\" style=\"fill:rgb(94,193,8); stroke:none;\" height=\"10\"/><rect x=\"144.9725\" y=\"31.2405\" width=\"10\" style=\"fill:none; stroke:black;\" height=\"10\"/><rect x=\"134.7082\" y=\"186.8526\" width=\"10\" style=\"fill:rgb(113,183,83); stroke:none;\" height=\"10\"/><rect x=\"134.7082\" y=\"186.8526\" width=\"10\" style=\"fill:none; stroke:black;\" height=\"10\"/><rect x=\"205.1363\" y=\"41.8914\" width=\"10\" style=\"fill:rgb(60,104,58); stroke:none;\" height=\"10\"/><rect x=\"205.1363\" y=\"41.8914\" width=\"10\" style=\"fill:none; stroke:black;\" height=\"10\"/><rect x=\"11.3708\" y=\"35.5391\" width=\"10\" style=\"fill:rgb(102,8,46); stroke:none;\" height=\"10\"/><rect x=\"11.3708\" y=\"35.5391\" width=\"10\" style=\"fill:none; stroke:black;\" height=\"10\"/><rect x=\"238.0047\" y=\"24.3639\" width=\"10\" style=\"fill:rgb(11,201,18); stroke:none;\" height=\"10\"/><rect x=\"238.0047\" y=\"24.3639\" width=\"10\" style=\"fill:none; stroke:black;\" height=\"10\"/><rect x=\"87.4103\" y=\"190.1511\" width=\"10\" style=\"fill:rgb(11,177,120); stroke:none;\" height=\"10\"/><rect x=\"87.4103\" y=\"190.1511\" width=\"10\" style=\"fill:none; stroke:black;\" height=\"10\"/><rect x=\"169.8282\" y=\"138.7495\" width=\"10\" style=\"fill:rgb(59,245,143); stroke:none;\" height=\"10\"/><rect x=\"169.8282\" y=\"138.7495\" width=\"10\" style=\"fill:none; stroke:black;\" height=\"10\"/><rect x=\"223.8849\" y=\"153.5936\" width=\"10\" style=\"fill:rgb(22,108,202); stroke:none;\" height=\"10\"/><rect x=\"223.8849\" y=\"153.5936\" width=\"10\" style=\"fill:none; stroke:black;\" height=\"10\"/><rect x=\"251.4152\" y=\"9.0651\" width=\"10\" style=\"fill:rgb(55,64,51); stroke:none;\" height=\"10\"/><rect x=\"251.4152\" y=\"9.0651\" width=\"10\" style=\"fill:none; stroke:black;\" height=\"10\"/><rect x=\"189.2728\" y=\"24.4098\" width=\"10\" style=\"fill:rgb(212,92,231); stroke:none;\" height=\"10\"/><rect x=\"189.2728\" y=\"24.4098\" width=\"10\" style=\"fill:none; stroke:black;\" height=\"10\"/><rect x=\"196.2512\" y=\"183.7722\" width=\"10\" style=\"fill:rgb(239,184,194); stroke:none;\" height=\"10\"/><rect x=\"196.2512\" y=\"183.7722\" width=\"10\" style=\"fill:none; stroke:black;\" height=\"10\"/><rect x=\"23.517\" y=\"94.2544\" width=\"10\" style=\"fill:rgb(89,71,200); stroke:none;\" height=\"10\"/><rect x=\"23.517\" y=\"94.2544\" width=\"10\" style=\"fill:none; stroke:black;\" height=\"10\"/><rect x=\"270.924\" y=\"120.1612\" width=\"10\" style=\"fill:rgb(147,175,215); stroke:none;\" height=\"10\"/><rect x=\"270.924\" y=\"120.1612\" width=\"10\" style=\"fill:none; stroke:black;\" height=\"10\"/><rect x=\"76.9274\" y=\"75.5903\" width=\"10\" style=\"fill:rgb(221,108,249); stroke:none;\" height=\"10\"/><rect x=\"76.9274\" y=\"75.5903\" width=\"10\" style=\"fill:none; stroke:black;\" height=\"10\"/><rect x=\"267.8324\" y=\"107.6677\" width=\"10\" style=\"fill:rgb(153,153,177); stroke:none;\" height=\"10\"/><rect x=\"267.8324\" y=\"107.6677\" width=\"10\" style=\"fill:none; stroke:black;\" height=\"10\"/><rect x=\"240.2199\" y=\"82.3208\" width=\"10\" style=\"fill:rgb(133,237,182); stroke:none;\" height=\"10\"/><rect x=\"240.2199\" y=\"82.3208\" width=\"10\" style=\"fill:none; stroke:black;\" height=\"10\"/><rect x=\"257.2136\" y=\"179.632\" width=\"10\" style=\"fill:rgb(147,241,160); stroke:none;\" height=\"10\"/><rect x=\"257.2136\" y=\"179.632\" width=\"10\" style=\"fill:none; stroke:black;\" height=\"10\"/><rect x=\"37.5917\" y=\"51.9115\" width=\"10\" style=\"fill:rgb(35,232,66); stroke:none;\" height=\"10\"/><rect x=\"37.5917\" y=\"51.9115\" width=\"10\" style=\"fill:none; stroke:black;\" height=\"10\"/><rect x=\"182.2132\" y=\"49.6891\" width=\"10\" style=\"fill:rgb(179,54,189); stroke:none;\" height=\"10\"/><rect x=\"182.2132\" y=\"49.6891\" width=\"10\" style=\"fill:none; stroke:black;\" height=\"10\"/><rect x=\"19.2141\" y=\"101.8314\" width=\"10\" style=\"fill:rgb(80,77,231); stroke:none;\" height=\"10\"/><rect x=\"19.2141\" y=\"101.8314\" width=\"10\" style=\"fill:none; stroke:black;\" height=\"10\"/><rect x=\"137.2065\" y=\"33.476\" width=\"10\" style=\"fill:rgb(123,74,251); stroke:none;\" height=\"10\"/><rect x=\"137.2065\" y=\"33.476\" width=\"10\" style=\"fill:none; stroke:black;\" height=\"10\"/><rect x=\"49.9496\" y=\"106.0504\" width=\"10\" style=\"fill:rgb(117,8,191); stroke:none;\" height=\"10\"/><rect x=\"49.9496\" y=\"106.0504\" width=\"10\" style=\"fill:none; stroke:black;\" height=\"10\"/><rect x=\"115.6299\" y=\"85.4843\" width=\"10\" style=\"fill:rgb(138,187,174); stroke:none;\" height=\"10\"/><rect x=\"115.6299\" y=\"85.4843\" width=\"10\" style=\"fill:none; stroke:black;\" height=\"10\"/><rect x=\"182.5523\" y=\"61.8031\" width=\"10\" style=\"fill:rgb(181,80,199); stroke:none;\" height=\"10\"/><rect x=\"182.5523\" y=\"61.8031\" width=\"10\" style=\"fill:none; stroke:black;\" height=\"10\"/><rect x=\"148.1351\" y=\"25.3493\" width=\"10\" style=\"fill:rgb(151,54,58); stroke:none;\" height=\"10\"/><rect x=\"148.1351\" y=\"25.3493\" width=\"10\" style=\"fill:none; stroke:black;\" height=\"10\"/><rect x=\"11.8363\" y=\"106.9372\" width=\"10\" style=\"fill:rgb(204,22,124); stroke:none;\" height=\"10\"/><rect x=\"11.8363\" y=\"106.9372\" width=\"10\" style=\"fill:none; stroke:black;\" height=\"10\"/><rect x=\"242.7637\" y=\"16.8683\" width=\"10\" style=\"fill:rgb(15,213,1); stroke:none;\" height=\"10\"/><rect x=\"242.7637\" y=\"16.8683\" width=\"10\" style=\"fill:none; stroke:black;\" height=\"10\"/><rect x=\"138.55\" y=\"24.2212\" width=\"10\" style=\"fill:rgb(82,68,152); stroke:none;\" height=\"10\"/><rect x=\"138.55\" y=\"24.2212\" width=\"10\" style=\"fill:none; stroke:black;\" height=\"10\"/><rect x=\"42.3389\" y=\"117.3739\" width=\"10\" style=\"fill:rgb(202,250,63); stroke:none;\" height=\"10\"/><rect x=\"42.3389\" y=\"117.3739\" width=\"10\" style=\"fill:none; stroke:black;\" height=\"10\"/><rect x=\"206.4535\" y=\"109.0076\" width=\"10\" style=\"fill:rgb(136,80,162); stroke:none;\" height=\"10\"/><rect x=\"206.4535\" y=\"109.0076\" width=\"10\" style=\"fill:none; stroke:black;\" height=\"10\"/><rect x=\"91.0078\" y=\"116.2411\" width=\"10\" style=\"fill:rgb(164,192,157); stroke:none;\" height=\"10\"/><rect x=\"91.0078\" y=\"116.2411\" width=\"10\" style=\"fill:none; stroke:black;\" height=\"10\"/><rect x=\"92.5038\" y=\"108.1798\" width=\"10\" style=\"fill:rgb(25,22,78); stroke:none;\" height=\"10\"/><rect x=\"92.5038\" y=\"108.1798\" width=\"10\" style=\"fill:none; stroke:black;\" height=\"10\"/><rect x=\"141.1289\" y=\"49.3249\" width=\"10\" style=\"fill:rgb(221,244,93); stroke:none;\" height=\"10\"/><rect x=\"141.1289\" y=\"49.3249\" width=\"10\" style=\"fill:none; stroke:black;\" height=\"10\"/><rect x=\"161.7551\" y=\"100.7914\" width=\"10\" style=\"fill:rgb(235,139,212); stroke:none;\" height=\"10\"/><rect x=\"161.7551\" y=\"100.7914\" width=\"10\" style=\"fill:none; stroke:black;\" height=\"10\"/><rect x=\"248.7912\" y=\"86.2698\" width=\"10\" style=\"fill:rgb(151,164,79); stroke:none;\" height=\"10\"/><rect x=\"248.7912\" y=\"86.2698\" width=\"10\" style=\"fill:none; stroke:black;\" height=\"10\"/><rect x=\"284.6189\" y=\"63.0036\" width=\"10\" style=\"fill:rgb(42,152,250); stroke:none;\" height=\"10\"/><rect x=\"284.6189\" y=\"63.0036\" width=\"10\" style=\"fill:none; stroke:black;\" height=\"10\"/><rect x=\"268.0763\" y=\"60.8679\" width=\"10\" style=\"fill:rgb(211,66,247); stroke:none;\" height=\"10\"/><rect x=\"268.0763\" y=\"60.8679\" width=\"10\" style=\"fill:none; stroke:black;\" height=\"10\"/><rect x=\"258.4265\" y=\"169.9663\" width=\"10\" style=\"fill:rgb(11,40,108); stroke:none;\" height=\"10\"/><rect x=\"258.4265\" y=\"169.9663\" width=\"10\" style=\"fill:none; stroke:black;\" height=\"10\"/><rect x=\"35.7672\" y=\"118.6059\" width=\"10\" style=\"fill:rgb(106,86,130); stroke:none;\" height=\"10\"/><rect x=\"35.7672\" y=\"118.6059\" width=\"10\" style=\"fill:none; stroke:black;\" height=\"10\"/><rect x=\"84.3783\" y=\"52.0701\" width=\"10\" style=\"fill:rgb(143,142,200); stroke:none;\" height=\"10\"/><rect x=\"84.3783\" y=\"52.0701\" width=\"10\" style=\"fill:none; stroke:black;\" height=\"10\"/><rect x=\"281.3799\" y=\"176.6873\" width=\"10\" style=\"fill:rgb(182,50,253); stroke:none;\" height=\"10\"/><rect x=\"281.3799\" y=\"176.6873\" width=\"10\" style=\"fill:none; stroke:black;\" height=\"10\"/><rect x=\"189.4155\" y=\"59.2846\" width=\"10\" style=\"fill:rgb(91,130,167); stroke:none;\" height=\"10\"/><rect x=\"189.4155\" y=\"59.2846\" width=\"10\" style=\"fill:none; stroke:black;\" height=\"10\"/><rect x=\"186.0922\" y=\"156.8877\" width=\"10\" style=\"fill:rgb(116,63,247); stroke:none;\" height=\"10\"/><rect x=\"186.0922\" y=\"156.8877\" width=\"10\" style=\"fill:none; stroke:black;\" height=\"10\"/><rect x=\"106.7155\" y=\"74.1814\" width=\"10\" style=\"fill:rgb(204,150,89); stroke:none;\" height=\"10\"/><rect x=\"106.7155\" y=\"74.1814\" width=\"10\" style=\"fill:none; stroke:black;\" height=\"10\"/><rect x=\"261.5464\" y=\"28.6774\" width=\"10\" style=\"fill:rgb(26,238,159); stroke:none;\" height=\"10\"/><rect x=\"261.5464\" y=\"28.6774\" width=\"10\" style=\"fill:none; stroke:black;\" height=\"10\"/><rect x=\"32.7014\" y=\"107.325\" width=\"10\" style=\"fill:rgb(188,242,167); stroke:none;\" height=\"10\"/><rect x=\"32.7014\" y=\"107.325\" width=\"10\" style=\"fill:none; stroke:black;\" height=\"10\"/><rect x=\"212.4879\" y=\"185.745\" width=\"10\" style=\"fill:rgb(92,160,15); stroke:none;\" height=\"10\"/><rect x=\"212.4879\" y=\"185.745\" width=\"10\" style=\"fill:none; stroke:black;\" height=\"10\"/><rect x=\"253.8963\" y=\"174.5388\" width=\"10\" style=\"fill:rgb(139,5,191); stroke:none;\" height=\"10\"/><rect x=\"253.8963\" y=\"174.5388\" width=\"10\" style=\"fill:none; stroke:black;\" height=\"10\"/><rect x=\"147.6449\" y=\"29.8816\" width=\"10\" style=\"fill:rgb(23,1,193); stroke:none;\" height=\"10\"/><rect x=\"147.6449\" y=\"29.8816\" width=\"10\" style=\"fill:none; stroke:black;\" height=\"10\"/><rect x=\"99.923\" y=\"34.4075\" width=\"10\" style=\"fill:rgb(131,178,133); stroke:none;\" height=\"10\"/><rect x=\"99.923\" y=\"34.4075\" width=\"10\" style=\"fill:none; stroke:black;\" height=\"10\"/><rect x=\"39.2498\" y=\"60.0877\" width=\"10\" style=\"fill:rgb(120,57,70); stroke:none;\" height=\"10\"/><rect x=\"39.2498\" y=\"60.0877\" width=\"10\" style=\"fill:none; stroke:black;\" height=\"10\"/><rect x=\"118.74\" y=\"146.5861\" width=\"10\" style=\"fill:rgb(53,183,195); stroke:none;\" height=\"10\"/><rect x=\"118.74\" y=\"146.5861\" width=\"10\" style=\"fill:none; stroke:black;\" height=\"10\"/><rect x=\"112.3577\" y=\"128.506\" width=\"10\" style=\"fill:rgb(130,113,240); stroke:none;\" height=\"10\"/><rect x=\"112.3577\" y=\"128.506\" width=\"10\" style=\"fill:none; stroke:black;\" height=\"10\"/></g></g></svg>"
      ],
      "text/plain": [
       "<IPython.core.display.SVG object>"
      ]
     },
     "metadata": {},
     "output_type": "display_data"
    }
   ],
   "source": [
    "%%py5drawsvg 300 200 -f /tmp/test.svg\n",
    "\n",
    "py5.background(240)\n",
    "py5.rect_mode(py5.CENTER)\n",
    "\n",
    "for i in range(100):\n",
    "    pick_random_fill()\n",
    "    py5.rect(py5.random(py5.width), py5.random(py5.height), 10, 10)"
   ]
  },
  {
   "cell_type": "markdown",
   "metadata": {},
   "source": [
    "## PDF Renderer\n",
    "\n",
    "Write to PDF files using `%%py5drawpdf`. Since Jupyter notebook does not support embedded PDF files, writing the output to a file is not optional."
   ]
  },
  {
   "cell_type": "code",
   "execution_count": 11,
   "metadata": {},
   "outputs": [
    {
     "name": "stdout",
     "output_type": "stream",
     "text": [
      "PDF written to /tmp/simple_example.pdf\n"
     ]
    }
   ],
   "source": [
    "%%py5drawpdf 300 200 /tmp/simple_example.pdf\n",
    "\n",
    "py5.background(240)\n",
    "py5.rect_mode(py5.CENTER)\n",
    "\n",
    "for i in range(100):\n",
    "    pick_random_fill()\n",
    "    py5.rect(py5.random(py5.width), py5.random(py5.height), 10, 10)"
   ]
  },
  {
   "cell_type": "markdown",
   "metadata": {},
   "source": [
    "## DXF Renderer\n",
    "\n",
    "Write 3D objects to DXF files with `%%py5drawdxf`. This probably won't be a popular choice, but maybe somebody will appreciate it."
   ]
  },
  {
   "cell_type": "code",
   "execution_count": 12,
   "metadata": {},
   "outputs": [
    {
     "name": "stdout",
     "output_type": "stream",
     "text": [
      "DXF written to /tmp/test.dxf\n"
     ]
    }
   ],
   "source": [
    "%%py5drawdxf 200 200 /tmp/test.dxf\n",
    "\n",
    "py5.translate(py5.width / 2, py5.height / 2)\n",
    "py5.rotate_x(0.4)\n",
    "py5.rotate_y(0.8)\n",
    "py5.box(80)"
   ]
  },
  {
   "cell_type": "code",
   "execution_count": 13,
   "metadata": {},
   "outputs": [
    {
     "name": "stdout",
     "output_type": "stream",
     "text": [
      "0\r\n",
      "SECTION\r\n",
      "2\r\n",
      "ENTITIES\r\n",
      "0\r\n",
      "3DFACE\r\n",
      "8\r\n",
      "0\r\n",
      "10\r\n",
      "-56.562515\r\n"
     ]
    }
   ],
   "source": [
    "!head /tmp/test.dxf"
   ]
  },
  {
   "cell_type": "markdown",
   "metadata": {},
   "source": [
    "## Variable Scope\n",
    "\n",
    "By default, new variables defined inside cell magics such as `%%py5draw` cannot be accessed elsewhere in the notebook.\n",
    "\n",
    "Consider the below example. It creates new variables `random_x` and `random_y` to store the location of the square."
   ]
  },
  {
   "cell_type": "code",
   "execution_count": 14,
   "metadata": {},
   "outputs": [
    {
     "data": {
      "image/png": "[encoded data removed]",
      "text/plain": [
       "<IPython.core.display.Image object>"
      ]
     },
     "metadata": {},
     "output_type": "display_data"
    }
   ],
   "source": [
    "%%py5draw 300 200\n",
    "\n",
    "py5.background(240)\n",
    "py5.rect_mode(py5.CENTER)\n",
    "\n",
    "random_x = py5.random(py5.width)\n",
    "random_y = py5.random(py5.height)\n",
    "py5.rect(random_x, random_y, 50, 50)"
   ]
  },
  {
   "cell_type": "markdown",
   "metadata": {},
   "source": [
    "The variables `random_x` and `random_y` are not accessible outside of that cell:"
   ]
  },
  {
   "cell_type": "code",
   "execution_count": 15,
   "metadata": {},
   "outputs": [
    {
     "ename": "NameError",
     "evalue": "name 'random_x' is not defined",
     "output_type": "error",
     "traceback": [
      "\u001b[0;31m---------------------------------------------------------------------------\u001b[0m",
      "\u001b[0;31mNameError\u001b[0m                                 Traceback (most recent call last)",
      "\u001b[0;32m<ipython-input-15-495f30123407>\u001b[0m in \u001b[0;36m<module>\u001b[0;34m\u001b[0m\n\u001b[0;32m----> 1\u001b[0;31m \u001b[0mrandom_x\u001b[0m\u001b[0;34m,\u001b[0m \u001b[0mrandom_y\u001b[0m\u001b[0;34m\u001b[0m\u001b[0;34m\u001b[0m\u001b[0m\n\u001b[0m",
      "\u001b[0;31mNameError\u001b[0m: name 'random_x' is not defined"
     ]
    }
   ],
   "source": [
    "random_x, random_y"
   ]
  },
  {
   "cell_type": "markdown",
   "metadata": {},
   "source": [
    "This behavior is by design.\n",
    "\n",
    "Consider that the py5 library is using the Processing library to create these graphics. Builtin Processing objects such as PImage or PGraphics are designed to be associated with one and only one Processing sketch. Py5 can let users write code to that subverts these assumptions, and as a result use Processing in a way that is completely different from how it was designed to be used. Sometimes this can be beneficial, but often times it will cause unexpected errors.\n",
    "\n",
    "If you understand the risks, or if you are working with non-Processing related variables (as is the case for `random_x` and `random_y` in the above example), you have two options available to you.\n",
    "\n",
    "First, you can add the global keyword to your code:"
   ]
  },
  {
   "cell_type": "code",
   "execution_count": 16,
   "metadata": {},
   "outputs": [
    {
     "data": {
      "image/png": "[encoded data removed]",
      "text/plain": [
       "<IPython.core.display.Image object>"
      ]
     },
     "metadata": {},
     "output_type": "display_data"
    }
   ],
   "source": [
    "%%py5draw 300 200\n",
    "\n",
    "py5.background(240)\n",
    "py5.rect_mode(py5.CENTER)\n",
    "\n",
    "global random_x\n",
    "global random_y\n",
    "\n",
    "random_x = py5.random(py5.width)\n",
    "random_y = py5.random(py5.height)\n",
    "py5.rect(random_x, random_y, 50, 50)"
   ]
  },
  {
   "cell_type": "markdown",
   "metadata": {},
   "source": [
    "Now we can get the position of the square:"
   ]
  },
  {
   "cell_type": "code",
   "execution_count": 17,
   "metadata": {},
   "outputs": [
    {
     "data": {
      "text/plain": [
       "(30.270237617464733, 151.622422557679)"
      ]
     },
     "execution_count": 17,
     "metadata": {},
     "output_type": "execute_result"
    }
   ],
   "source": [
    "random_x, random_y"
   ]
  },
  {
   "cell_type": "markdown",
   "metadata": {},
   "source": [
    "Alternatively, you can use the `--unsafe` parameter. This is a blanket statement that mixes the cell magic's namespace with the notebook namespace."
   ]
  },
  {
   "cell_type": "code",
   "execution_count": 18,
   "metadata": {},
   "outputs": [
    {
     "data": {
      "image/png": "[encoded data removed]",
      "text/plain": [
       "<IPython.core.display.Image object>"
      ]
     },
     "metadata": {},
     "output_type": "display_data"
    }
   ],
   "source": [
    "%%py5draw 300 200 --unsafe\n",
    "\n",
    "py5.background(240)\n",
    "py5.rect_mode(py5.CENTER)\n",
    "\n",
    "random_x = py5.random(py5.width)\n",
    "random_y = py5.random(py5.height)\n",
    "py5.rect(random_x, random_y, 50, 50)"
   ]
  },
  {
   "cell_type": "code",
   "execution_count": 19,
   "metadata": {},
   "outputs": [
    {
     "data": {
      "text/plain": [
       "(104.3086038747719, 106.56914809261393)"
      ]
     },
     "execution_count": 19,
     "metadata": {},
     "output_type": "execute_result"
    }
   ],
   "source": [
    "random_x, random_y"
   ]
  },
  {
   "cell_type": "markdown",
   "metadata": {},
   "source": [
    "# Animated Sketches\n",
    "\n",
    "Of course, there's more to py5 than static sketches. The py5 magics will support animated sketches as well.\n",
    "\n",
    "Note that starting your development process with static sketches is a great way to write py5 code. For example, you can quickly develop functions for parts of your creation and test them out with static sketches, and later use those same functions in your final animation.\n",
    "\n",
    "Let's create a simple example. The below `settings` function will tell py5 to create a 500 by 400 sketch window."
   ]
  },
  {
   "cell_type": "code",
   "execution_count": 20,
   "metadata": {},
   "outputs": [],
   "source": [
    "def settings():\n",
    "    py5.size(500, 400, py5.P2D)"
   ]
  },
  {
   "cell_type": "markdown",
   "metadata": {},
   "source": [
    "This `setup` function will set the background color and set the rect mode."
   ]
  },
  {
   "cell_type": "code",
   "execution_count": 21,
   "metadata": {},
   "outputs": [],
   "source": [
    "def setup():\n",
    "    py5.background(240)\n",
    "    py5.rect_mode(py5.CENTER)\n",
    "    \n",
    "#     py5.fill(255, 0, 0)\n",
    "#     py5.rect(py5.width / 2, py5.height / 2, 50, 50)"
   ]
  },
  {
   "cell_type": "markdown",
   "metadata": {},
   "source": [
    "And finally, the `draw` function to draw squares at the current mouse position."
   ]
  },
  {
   "cell_type": "code",
   "execution_count": 22,
   "metadata": {},
   "outputs": [],
   "source": [
    "def draw():\n",
    "    pick_random_fill()\n",
    "    py5.rect(py5.mouse_x, py5.mouse_y, 10, 10)"
   ]
  },
  {
   "cell_type": "markdown",
   "metadata": {},
   "source": [
    "To run the sketch, use the [run_sketch()](link://slug/run_sketch) method. It will pull out the `settings`, `setup`, and `draw` functions from the notebook's namespace and put them together in a sketch."
   ]
  },
  {
   "cell_type": "code",
   "execution_count": 23,
   "metadata": {},
   "outputs": [
    {
     "name": "stdout",
     "output_type": "stream",
     "text": [
      "the sketch is running!\n"
     ]
    }
   ],
   "source": [
    "py5.run_sketch()\n",
    "print('the sketch is running!')"
   ]
  },
  {
   "cell_type": "markdown",
   "metadata": {},
   "source": [
    "A new window opens for the running sketch.\n",
    "\n",
    "By default, the [run_sketch()](link://slug/run_sketch) method returns right away, as illustrated by the `print` statement. This enables the notebook user to continue coding, including executing code that interacts with the sketch. The sketch continues to run in its own window."
   ]
  },
  {
   "cell_type": "markdown",
   "metadata": {},
   "source": [
    "## Screenshots\n",
    "\n",
    "The sketch window cannot be embedded into the notebook, but the `%py5screenshot` magic can grab a single snapshot of the window. The `-w` parameter tells it to pause for a few seconds before grabbing that snapshot."
   ]
  },
  {
   "cell_type": "code",
   "execution_count": 24,
   "metadata": {},
   "outputs": [
    {
     "data": {
      "image/png": "[encoded data removed]",
      "text/plain": [
       "<PIL.PngImagePlugin.PngImageFile image mode=RGB size=500x400 at 0x7F1D26C03370>"
      ]
     },
     "execution_count": 24,
     "metadata": {},
     "output_type": "execute_result"
    }
   ],
   "source": [
    "sketch_snapshot = %py5screenshot -w 5\n",
    "\n",
    "sketch_snapshot"
   ]
  },
  {
   "cell_type": "markdown",
   "metadata": {},
   "source": [
    "Observe that this is a line magic, not a cell magic, and that the line magic returns a frame of the sketch as a [PIL Image object](https://pillow.readthedocs.io/en/stable/index.html)."
   ]
  },
  {
   "cell_type": "code",
   "execution_count": 25,
   "metadata": {},
   "outputs": [
    {
     "name": "stdout",
     "output_type": "stream",
     "text": [
      "<class 'PIL.PngImagePlugin.PngImageFile'>\n"
     ]
    }
   ],
   "source": [
    "print(type(sketch_snapshot))"
   ]
  },
  {
   "cell_type": "markdown",
   "metadata": {},
   "source": [
    "The `%py5screencapture` magic will save multiple frames to a directory.\n",
    "\n",
    "Of course you can also call [save_frame()](link://slug/save_frame) from the `draw` method, but that would require you to redefine the `draw` method with a few extra lines of code. This is more convenient. "
   ]
  },
  {
   "cell_type": "code",
   "execution_count": 26,
   "metadata": {},
   "outputs": [
    {
     "name": "stdout",
     "output_type": "stream",
     "text": [
      "writing frames to /tmp/testframes/...\n",
      "saving frame 10/10\n"
     ]
    },
    {
     "data": {
      "text/plain": [
       "['/tmp/testframes/frame_0000.png',\n",
       " '/tmp/testframes/frame_0001.png',\n",
       " '/tmp/testframes/frame_0002.png',\n",
       " '/tmp/testframes/frame_0003.png',\n",
       " '/tmp/testframes/frame_0004.png',\n",
       " '/tmp/testframes/frame_0005.png',\n",
       " '/tmp/testframes/frame_0006.png',\n",
       " '/tmp/testframes/frame_0007.png',\n",
       " '/tmp/testframes/frame_0008.png',\n",
       " '/tmp/testframes/frame_0009.png']"
      ]
     },
     "execution_count": 26,
     "metadata": {},
     "output_type": "execute_result"
    }
   ],
   "source": [
    "%py5screencapture -w 3 -s 0 --limit 10 /tmp/testframes/"
   ]
  },
  {
   "cell_type": "markdown",
   "metadata": {},
   "source": [
    "Those frames can be assembled into a video file."
   ]
  },
  {
   "cell_type": "markdown",
   "metadata": {},
   "source": [
    "## Animated GIFs\n",
    "\n",
    "The last magic creates animated GIFs from your sketch. Everybody loves animated GIFs."
   ]
  },
  {
   "cell_type": "code",
   "execution_count": 27,
   "metadata": {},
   "outputs": [
    {
     "name": "stdout",
     "output_type": "stream",
     "text": [
      "collecting frame 10/10\n"
     ]
    },
    {
     "data": {
      "text/plain": [
       "'images/jupyter_notebooks/simple_example.gif'"
      ]
     },
     "execution_count": 27,
     "metadata": {},
     "output_type": "execute_result"
    }
   ],
   "source": [
    "%py5animatedgif -w 3 images/jupyter_notebooks/simple_example.gif 10 1000 500"
   ]
  },
  {
   "cell_type": "markdown",
   "metadata": {},
   "source": [
    "The animated GIF can then be embedded in a notebook markdown cell.\n",
    "\n",
    "![simple_example](images/jupyter_notebooks/simple_example.gif)"
   ]
  },
  {
   "cell_type": "markdown",
   "metadata": {},
   "source": [
    "## Print Statements\n",
    "\n",
    "Question: if the user's `draw` method contains `print` statements, where does the output appear?\n",
    "\n",
    "This would be a simple question if the [run_sketch()](link://slug/run_sketch) method did not return right away (which you could achieve by passing the parameter `block=False`). The print statements would always go into the output of the cell with the call to that method. When the sketch exits, the output for that cell would be complete.\n",
    "\n",
    "By default, the [run_sketch()](link://slug/run_sketch) method does return right away when called from a Jupyter notebook. The print statements will still go to the output of the cell with the call to that method, but when you move on to the next cell, the print statements will start to appear there instead. Why? This has to do with the inner workings of Jupyter notebooks. It gets weirder if you delete the cell that is currently receiving the output. If that happens, the print output will disappear completely.\n",
    "\n",
    "This is less than perfect, and might frustrate users who like to debug their code with print statements. A better solution would be to open a second console window to receive any text outputs such as exceptions and print statements. I'd like to implement that at some point, but don't expect it to happen any time soon. In the mean time, note that you can send text to the Jupyter notebook log like this:"
   ]
  },
  {
   "cell_type": "code",
   "execution_count": 28,
   "metadata": {},
   "outputs": [],
   "source": [
    "shell = get_ipython()\n",
    "shell.log.critical('test message')"
   ]
  },
  {
   "cell_type": "markdown",
   "metadata": {},
   "source": [
    "In the terminal I used to start Jupyter notebook, I see this message:\n",
    "\n",
    "```\n",
    "[IPKernelApp] CRITICAL | test message\n",
    "```"
   ]
  }
 ],
 "metadata": {
  "kernelspec": {
   "display_name": "Python 3",
   "language": "python",
   "name": "python3"
  },
  "language_info": {
   "codemirror_mode": {
    "name": "ipython",
    "version": 3
   },
   "file_extension": ".py",
   "mimetype": "text/x-python",
   "name": "python",
   "nbconvert_exporter": "python",
   "pygments_lexer": "ipython3",
   "version": "3.8.5"
  },
  "nikola": {
   "date": "2021-01-10 16:12:41 EST",
   "filters": "python scripts/adjust_notebook_img_link.py '%s'",
   "slug": "jupyter-notebooks",
   "title": "Jupyter Notebooks"
  }
 },
 "nbformat": 4,
 "nbformat_minor": 4
}
