{
 "cells": [
  {
   "cell_type": "markdown",
   "metadata": {},
   "source": [
    "The py5 library is designed to work well with Jupyter tools, including Jupyter notebook. There are included IPython magics that are useful for supporting your development and documentation efforts as well as your creative endeavors. Used well, they can greatly enhance your programming workflow.\n",
    "\n",
    "To use py5 in a notebook, first import the library:"
   ]
  },
  {
   "cell_type": "code",
   "execution_count": 1,
   "metadata": {},
   "outputs": [
    {
     "data": {
      "text/plain": [
       "'0.3a3'"
      ]
     },
     "execution_count": 1,
     "metadata": {},
     "output_type": "execute_result"
    }
   ],
   "source": [
    "import py5\n",
    "py5.__version__"
   ]
  },
  {
   "cell_type": "markdown",
   "metadata": {},
   "source": [
    "# Getting Help\n",
    "\n",
    "Before continuing, it is worth pointing out that you can access the docstrings for any py5 functions by appending a `?` to the end of the function, or with the builtin `help` function.\n",
    "\n",
    "Using the `?` which something like `py5.rect?` temporarily displays the documentation at the bottom of the notebook window. The builtin `help` function puts the result in the notebook cell."
   ]
  },
  {
   "cell_type": "code",
   "execution_count": 2,
   "metadata": {},
   "outputs": [
    {
     "name": "stdout",
     "output_type": "stream",
     "text": [
      "Help on function rect in module py5:\n",
      "\n",
      "rect(*args)\n",
      "    Draws a rectangle to the screen.\n",
      "    \n",
      "    Underlying Java method: PApplet.rect\n",
      "    \n",
      "    Methods\n",
      "    -------\n",
      "    \n",
      "    You can use any of the following signatures:\n",
      "    \n",
      "     * rect(a: float, b: float, c: float, d: float, /) -> None\n",
      "     * rect(a: float, b: float, c: float, d: float, r: float, /) -> None\n",
      "     * rect(a: float, b: float, c: float, d: float, tl: float, tr: float, br: float, bl: float, /) -> None\n",
      "    \n",
      "    Parameters\n",
      "    ----------\n",
      "    \n",
      "    a: float\n",
      "        x-coordinate of the rectangle by default\n",
      "    \n",
      "    b: float\n",
      "        y-coordinate of the rectangle by default\n",
      "    \n",
      "    bl: float\n",
      "        radius for bottom-left corner\n",
      "    \n",
      "    br: float\n",
      "        radius for bottom-right corner\n",
      "    \n",
      "    c: float\n",
      "        width of the rectangle by default\n",
      "    \n",
      "    d: float\n",
      "        height of the rectangle by default\n",
      "    \n",
      "    r: float\n",
      "        radii for all four corners\n",
      "    \n",
      "    tl: float\n",
      "        radius for top-left corner\n",
      "    \n",
      "    tr: float\n",
      "        radius for top-right corner\n",
      "    \n",
      "    Notes\n",
      "    -----\n",
      "    \n",
      "    Draws a rectangle to the screen. A rectangle is a four-sided shape with every\n",
      "    angle at ninety degrees. By default, the first two parameters set the location\n",
      "    of the upper-left corner, the third sets the width, and the fourth sets the\n",
      "    height. The way these parameters are interpreted, however, may be changed with\n",
      "    the ``rect_mode()`` function.\n",
      "    \n",
      "    To draw a rounded rectangle, add a fifth parameter, which is used as the radius\n",
      "    value for all four corners.\n",
      "    \n",
      "    To use a different radius value for each corner, include eight parameters. When\n",
      "    using eight parameters, the latter four set the radius of the arc at each corner\n",
      "    separately, starting with the top-left corner and moving clockwise around the\n",
      "    rectangle.\n",
      "\n"
     ]
    }
   ],
   "source": [
    "help(py5.rect)"
   ]
  },
  {
   "cell_type": "markdown",
   "metadata": {},
   "source": [
    "Pause to take a moment to appreciate that documentation. You'll also notice the content is identical what is in the :doc:`rect` reference documentation.\n",
    "\n",
    "Producing thorough and coordinated py5 docstrings and reference documentation like this took an enormous amount of work.\n",
    "\n",
    "You'll also notice that all the usual Jupyter niceties such as tab completion work for py5. "
   ]
  },
  {
   "cell_type": "markdown",
   "metadata": {},
   "source": [
    "# Load IPython Magics\n",
    "\n",
    "Next, load the py5 magics:"
   ]
  },
  {
   "cell_type": "code",
   "execution_count": 3,
   "metadata": {},
   "outputs": [],
   "source": [
    "%load_ext py5"
   ]
  },
  {
   "cell_type": "markdown",
   "metadata": {},
   "source": [
    "These \"magic\" commands are like extra functionality added to what Python and Jupyter notebooks can already do.\n",
    "\n",
    "The py5 magics all start with \"py5\".\n",
    "\n",
    "The line magics are:\n",
    "\n",
    "* %py5animatedgif\n",
    "* %py5screencapture\n",
    "* %py5screenshot\n",
    "\n",
    "and the cell magics are:\n",
    "\n",
    "* %%py5draw\n",
    "* %%py5drawdxf\n",
    "* %%py5drawpdf\n",
    "* %%py5drawsvg\n",
    "\n",
    "As before, documentation for each is available by appending a `?`, such as when you type `%%py5draw?` in an empty cell. The builtin `help` function does not work with IPython magics.\n",
    "\n",
    "See below for demonstrations of what each does."
   ]
  },
  {
   "cell_type": "markdown",
   "metadata": {},
   "source": [
    "# Static Sketches\n",
    "\n",
    "The below example creates a static image with some simple shapes.\n",
    "\n",
    "The first line in the cell, `%%py5draw 300 200`, is not Python code. Instead, it is a command to Jupyter itself, instructing it to send the rest of the cell's contents to a special py5 draw function.\n",
    "\n",
    "Observe that there are no defined `setup` or `draw` functions."
   ]
  },
  {
   "cell_type": "code",
   "execution_count": 4,
   "metadata": {},
   "outputs": [
    {
     "data": {
      "image/png": "[encoded data removed]",
      "text/plain": [
       "<IPython.core.display.Image object>"
      ]
     },
     "metadata": {},
     "output_type": "display_data"
    }
   ],
   "source": [
    "%%py5draw 300 200\n",
    "\n",
    "# make the background light gray\n",
    "py5.background(240)\n",
    "\n",
    "# draw a red square\n",
    "py5.fill(255, 0, 0)\n",
    "py5.rect_mode(py5.CENTER)\n",
    "py5.rect(170, 80, 100, 100)\n",
    "\n",
    "# add a thick green line\n",
    "py5.stroke(0, 255, 0)\n",
    "py5.stroke_weight(15)\n",
    "py5.line(40, 30, 220, 180)"
   ]
  },
  {
   "cell_type": "markdown",
   "metadata": {},
   "source": [
    "The code can access variables and functions defined in other non-magic notebook cells. This is especially useful when the code leverages py5 functionality.\n",
    "\n",
    "For example, the below function sets the fill color to a random color."
   ]
  },
  {
   "cell_type": "code",
   "execution_count": 5,
   "metadata": {},
   "outputs": [],
   "source": [
    "def pick_random_fill():\n",
    "    py5.fill(py5.random(255), py5.random(255), py5.random(255))"
   ]
  },
  {
   "cell_type": "markdown",
   "metadata": {},
   "source": [
    "The below example uses `pick_random_fill` to draw randomly colored rectangles. This example is a bit contrived, but you do see how the code below can call a function defined elsewhere."
   ]
  },
  {
   "cell_type": "code",
   "execution_count": 6,
   "metadata": {},
   "outputs": [
    {
     "data": {
      "image/png": "[encoded data removed]",
      "text/plain": [
       "<IPython.core.display.Image object>"
      ]
     },
     "metadata": {},
     "output_type": "display_data"
    }
   ],
   "source": [
    "%%py5draw 300 200\n",
    "\n",
    "py5.background(240)\n",
    "py5.rect_mode(py5.CENTER)\n",
    "\n",
    "for i in range(100):\n",
    "    pick_random_fill()\n",
    "    py5.rect(py5.random(py5.width), py5.random(py5.height), 10, 10)"
   ]
  },
  {
   "cell_type": "markdown",
   "metadata": {},
   "source": [
    "The `pick_random_fill` function can be reused again elsewhere in this notebook.\n",
    "\n",
    "By default, any new functions and variables defined in that `%%py5draw` cell are not available outside of the cell. However, you can explicitly change this. See below for further discussion."
   ]
  },
  {
   "cell_type": "markdown",
   "metadata": {},
   "source": [
    "## Saving to a File\n",
    "\n",
    "If you like you can save the generated image to a file with the `-f` parameter, like so:"
   ]
  },
  {
   "cell_type": "code",
   "execution_count": 7,
   "metadata": {},
   "outputs": [
    {
     "name": "stdout",
     "output_type": "stream",
     "text": [
      "PNG file written to images/jupyter_notebooks/simple_example.png\n"
     ]
    },
    {
     "data": {
      "image/png": "[encoded data removed]",
      "text/plain": [
       "<IPython.core.display.Image object>"
      ]
     },
     "metadata": {},
     "output_type": "display_data"
    }
   ],
   "source": [
    "%%py5draw 300 200 -f images/jupyter_notebooks/simple_example.png\n",
    "\n",
    "py5.background(240)\n",
    "py5.rect_mode(py5.CENTER)\n",
    "\n",
    "for i in range(100):\n",
    "    pick_random_fill()\n",
    "    py5.rect(py5.random(py5.width), py5.random(py5.height), 10, 10)"
   ]
  },
  {
   "cell_type": "markdown",
   "metadata": {},
   "source": [
    "Now there's an image on my computer located at `images/jupyter_notebooks/simple_example.png`. I can embed that in this notebook\n",
    "\n",
    "![asdf](images/jupyter_notebooks/simple_example.png)"
   ]
  },
  {
   "cell_type": "markdown",
   "metadata": {},
   "source": [
    "## OpenGL Renderers\n",
    "\n",
    "You can also use the OpenGL renderers with the `-r` parameter, like so."
   ]
  },
  {
   "cell_type": "code",
   "execution_count": null,
   "metadata": {},
   "outputs": [],
   "source": [
    "%%py5draw 300 200 -r P2D\n",
    "\n",
    "py5.background(240)\n",
    "py5.rect_mode(py5.CENTER)\n",
    "\n",
    "for i in range(100):\n",
    "    pick_random_fill()\n",
    "    py5.rect(py5.random(py5.width), py5.random(py5.height), 10, 10)"
   ]
  },
  {
   "cell_type": "markdown",
   "metadata": {},
   "source": [
    "When that cell runs, a py5 window is quickly opened and closed. For whatever reason, the Processing's OpenGL renderers cannot draw to an invisible window (but I would be delighted to be proven wrong about this.)\n",
    "\n",
    "The previous `%%py5draw` examples in this notebook used a special `HIDDEN` renderer based on the default `JAVA2D` renderer that does not need to open a window. That `HIDDEN` renderer was created just for this purpose.\n",
    "\n",
    "The 3D renderer can also be used:"
   ]
  },
  {
   "cell_type": "code",
   "execution_count": 8,
   "metadata": {},
   "outputs": [
    {
     "name": "stdout",
     "output_type": "stream",
     "text": [
      "PNG file written to /tmp/test.png\n"
     ]
    },
    {
     "data": {
      "image/png": "[encoded data removed]",
      "text/plain": [
       "<IPython.core.display.Image object>"
      ]
     },
     "metadata": {},
     "output_type": "display_data"
    }
   ],
   "source": [
    "%%py5draw 300 200 -r P3D -f /tmp/test.png\n",
    "\n",
    "py5.background(240)\n",
    "\n",
    "for i in range(20):\n",
    "    py5.push_matrix()\n",
    "    pick_random_fill()\n",
    "    py5.translate(py5.random(py5.width), py5.random(py5.height), -50)\n",
    "    py5.box(25)\n",
    "    py5.pop_matrix()"
   ]
  },
  {
   "cell_type": "markdown",
   "metadata": {},
   "source": [
    "## SVG Renderer\n",
    "\n",
    "To create SVG images, use the `%%py5drawsvg` magic.\n",
    "\n",
    "As before, the result can be saved to a file with the `-f` parameter."
   ]
  },
  {
   "cell_type": "code",
   "execution_count": 9,
   "metadata": {},
   "outputs": [
    {
     "data": {
      "image/svg+xml": [
       "<svg xmlns:xlink=\"http://www.w3.org/1999/xlink\" xmlns=\"http://www.w3.org/2000/svg\" style=\"fill-opacity:1; color-rendering:auto; color-interpolation:auto; text-rendering:auto; stroke:black; stroke-linecap:square; stroke-miterlimit:10; shape-rendering:auto; stroke-opacity:1; fill:black; stroke-dasharray:none; font-weight:normal; stroke-width:1; font-family:'Dialog'; font-style:normal; stroke-linejoin:miter; font-size:12px; stroke-dashoffset:0; image-rendering:auto;\" width=\"300\" height=\"200\"><!--Generated by the Batik Graphics2D SVG Generator--><defs id=\"genericDefs\"/><g><g style=\"stroke-linecap:round; fill:rgb(204,204,204); stroke:rgb(204,204,204);\"><rect x=\"0\" width=\"300\" height=\"200\" y=\"0\" style=\"stroke:none;\"/></g><g style=\"stroke-linecap:round; fill:rgb(240,240,240); stroke:rgb(240,240,240);\"><rect x=\"0\" width=\"300\" height=\"200\" y=\"0\" style=\"stroke:none;\"/></g><g style=\"stroke-linecap:round; fill:rgb(168,159,32); stroke:rgb(168,159,32);\"><rect x=\"150.0129\" width=\"10\" height=\"10\" y=\"10.7231\" style=\"stroke:none;\"/><rect x=\"150.0129\" y=\"10.7231\" width=\"10\" style=\"fill:none; stroke:black;\" height=\"10\"/><rect x=\"112.6878\" y=\"35.7988\" width=\"10\" style=\"fill:rgb(205,121,41); stroke:none;\" height=\"10\"/><rect x=\"112.6878\" y=\"35.7988\" width=\"10\" style=\"fill:none; stroke:black;\" height=\"10\"/><rect x=\"244.0854\" y=\"164.9002\" width=\"10\" style=\"fill:rgb(86,185,238); stroke:none;\" height=\"10\"/><rect x=\"244.0854\" y=\"164.9002\" width=\"10\" style=\"fill:none; stroke:black;\" height=\"10\"/><rect x=\"254.032\" y=\"8.6851\" width=\"10\" style=\"fill:rgb(59,159,146); stroke:none;\" height=\"10\"/><rect x=\"254.032\" y=\"8.6851\" width=\"10\" style=\"fill:none; stroke:black;\" height=\"10\"/><rect x=\"261.8327\" y=\"144.8892\" width=\"10\" style=\"fill:rgb(110,238,247); stroke:none;\" height=\"10\"/><rect x=\"261.8327\" y=\"144.8892\" width=\"10\" style=\"fill:none; stroke:black;\" height=\"10\"/><rect x=\"64.3452\" y=\"43.4799\" width=\"10\" style=\"fill:rgb(216,113,146); stroke:none;\" height=\"10\"/><rect x=\"64.3452\" y=\"43.4799\" width=\"10\" style=\"fill:none; stroke:black;\" height=\"10\"/><rect x=\"27.881\" y=\"156.9573\" width=\"10\" style=\"fill:rgb(249,179,23); stroke:none;\" height=\"10\"/><rect x=\"27.881\" y=\"156.9573\" width=\"10\" style=\"fill:none; stroke:black;\" height=\"10\"/><rect x=\"28.6278\" y=\"186.9405\" width=\"10\" style=\"fill:rgb(156,89,101); stroke:none;\" height=\"10\"/><rect x=\"28.6278\" y=\"186.9405\" width=\"10\" style=\"fill:none; stroke:black;\" height=\"10\"/><rect x=\"115.9882\" y=\"24.9325\" width=\"10\" style=\"fill:rgb(203,51,19); stroke:none;\" height=\"10\"/><rect x=\"115.9882\" y=\"24.9325\" width=\"10\" style=\"fill:none; stroke:black;\" height=\"10\"/><rect x=\"65.2541\" y=\"88.2177\" width=\"10\" style=\"fill:rgb(51,79,117); stroke:none;\" height=\"10\"/><rect x=\"65.2541\" y=\"88.2177\" width=\"10\" style=\"fill:none; stroke:black;\" height=\"10\"/><rect x=\"18.2639\" y=\"84.4308\" width=\"10\" style=\"fill:rgb(172,230,69); stroke:none;\" height=\"10\"/><rect x=\"18.2639\" y=\"84.4308\" width=\"10\" style=\"fill:none; stroke:black;\" height=\"10\"/><rect x=\"53.5496\" y=\"126.6231\" width=\"10\" style=\"fill:rgb(43,189,80); stroke:none;\" height=\"10\"/><rect x=\"53.5496\" y=\"126.6231\" width=\"10\" style=\"fill:none; stroke:black;\" height=\"10\"/><rect x=\"253.709\" y=\"23.8617\" width=\"10\" style=\"fill:rgb(55,74,174); stroke:none;\" height=\"10\"/><rect x=\"253.709\" y=\"23.8617\" width=\"10\" style=\"fill:none; stroke:black;\" height=\"10\"/><rect x=\"10.0434\" y=\"26.4796\" width=\"10\" style=\"fill:rgb(241,178,18); stroke:none;\" height=\"10\"/><rect x=\"10.0434\" y=\"26.4796\" width=\"10\" style=\"fill:none; stroke:black;\" height=\"10\"/><rect x=\"-1.0892\" y=\"44.2431\" width=\"10\" style=\"fill:rgb(229,74,221); stroke:none;\" height=\"10\"/><rect x=\"-1.0892\" y=\"44.2431\" width=\"10\" style=\"fill:none; stroke:black;\" height=\"10\"/><rect x=\"258.8571\" y=\"135.1884\" width=\"10\" style=\"fill:rgb(104,53,38); stroke:none;\" height=\"10\"/><rect x=\"258.8571\" y=\"135.1884\" width=\"10\" style=\"fill:none; stroke:black;\" height=\"10\"/><rect x=\"35.2015\" y=\"181.4133\" width=\"10\" style=\"fill:rgb(43,100,212); stroke:none;\" height=\"10\"/><rect x=\"35.2015\" y=\"181.4133\" width=\"10\" style=\"fill:none; stroke:black;\" height=\"10\"/><rect x=\"83.5048\" y=\"-0.0728\" width=\"10\" style=\"fill:rgb(190,190,229); stroke:none;\" height=\"10\"/><rect x=\"83.5048\" y=\"-0.0728\" width=\"10\" style=\"fill:none; stroke:black;\" height=\"10\"/><rect x=\"60.9784\" y=\"105.0206\" width=\"10\" style=\"fill:rgb(104,29,17); stroke:none;\" height=\"10\"/><rect x=\"60.9784\" y=\"105.0206\" width=\"10\" style=\"fill:none; stroke:black;\" height=\"10\"/><rect x=\"103.9879\" y=\"60.2454\" width=\"10\" style=\"fill:rgb(127,117,251); stroke:none;\" height=\"10\"/><rect x=\"103.9879\" y=\"60.2454\" width=\"10\" style=\"fill:none; stroke:black;\" height=\"10\"/><rect x=\"165.547\" y=\"88.2618\" width=\"10\" style=\"fill:rgb(52,154,185); stroke:none;\" height=\"10\"/><rect x=\"165.547\" y=\"88.2618\" width=\"10\" style=\"fill:none; stroke:black;\" height=\"10\"/><rect x=\"173.0424\" y=\"169.3747\" width=\"10\" style=\"fill:rgb(73,135,22); stroke:none;\" height=\"10\"/><rect x=\"173.0424\" y=\"169.3747\" width=\"10\" style=\"fill:none; stroke:black;\" height=\"10\"/><rect x=\"132.9262\" y=\"24.2387\" width=\"10\" style=\"fill:rgb(107,207,190); stroke:none;\" height=\"10\"/><rect x=\"132.9262\" y=\"24.2387\" width=\"10\" style=\"fill:none; stroke:black;\" height=\"10\"/><rect x=\"167.4546\" y=\"102.5289\" width=\"10\" style=\"fill:rgb(250,85,232); stroke:none;\" height=\"10\"/><rect x=\"167.4546\" y=\"102.5289\" width=\"10\" style=\"fill:none; stroke:black;\" height=\"10\"/><rect x=\"154.4623\" y=\"179.7127\" width=\"10\" style=\"fill:rgb(37,165,131); stroke:none;\" height=\"10\"/><rect x=\"154.4623\" y=\"179.7127\" width=\"10\" style=\"fill:none; stroke:black;\" height=\"10\"/><rect x=\"211.046\" y=\"39.9056\" width=\"10\" style=\"fill:rgb(87,1,82); stroke:none;\" height=\"10\"/><rect x=\"211.046\" y=\"39.9056\" width=\"10\" style=\"fill:none; stroke:black;\" height=\"10\"/><rect x=\"270.9682\" y=\"113.5296\" width=\"10\" style=\"fill:rgb(221,23,178); stroke:none;\" height=\"10\"/><rect x=\"270.9682\" y=\"113.5296\" width=\"10\" style=\"fill:none; stroke:black;\" height=\"10\"/><rect x=\"186.1212\" y=\"162.817\" width=\"10\" style=\"fill:rgb(59,157,42); stroke:none;\" height=\"10\"/><rect x=\"186.1212\" y=\"162.817\" width=\"10\" style=\"fill:none; stroke:black;\" height=\"10\"/><rect x=\"94.1465\" y=\"118.258\" width=\"10\" style=\"fill:rgb(98,119,42); stroke:none;\" height=\"10\"/><rect x=\"94.1465\" y=\"118.258\" width=\"10\" style=\"fill:none; stroke:black;\" height=\"10\"/><rect x=\"149.0507\" y=\"131.4416\" width=\"10\" style=\"fill:rgb(85,78,134); stroke:none;\" height=\"10\"/><rect x=\"149.0507\" y=\"131.4416\" width=\"10\" style=\"fill:none; stroke:black;\" height=\"10\"/><rect x=\"229.9848\" y=\"24.9997\" width=\"10\" style=\"fill:rgb(37,50,126); stroke:none;\" height=\"10\"/><rect x=\"229.9848\" y=\"24.9997\" width=\"10\" style=\"fill:none; stroke:black;\" height=\"10\"/><rect x=\"270.5214\" y=\"154.8873\" width=\"10\" style=\"fill:rgb(41,89,79); stroke:none;\" height=\"10\"/><rect x=\"270.5214\" y=\"154.8873\" width=\"10\" style=\"fill:none; stroke:black;\" height=\"10\"/><rect x=\"87.9273\" y=\"26.5111\" width=\"10\" style=\"fill:rgb(212,156,119); stroke:none;\" height=\"10\"/><rect x=\"87.9273\" y=\"26.5111\" width=\"10\" style=\"fill:none; stroke:black;\" height=\"10\"/><rect x=\"123.4136\" y=\"114.0546\" width=\"10\" style=\"fill:rgb(106,57,252); stroke:none;\" height=\"10\"/><rect x=\"123.4136\" y=\"114.0546\" width=\"10\" style=\"fill:none; stroke:black;\" height=\"10\"/><rect x=\"42.2557\" y=\"57.7582\" width=\"10\" style=\"fill:rgb(176,60,188); stroke:none;\" height=\"10\"/><rect x=\"42.2557\" y=\"57.7582\" width=\"10\" style=\"fill:none; stroke:black;\" height=\"10\"/><rect x=\"160.5372\" y=\"46.5374\" width=\"10\" style=\"fill:rgb(78,103,127); stroke:none;\" height=\"10\"/><rect x=\"160.5372\" y=\"46.5374\" width=\"10\" style=\"fill:none; stroke:black;\" height=\"10\"/><rect x=\"148.0474\" y=\"194.3613\" width=\"10\" style=\"fill:rgb(244,89,14); stroke:none;\" height=\"10\"/><rect x=\"148.0474\" y=\"194.3613\" width=\"10\" style=\"fill:none; stroke:black;\" height=\"10\"/><rect x=\"12.414\" y=\"68.6375\" width=\"10\" style=\"fill:rgb(252,62,50); stroke:none;\" height=\"10\"/><rect x=\"12.414\" y=\"68.6375\" width=\"10\" style=\"fill:none; stroke:black;\" height=\"10\"/><rect x=\"79.1104\" y=\"142.5353\" width=\"10\" style=\"fill:rgb(166,14,111); stroke:none;\" height=\"10\"/><rect x=\"79.1104\" y=\"142.5353\" width=\"10\" style=\"fill:none; stroke:black;\" height=\"10\"/><rect x=\"69.9765\" y=\"171.7422\" width=\"10\" style=\"fill:rgb(152,227,245); stroke:none;\" height=\"10\"/><rect x=\"69.9765\" y=\"171.7422\" width=\"10\" style=\"fill:none; stroke:black;\" height=\"10\"/><rect x=\"109.1015\" y=\"104.7665\" width=\"10\" style=\"fill:rgb(123,93,153); stroke:none;\" height=\"10\"/><rect x=\"109.1015\" y=\"104.7665\" width=\"10\" style=\"fill:none; stroke:black;\" height=\"10\"/><rect x=\"-3.4558\" y=\"128.5153\" width=\"10\" style=\"fill:rgb(65,221,74); stroke:none;\" height=\"10\"/><rect x=\"-3.4558\" y=\"128.5153\" width=\"10\" style=\"fill:none; stroke:black;\" height=\"10\"/><rect x=\"129.6558\" y=\"96.2375\" width=\"10\" style=\"fill:rgb(193,74,136); stroke:none;\" height=\"10\"/><rect x=\"129.6558\" y=\"96.2375\" width=\"10\" style=\"fill:none; stroke:black;\" height=\"10\"/><rect x=\"135.0578\" y=\"127.9678\" width=\"10\" style=\"fill:rgb(240,254,93); stroke:none;\" height=\"10\"/><rect x=\"135.0578\" y=\"127.9678\" width=\"10\" style=\"fill:none; stroke:black;\" height=\"10\"/><rect x=\"230.8702\" y=\"138.5407\" width=\"10\" style=\"fill:rgb(189,18,219); stroke:none;\" height=\"10\"/><rect x=\"230.8702\" y=\"138.5407\" width=\"10\" style=\"fill:none; stroke:black;\" height=\"10\"/><rect x=\"96.2105\" y=\"113.8502\" width=\"10\" style=\"fill:rgb(160,88,189); stroke:none;\" height=\"10\"/><rect x=\"96.2105\" y=\"113.8502\" width=\"10\" style=\"fill:none; stroke:black;\" height=\"10\"/><rect x=\"64.8593\" y=\"67.1206\" width=\"10\" style=\"fill:rgb(154,39,108); stroke:none;\" height=\"10\"/><rect x=\"64.8593\" y=\"67.1206\" width=\"10\" style=\"fill:none; stroke:black;\" height=\"10\"/><rect x=\"129.3017\" y=\"125.9496\" width=\"10\" style=\"fill:rgb(154,200,166); stroke:none;\" height=\"10\"/><rect x=\"129.3017\" y=\"125.9496\" width=\"10\" style=\"fill:none; stroke:black;\" height=\"10\"/><rect x=\"218.7739\" y=\"72.9953\" width=\"10\" style=\"fill:rgb(172,144,192); stroke:none;\" height=\"10\"/><rect x=\"218.7739\" y=\"72.9953\" width=\"10\" style=\"fill:none; stroke:black;\" height=\"10\"/><rect x=\"70.2059\" y=\"46.0605\" width=\"10\" style=\"fill:rgb(206,143,68); stroke:none;\" height=\"10\"/><rect x=\"70.2059\" y=\"46.0605\" width=\"10\" style=\"fill:none; stroke:black;\" height=\"10\"/><rect x=\"16.9477\" y=\"174.1671\" width=\"10\" style=\"fill:rgb(238,23,174); stroke:none;\" height=\"10\"/><rect x=\"16.9477\" y=\"174.1671\" width=\"10\" style=\"fill:none; stroke:black;\" height=\"10\"/><rect x=\"267.8971\" y=\"2.7871\" width=\"10\" style=\"fill:rgb(202,246,162); stroke:none;\" height=\"10\"/><rect x=\"267.8971\" y=\"2.7871\" width=\"10\" style=\"fill:none; stroke:black;\" height=\"10\"/><rect x=\"203.6682\" y=\"107.4267\" width=\"10\" style=\"fill:rgb(63,140,161); stroke:none;\" height=\"10\"/><rect x=\"203.6682\" y=\"107.4267\" width=\"10\" style=\"fill:none; stroke:black;\" height=\"10\"/><rect x=\"159.2601\" y=\"14.8452\" width=\"10\" style=\"fill:rgb(218,52,253); stroke:none;\" height=\"10\"/><rect x=\"159.2601\" y=\"14.8452\" width=\"10\" style=\"fill:none; stroke:black;\" height=\"10\"/><rect x=\"58.266\" y=\"41.5423\" width=\"10\" style=\"fill:rgb(14,42,206); stroke:none;\" height=\"10\"/><rect x=\"58.266\" y=\"41.5423\" width=\"10\" style=\"fill:none; stroke:black;\" height=\"10\"/><rect x=\"291.5988\" y=\"46.1109\" width=\"10\" style=\"fill:rgb(100,140,197); stroke:none;\" height=\"10\"/><rect x=\"291.5988\" y=\"46.1109\" width=\"10\" style=\"fill:none; stroke:black;\" height=\"10\"/><rect x=\"188.8027\" y=\"49.9371\" width=\"10\" style=\"fill:rgb(222,28,200); stroke:none;\" height=\"10\"/><rect x=\"188.8027\" y=\"49.9371\" width=\"10\" style=\"fill:none; stroke:black;\" height=\"10\"/><rect x=\"186.547\" y=\"13.0333\" width=\"10\" style=\"fill:rgb(84,244,20); stroke:none;\" height=\"10\"/><rect x=\"186.547\" y=\"13.0333\" width=\"10\" style=\"fill:none; stroke:black;\" height=\"10\"/><rect x=\"283.2672\" y=\"169.0057\" width=\"10\" style=\"fill:rgb(168,5,25); stroke:none;\" height=\"10\"/><rect x=\"283.2672\" y=\"169.0057\" width=\"10\" style=\"fill:none; stroke:black;\" height=\"10\"/><rect x=\"151.4731\" y=\"2.1462\" width=\"10\" style=\"fill:rgb(142,81,13); stroke:none;\" height=\"10\"/><rect x=\"151.4731\" y=\"2.1462\" width=\"10\" style=\"fill:none; stroke:black;\" height=\"10\"/><rect x=\"93.551\" y=\"112.1518\" width=\"10\" style=\"fill:rgb(42,80,241); stroke:none;\" height=\"10\"/><rect x=\"93.551\" y=\"112.1518\" width=\"10\" style=\"fill:none; stroke:black;\" height=\"10\"/><rect x=\"57.9895\" y=\"160.9284\" width=\"10\" style=\"fill:rgb(23,178,92); stroke:none;\" height=\"10\"/><rect x=\"57.9895\" y=\"160.9284\" width=\"10\" style=\"fill:none; stroke:black;\" height=\"10\"/><rect x=\"188.0637\" y=\"191.7275\" width=\"10\" style=\"fill:rgb(173,171,71); stroke:none;\" height=\"10\"/><rect x=\"188.0637\" y=\"191.7275\" width=\"10\" style=\"fill:none; stroke:black;\" height=\"10\"/><rect x=\"219.4462\" y=\"22.0026\" width=\"10\" style=\"fill:rgb(206,17,201); stroke:none;\" height=\"10\"/><rect x=\"219.4462\" y=\"22.0026\" width=\"10\" style=\"fill:none; stroke:black;\" height=\"10\"/><rect x=\"127.0751\" y=\"59.0994\" width=\"10\" style=\"fill:rgb(39,81,35); stroke:none;\" height=\"10\"/><rect x=\"127.0751\" y=\"59.0994\" width=\"10\" style=\"fill:none; stroke:black;\" height=\"10\"/><rect x=\"51.1216\" y=\"158.4814\" width=\"10\" style=\"fill:rgb(154,132,99); stroke:none;\" height=\"10\"/><rect x=\"51.1216\" y=\"158.4814\" width=\"10\" style=\"fill:none; stroke:black;\" height=\"10\"/><rect x=\"239.6263\" y=\"47.0335\" width=\"10\" style=\"fill:rgb(164,10,167); stroke:none;\" height=\"10\"/><rect x=\"239.6263\" y=\"47.0335\" width=\"10\" style=\"fill:none; stroke:black;\" height=\"10\"/><rect x=\"30.6062\" y=\"190.9883\" width=\"10\" style=\"fill:rgb(97,188,247); stroke:none;\" height=\"10\"/><rect x=\"30.6062\" y=\"190.9883\" width=\"10\" style=\"fill:none; stroke:black;\" height=\"10\"/><rect x=\"218.3572\" y=\"23.8506\" width=\"10\" style=\"fill:rgb(248,84,25); stroke:none;\" height=\"10\"/><rect x=\"218.3572\" y=\"23.8506\" width=\"10\" style=\"fill:none; stroke:black;\" height=\"10\"/><rect x=\"58.8163\" y=\"24.0433\" width=\"10\" style=\"fill:rgb(223,203,109); stroke:none;\" height=\"10\"/><rect x=\"58.8163\" y=\"24.0433\" width=\"10\" style=\"fill:none; stroke:black;\" height=\"10\"/><rect x=\"-2.0181\" y=\"15.1676\" width=\"10\" style=\"fill:rgb(44,76,105); stroke:none;\" height=\"10\"/><rect x=\"-2.0181\" y=\"15.1676\" width=\"10\" style=\"fill:none; stroke:black;\" height=\"10\"/><rect x=\"31.7343\" y=\"72.9755\" width=\"10\" style=\"fill:rgb(25,119,226); stroke:none;\" height=\"10\"/><rect x=\"31.7343\" y=\"72.9755\" width=\"10\" style=\"fill:none; stroke:black;\" height=\"10\"/><rect x=\"177.4664\" y=\"152.1138\" width=\"10\" style=\"fill:rgb(195,104,191); stroke:none;\" height=\"10\"/><rect x=\"177.4664\" y=\"152.1138\" width=\"10\" style=\"fill:none; stroke:black;\" height=\"10\"/><rect x=\"52.6266\" y=\"35.1064\" width=\"10\" style=\"fill:rgb(228,252,162); stroke:none;\" height=\"10\"/><rect x=\"52.6266\" y=\"35.1064\" width=\"10\" style=\"fill:none; stroke:black;\" height=\"10\"/><rect x=\"65.0182\" y=\"143.0421\" width=\"10\" style=\"fill:rgb(25,119,8); stroke:none;\" height=\"10\"/><rect x=\"65.0182\" y=\"143.0421\" width=\"10\" style=\"fill:none; stroke:black;\" height=\"10\"/><rect x=\"147.3387\" y=\"108.8176\" width=\"10\" style=\"fill:rgb(158,137,242); stroke:none;\" height=\"10\"/><rect x=\"147.3387\" y=\"108.8176\" width=\"10\" style=\"fill:none; stroke:black;\" height=\"10\"/><rect x=\"154.0293\" y=\"32.9392\" width=\"10\" style=\"fill:rgb(240,90,47); stroke:none;\" height=\"10\"/><rect x=\"154.0293\" y=\"32.9392\" width=\"10\" style=\"fill:none; stroke:black;\" height=\"10\"/><rect x=\"6.8204\" y=\"91.2642\" width=\"10\" style=\"fill:rgb(121,220,222); stroke:none;\" height=\"10\"/><rect x=\"6.8204\" y=\"91.2642\" width=\"10\" style=\"fill:none; stroke:black;\" height=\"10\"/><rect x=\"251.5254\" y=\"186.7903\" width=\"10\" style=\"fill:rgb(83,214,218); stroke:none;\" height=\"10\"/><rect x=\"251.5254\" y=\"186.7903\" width=\"10\" style=\"fill:none; stroke:black;\" height=\"10\"/><rect x=\"223.0279\" y=\"174.4345\" width=\"10\" style=\"fill:rgb(231,103,151); stroke:none;\" height=\"10\"/><rect x=\"223.0279\" y=\"174.4345\" width=\"10\" style=\"fill:none; stroke:black;\" height=\"10\"/><rect x=\"129.8773\" y=\"136.9881\" width=\"10\" style=\"fill:rgb(134,106,161); stroke:none;\" height=\"10\"/><rect x=\"129.8773\" y=\"136.9881\" width=\"10\" style=\"fill:none; stroke:black;\" height=\"10\"/><rect x=\"84.4259\" y=\"44.0933\" width=\"10\" style=\"fill:rgb(150,224,198); stroke:none;\" height=\"10\"/><rect x=\"84.4259\" y=\"44.0933\" width=\"10\" style=\"fill:none; stroke:black;\" height=\"10\"/><rect x=\"172.8215\" y=\"43.4454\" width=\"10\" style=\"fill:rgb(205,101,219); stroke:none;\" height=\"10\"/><rect x=\"172.8215\" y=\"43.4454\" width=\"10\" style=\"fill:none; stroke:black;\" height=\"10\"/><rect x=\"225.7454\" y=\"112.5985\" width=\"10\" style=\"fill:rgb(120,91,19); stroke:none;\" height=\"10\"/><rect x=\"225.7454\" y=\"112.5985\" width=\"10\" style=\"fill:none; stroke:black;\" height=\"10\"/><rect x=\"47.2625\" y=\"170.1665\" width=\"10\" style=\"fill:rgb(61,50,89); stroke:none;\" height=\"10\"/><rect x=\"47.2625\" y=\"170.1665\" width=\"10\" style=\"fill:none; stroke:black;\" height=\"10\"/><rect x=\"186.4393\" y=\"5.0713\" width=\"10\" style=\"fill:rgb(249,75,114); stroke:none;\" height=\"10\"/><rect x=\"186.4393\" y=\"5.0713\" width=\"10\" style=\"fill:none; stroke:black;\" height=\"10\"/><rect x=\"205.5208\" y=\"118.2722\" width=\"10\" style=\"fill:rgb(130,177,53); stroke:none;\" height=\"10\"/><rect x=\"205.5208\" y=\"118.2722\" width=\"10\" style=\"fill:none; stroke:black;\" height=\"10\"/><rect x=\"100.2384\" y=\"87.5494\" width=\"10\" style=\"fill:rgb(177,44,156); stroke:none;\" height=\"10\"/><rect x=\"100.2384\" y=\"87.5494\" width=\"10\" style=\"fill:none; stroke:black;\" height=\"10\"/><rect x=\"171.213\" y=\"173.4025\" width=\"10\" style=\"fill:rgb(73,106,63); stroke:none;\" height=\"10\"/><rect x=\"171.213\" y=\"173.4025\" width=\"10\" style=\"fill:none; stroke:black;\" height=\"10\"/><rect x=\"144.7272\" y=\"171.9951\" width=\"10\" style=\"fill:rgb(61,103,251); stroke:none;\" height=\"10\"/><rect x=\"144.7272\" y=\"171.9951\" width=\"10\" style=\"fill:none; stroke:black;\" height=\"10\"/><rect x=\"198.715\" y=\"149.8206\" width=\"10\" style=\"fill:rgb(70,114,38); stroke:none;\" height=\"10\"/><rect x=\"198.715\" y=\"149.8206\" width=\"10\" style=\"fill:none; stroke:black;\" height=\"10\"/><rect x=\"72.9143\" y=\"40.3423\" width=\"10\" style=\"fill:rgb(144,59,104); stroke:none;\" height=\"10\"/><rect x=\"72.9143\" y=\"40.3423\" width=\"10\" style=\"fill:none; stroke:black;\" height=\"10\"/><rect x=\"198.4258\" y=\"136.5831\" width=\"10\" style=\"fill:rgb(52,85,134); stroke:none;\" height=\"10\"/><rect x=\"198.4258\" y=\"136.5831\" width=\"10\" style=\"fill:none; stroke:black;\" height=\"10\"/><rect x=\"266.7274\" y=\"140.9243\" width=\"10\" style=\"fill:rgb(192,196,140); stroke:none;\" height=\"10\"/><rect x=\"266.7274\" y=\"140.9243\" width=\"10\" style=\"fill:none; stroke:black;\" height=\"10\"/><rect x=\"57.5672\" y=\"40.2786\" width=\"10\" style=\"fill:rgb(143,27,99); stroke:none;\" height=\"10\"/><rect x=\"57.5672\" y=\"40.2786\" width=\"10\" style=\"fill:none; stroke:black;\" height=\"10\"/><rect x=\"38.3134\" y=\"162.8406\" width=\"10\" style=\"fill:rgb(80,48,35); stroke:none;\" height=\"10\"/><rect x=\"38.3134\" y=\"162.8406\" width=\"10\" style=\"fill:none; stroke:black;\" height=\"10\"/><rect x=\"103.9747\" y=\"93.8959\" width=\"10\" style=\"fill:rgb(241,61,162); stroke:none;\" height=\"10\"/><rect x=\"103.9747\" y=\"93.8959\" width=\"10\" style=\"fill:none; stroke:black;\" height=\"10\"/><rect x=\"215.7887\" y=\"2.0786\" width=\"10\" style=\"fill:rgb(55,232,4); stroke:none;\" height=\"10\"/><rect x=\"215.7887\" y=\"2.0786\" width=\"10\" style=\"fill:none; stroke:black;\" height=\"10\"/><rect x=\"185.3428\" y=\"92.5438\" width=\"10\" style=\"fill:rgb(119,230,22); stroke:none;\" height=\"10\"/><rect x=\"185.3428\" y=\"92.5438\" width=\"10\" style=\"fill:none; stroke:black;\" height=\"10\"/><rect x=\"26.395\" y=\"46.1999\" width=\"10\" style=\"fill:rgb(79,229,139); stroke:none;\" height=\"10\"/><rect x=\"26.395\" y=\"46.1999\" width=\"10\" style=\"fill:none; stroke:black;\" height=\"10\"/></g></g></svg>"
      ],
      "text/plain": [
       "<IPython.core.display.SVG object>"
      ]
     },
     "metadata": {},
     "output_type": "display_data"
    }
   ],
   "source": [
    "%%py5drawsvg 300 200\n",
    "\n",
    "py5.background(240)\n",
    "py5.rect_mode(py5.CENTER)\n",
    "\n",
    "for i in range(100):\n",
    "    pick_random_fill()\n",
    "    py5.rect(py5.random(py5.width), py5.random(py5.height), 10, 10)"
   ]
  },
  {
   "cell_type": "markdown",
   "metadata": {},
   "source": [
    "## PDF Renderer\n",
    "\n",
    "Write to PDF files using `%%py5drawpdf`. Since Jupyter notebook does not support embedded PDF files, the output must be written to a file."
   ]
  },
  {
   "cell_type": "code",
   "execution_count": 10,
   "metadata": {},
   "outputs": [
    {
     "name": "stdout",
     "output_type": "stream",
     "text": [
      "PDF written to /tmp/simple_example.pdf\n"
     ]
    }
   ],
   "source": [
    "%%py5drawpdf 300 200 /tmp/simple_example.pdf\n",
    "\n",
    "py5.background(240)\n",
    "py5.rect_mode(py5.CENTER)\n",
    "\n",
    "for i in range(100):\n",
    "    pick_random_fill()\n",
    "    py5.rect(py5.random(py5.width), py5.random(py5.height), 10, 10)"
   ]
  },
  {
   "cell_type": "markdown",
   "metadata": {},
   "source": [
    "## DXF Renderer\n",
    "\n",
    "Write 3D objects to DXF files with `%%py5drawdxf`. This probably won't be a popular choice, but maybe somebody will appreciate it."
   ]
  },
  {
   "cell_type": "code",
   "execution_count": 11,
   "metadata": {},
   "outputs": [
    {
     "name": "stdout",
     "output_type": "stream",
     "text": [
      "DXF written to /tmp/test.dxf\n"
     ]
    }
   ],
   "source": [
    "%%py5drawdxf 200 200 /tmp/test.dxf\n",
    "\n",
    "py5.translate(py5.width / 2, py5.height / 2)\n",
    "py5.rotate_x(0.4)\n",
    "py5.rotate_y(0.8)\n",
    "py5.box(80)"
   ]
  },
  {
   "cell_type": "code",
   "execution_count": 12,
   "metadata": {},
   "outputs": [
    {
     "name": "stdout",
     "output_type": "stream",
     "text": [
      "0\r\n",
      "SECTION\r\n",
      "2\r\n",
      "ENTITIES\r\n",
      "0\r\n",
      "3DFACE\r\n",
      "8\r\n",
      "0\r\n",
      "10\r\n",
      "-56.562515\r\n"
     ]
    }
   ],
   "source": [
    "!head /tmp/test.dxf"
   ]
  },
  {
   "cell_type": "markdown",
   "metadata": {},
   "source": [
    "## Variable Scope\n",
    "\n",
    "By default, new variables defined inside cell magics such as `%%py5draw` cannot be accessed elsewhere in the notebook.\n",
    "\n",
    "Consider the below example. It creates new variables `random_x` and `random_y` to store the location of the square."
   ]
  },
  {
   "cell_type": "code",
   "execution_count": 13,
   "metadata": {},
   "outputs": [
    {
     "data": {
      "image/png": "[encoded data removed]",
      "text/plain": [
       "<IPython.core.display.Image object>"
      ]
     },
     "metadata": {},
     "output_type": "display_data"
    }
   ],
   "source": [
    "%%py5draw 300 200\n",
    "\n",
    "py5.background(240)\n",
    "py5.rect_mode(py5.CENTER)\n",
    "\n",
    "random_x = py5.random(py5.width)\n",
    "random_y = py5.random(py5.height)\n",
    "py5.rect(random_x, random_y, 50, 50)"
   ]
  },
  {
   "cell_type": "markdown",
   "metadata": {},
   "source": [
    "The variables `random_x` and `random_y` are not accessible outside of that cell:"
   ]
  },
  {
   "cell_type": "code",
   "execution_count": 14,
   "metadata": {},
   "outputs": [
    {
     "ename": "NameError",
     "evalue": "name 'random_x' is not defined",
     "output_type": "error",
     "traceback": [
      "\u001b[0;31m---------------------------------------------------------------------------\u001b[0m",
      "\u001b[0;31mNameError\u001b[0m                                 Traceback (most recent call last)",
      "\u001b[0;32m<ipython-input-14-495f30123407>\u001b[0m in \u001b[0;36m<module>\u001b[0;34m\u001b[0m\n\u001b[0;32m----> 1\u001b[0;31m \u001b[0mrandom_x\u001b[0m\u001b[0;34m,\u001b[0m \u001b[0mrandom_y\u001b[0m\u001b[0;34m\u001b[0m\u001b[0;34m\u001b[0m\u001b[0m\n\u001b[0m",
      "\u001b[0;31mNameError\u001b[0m: name 'random_x' is not defined"
     ]
    }
   ],
   "source": [
    "random_x, random_y"
   ]
  },
  {
   "cell_type": "markdown",
   "metadata": {},
   "source": [
    "This behavior is by design.\n",
    "\n",
    "Consider that the py5 library is using the Processing library to create these graphics. Builtin Processing objects such as PImage or PGraphics are designed to be associated with one and only one Processing sketch. Py5 can let users write code to that subverts these assumptions, and as a result use Processing in a way that is completely different from how it was designed to be used. Sometimes this can be beneficial, but often times it will cause unexpected errors.\n",
    "\n",
    "If you understand the risks, or if you are working with non-Processing related variables (as is the case for `random_x` and `random_y` in the above example), you have two options available to you.\n",
    "\n",
    "First, you can add the global keyword to your code:"
   ]
  },
  {
   "cell_type": "code",
   "execution_count": 15,
   "metadata": {},
   "outputs": [
    {
     "data": {
      "image/png": "[encoded data removed]",
      "text/plain": [
       "<IPython.core.display.Image object>"
      ]
     },
     "metadata": {},
     "output_type": "display_data"
    }
   ],
   "source": [
    "%%py5draw 300 200\n",
    "\n",
    "py5.background(240)\n",
    "py5.rect_mode(py5.CENTER)\n",
    "\n",
    "global random_x\n",
    "global random_y\n",
    "\n",
    "random_x = py5.random(py5.width)\n",
    "random_y = py5.random(py5.height)\n",
    "py5.rect(random_x, random_y, 50, 50)"
   ]
  },
  {
   "cell_type": "markdown",
   "metadata": {},
   "source": [
    "Now we can get the position of the square:"
   ]
  },
  {
   "cell_type": "code",
   "execution_count": 16,
   "metadata": {},
   "outputs": [
    {
     "data": {
      "text/plain": [
       "(190.17618098767846, 158.59001118058927)"
      ]
     },
     "execution_count": 16,
     "metadata": {},
     "output_type": "execute_result"
    }
   ],
   "source": [
    "random_x, random_y"
   ]
  },
  {
   "cell_type": "markdown",
   "metadata": {},
   "source": [
    "Alternatively, you can use the `--unsafe` parameter. This is a blanket statement that mixes the cell magic's namespace with the notebook namespace."
   ]
  },
  {
   "cell_type": "code",
   "execution_count": 17,
   "metadata": {},
   "outputs": [
    {
     "data": {
      "image/png": "[encoded data removed]",
      "text/plain": [
       "<IPython.core.display.Image object>"
      ]
     },
     "metadata": {},
     "output_type": "display_data"
    }
   ],
   "source": [
    "%%py5draw 300 200 --unsafe\n",
    "\n",
    "py5.background(240)\n",
    "py5.rect_mode(py5.CENTER)\n",
    "\n",
    "random_x = py5.random(py5.width)\n",
    "random_y = py5.random(py5.height)\n",
    "py5.rect(random_x, random_y, 50, 50)"
   ]
  },
  {
   "cell_type": "code",
   "execution_count": 18,
   "metadata": {},
   "outputs": [
    {
     "data": {
      "text/plain": [
       "(169.21388916882407, 96.91521396120699)"
      ]
     },
     "execution_count": 18,
     "metadata": {},
     "output_type": "execute_result"
    }
   ],
   "source": [
    "random_x, random_y"
   ]
  },
  {
   "cell_type": "markdown",
   "metadata": {},
   "source": [
    "# Animated Sketches\n",
    "\n",
    "Of course, there's more to py5 than static sketches. The py5 magics will support animated sketches as well.\n",
    "\n",
    "Note that starting your development process with static sketches is a great way to write py5 code. For example, you can quickly develop functions for parts of your creation and test them out with static sketches, and later use those same functions in your final animation.\n",
    "\n",
    "Let's create a simple example. The below `settings` function will tell py5 to create a 500 by 400 sketch window."
   ]
  },
  {
   "cell_type": "code",
   "execution_count": 19,
   "metadata": {},
   "outputs": [],
   "source": [
    "def settings():\n",
    "    py5.size(500, 400)"
   ]
  },
  {
   "cell_type": "markdown",
   "metadata": {},
   "source": [
    "This `setup` function will set the background color and set the rect mode."
   ]
  },
  {
   "cell_type": "code",
   "execution_count": 20,
   "metadata": {},
   "outputs": [],
   "source": [
    "def setup():\n",
    "    py5.background(240)\n",
    "    py5.rect_mode(py5.CENTER)"
   ]
  },
  {
   "cell_type": "markdown",
   "metadata": {},
   "source": [
    "And finally, the `draw` function to draw squares at the current mouse position."
   ]
  },
  {
   "cell_type": "code",
   "execution_count": 28,
   "metadata": {},
   "outputs": [],
   "source": [
    "def draw():\n",
    "    pick_random_fill()\n",
    "    py5.rect(py5.mouse_x, py5.mouse_y, 10, 10)"
   ]
  },
  {
   "cell_type": "markdown",
   "metadata": {},
   "source": [
    "To run the sketch, use the :doc:`run_sketch` method. It will pull out the `settings`, `setup`, and `draw` functions from the notebook's namespace and put them together in a sketch."
   ]
  },
  {
   "cell_type": "code",
   "execution_count": 31,
   "metadata": {},
   "outputs": [
    {
     "name": "stdout",
     "output_type": "stream",
     "text": [
      "the sketch is running!\n"
     ]
    }
   ],
   "source": [
    "py5.run_sketch()\n",
    "print('the sketch is running!')"
   ]
  },
  {
   "cell_type": "markdown",
   "metadata": {},
   "source": [
    "A new window opens for the running sketch.\n",
    "\n",
    "By default, the :doc:`run_sketch` method returns right away, as illustrated by the `print` statement. This enables the notebook user to continue coding, including executing code that interacts with the sketch.\n",
    "\n",
    "The sketch window cannot be embedded into the notebook, but the `%py5screenshot` magic can be used to embed a snapshot of the window."
   ]
  },
  {
   "cell_type": "code",
   "execution_count": 32,
   "metadata": {},
   "outputs": [
    {
     "ename": "UnidentifiedImageError",
     "evalue": "cannot identify image file '/tmp/tmpyi13utf6.png'",
     "output_type": "error",
     "traceback": [
      "\u001b[0;31m---------------------------------------------------------------------------\u001b[0m",
      "\u001b[0;31mUnidentifiedImageError\u001b[0m                    Traceback (most recent call last)",
      "\u001b[0;32m<ipython-input-32-efc3a4c0a5d5>\u001b[0m in \u001b[0;36m<module>\u001b[0;34m\u001b[0m\n\u001b[0;32m----> 1\u001b[0;31m \u001b[0msketch_snapshot\u001b[0m \u001b[0;34m=\u001b[0m \u001b[0mget_ipython\u001b[0m\u001b[0;34m(\u001b[0m\u001b[0;34m)\u001b[0m\u001b[0;34m.\u001b[0m\u001b[0mrun_line_magic\u001b[0m\u001b[0;34m(\u001b[0m\u001b[0;34m'py5screenshot'\u001b[0m\u001b[0;34m,\u001b[0m \u001b[0;34m'-w 5'\u001b[0m\u001b[0;34m)\u001b[0m\u001b[0;34m\u001b[0m\u001b[0;34m\u001b[0m\u001b[0m\n\u001b[0m\u001b[1;32m      2\u001b[0m \u001b[0;34m\u001b[0m\u001b[0m\n\u001b[1;32m      3\u001b[0m \u001b[0mprint\u001b[0m\u001b[0;34m(\u001b[0m\u001b[0mtype\u001b[0m\u001b[0;34m(\u001b[0m\u001b[0msketch_snapshot\u001b[0m\u001b[0;34m)\u001b[0m\u001b[0;34m)\u001b[0m\u001b[0;34m\u001b[0m\u001b[0;34m\u001b[0m\u001b[0m\n\u001b[1;32m      4\u001b[0m \u001b[0;34m\u001b[0m\u001b[0m\n\u001b[1;32m      5\u001b[0m \u001b[0msketch_snapshot\u001b[0m\u001b[0;34m\u001b[0m\u001b[0;34m\u001b[0m\u001b[0m\n",
      "\u001b[0;32m~/INSTALL/anaconda3/envs/py5/lib/python3.8/site-packages/IPython/core/interactiveshell.py\u001b[0m in \u001b[0;36mrun_line_magic\u001b[0;34m(self, magic_name, line, _stack_depth)\u001b[0m\n\u001b[1;32m   2324\u001b[0m                 \u001b[0mkwargs\u001b[0m\u001b[0;34m[\u001b[0m\u001b[0;34m'local_ns'\u001b[0m\u001b[0;34m]\u001b[0m \u001b[0;34m=\u001b[0m \u001b[0mself\u001b[0m\u001b[0;34m.\u001b[0m\u001b[0mget_local_scope\u001b[0m\u001b[0;34m(\u001b[0m\u001b[0mstack_depth\u001b[0m\u001b[0;34m)\u001b[0m\u001b[0;34m\u001b[0m\u001b[0;34m\u001b[0m\u001b[0m\n\u001b[1;32m   2325\u001b[0m             \u001b[0;32mwith\u001b[0m \u001b[0mself\u001b[0m\u001b[0;34m.\u001b[0m\u001b[0mbuiltin_trap\u001b[0m\u001b[0;34m:\u001b[0m\u001b[0;34m\u001b[0m\u001b[0;34m\u001b[0m\u001b[0m\n\u001b[0;32m-> 2326\u001b[0;31m                 \u001b[0mresult\u001b[0m \u001b[0;34m=\u001b[0m \u001b[0mfn\u001b[0m\u001b[0;34m(\u001b[0m\u001b[0;34m*\u001b[0m\u001b[0margs\u001b[0m\u001b[0;34m,\u001b[0m \u001b[0;34m**\u001b[0m\u001b[0mkwargs\u001b[0m\u001b[0;34m)\u001b[0m\u001b[0;34m\u001b[0m\u001b[0;34m\u001b[0m\u001b[0m\n\u001b[0m\u001b[1;32m   2327\u001b[0m             \u001b[0;32mreturn\u001b[0m \u001b[0mresult\u001b[0m\u001b[0;34m\u001b[0m\u001b[0;34m\u001b[0m\u001b[0m\n\u001b[1;32m   2328\u001b[0m \u001b[0;34m\u001b[0m\u001b[0m\n",
      "\u001b[0;32m<decorator-gen-122>\u001b[0m in \u001b[0;36mpy5screenshot\u001b[0;34m(self, line)\u001b[0m\n",
      "\u001b[0;32m~/INSTALL/anaconda3/envs/py5/lib/python3.8/site-packages/IPython/core/magic.py\u001b[0m in \u001b[0;36m<lambda>\u001b[0;34m(f, *a, **k)\u001b[0m\n\u001b[1;32m    185\u001b[0m     \u001b[0;31m# but it's overkill for just that one bit of state.\u001b[0m\u001b[0;34m\u001b[0m\u001b[0;34m\u001b[0m\u001b[0;34m\u001b[0m\u001b[0m\n\u001b[1;32m    186\u001b[0m     \u001b[0;32mdef\u001b[0m \u001b[0mmagic_deco\u001b[0m\u001b[0;34m(\u001b[0m\u001b[0marg\u001b[0m\u001b[0;34m)\u001b[0m\u001b[0;34m:\u001b[0m\u001b[0;34m\u001b[0m\u001b[0;34m\u001b[0m\u001b[0m\n\u001b[0;32m--> 187\u001b[0;31m         \u001b[0mcall\u001b[0m \u001b[0;34m=\u001b[0m \u001b[0;32mlambda\u001b[0m \u001b[0mf\u001b[0m\u001b[0;34m,\u001b[0m \u001b[0;34m*\u001b[0m\u001b[0ma\u001b[0m\u001b[0;34m,\u001b[0m \u001b[0;34m**\u001b[0m\u001b[0mk\u001b[0m\u001b[0;34m:\u001b[0m \u001b[0mf\u001b[0m\u001b[0;34m(\u001b[0m\u001b[0;34m*\u001b[0m\u001b[0ma\u001b[0m\u001b[0;34m,\u001b[0m \u001b[0;34m**\u001b[0m\u001b[0mk\u001b[0m\u001b[0;34m)\u001b[0m\u001b[0;34m\u001b[0m\u001b[0;34m\u001b[0m\u001b[0m\n\u001b[0m\u001b[1;32m    188\u001b[0m \u001b[0;34m\u001b[0m\u001b[0m\n\u001b[1;32m    189\u001b[0m         \u001b[0;32mif\u001b[0m \u001b[0mcallable\u001b[0m\u001b[0;34m(\u001b[0m\u001b[0marg\u001b[0m\u001b[0;34m)\u001b[0m\u001b[0;34m:\u001b[0m\u001b[0;34m\u001b[0m\u001b[0;34m\u001b[0m\u001b[0m\n",
      "\u001b[0;32m~/INSTALL/anaconda3/envs/py5/lib/python3.8/site-packages/py5_tools/magics.py\u001b[0m in \u001b[0;36mpy5screenshot\u001b[0;34m(self, line)\u001b[0m\n\u001b[1;32m    366\u001b[0m \u001b[0;34m\u001b[0m\u001b[0m\n\u001b[1;32m    367\u001b[0m             \u001b[0;32mif\u001b[0m \u001b[0mhook\u001b[0m\u001b[0;34m.\u001b[0m\u001b[0mis_ready\u001b[0m\u001b[0;34m:\u001b[0m\u001b[0;34m\u001b[0m\u001b[0;34m\u001b[0m\u001b[0m\n\u001b[0;32m--> 368\u001b[0;31m                 \u001b[0;32mreturn\u001b[0m \u001b[0mPIL\u001b[0m\u001b[0;34m.\u001b[0m\u001b[0mImage\u001b[0m\u001b[0;34m.\u001b[0m\u001b[0mopen\u001b[0m\u001b[0;34m(\u001b[0m\u001b[0mpng_file\u001b[0m\u001b[0;34m.\u001b[0m\u001b[0mname\u001b[0m\u001b[0;34m)\u001b[0m\u001b[0;34m\u001b[0m\u001b[0;34m\u001b[0m\u001b[0m\n\u001b[0m\u001b[1;32m    369\u001b[0m             \u001b[0;32melif\u001b[0m \u001b[0mhook\u001b[0m\u001b[0;34m.\u001b[0m\u001b[0mis_terminated\u001b[0m \u001b[0;32mand\u001b[0m \u001b[0mhook\u001b[0m\u001b[0;34m.\u001b[0m\u001b[0mexception\u001b[0m\u001b[0;34m:\u001b[0m\u001b[0;34m\u001b[0m\u001b[0;34m\u001b[0m\u001b[0m\n\u001b[1;32m    370\u001b[0m                 \u001b[0mprint\u001b[0m\u001b[0;34m(\u001b[0m\u001b[0;34m'error running magic:'\u001b[0m\u001b[0;34m,\u001b[0m \u001b[0mhook\u001b[0m\u001b[0;34m.\u001b[0m\u001b[0mexception\u001b[0m\u001b[0;34m)\u001b[0m\u001b[0;34m\u001b[0m\u001b[0;34m\u001b[0m\u001b[0m\n",
      "\u001b[0;32m~/INSTALL/anaconda3/envs/py5/lib/python3.8/site-packages/PIL/Image.py\u001b[0m in \u001b[0;36mopen\u001b[0;34m(fp, mode, formats)\u001b[0m\n\u001b[1;32m   2941\u001b[0m     \u001b[0;32mfor\u001b[0m \u001b[0mmessage\u001b[0m \u001b[0;32min\u001b[0m \u001b[0maccept_warnings\u001b[0m\u001b[0;34m:\u001b[0m\u001b[0;34m\u001b[0m\u001b[0;34m\u001b[0m\u001b[0m\n\u001b[1;32m   2942\u001b[0m         \u001b[0mwarnings\u001b[0m\u001b[0;34m.\u001b[0m\u001b[0mwarn\u001b[0m\u001b[0;34m(\u001b[0m\u001b[0mmessage\u001b[0m\u001b[0;34m)\u001b[0m\u001b[0;34m\u001b[0m\u001b[0;34m\u001b[0m\u001b[0m\n\u001b[0;32m-> 2943\u001b[0;31m     raise UnidentifiedImageError(\n\u001b[0m\u001b[1;32m   2944\u001b[0m         \u001b[0;34m\"cannot identify image file %r\"\u001b[0m \u001b[0;34m%\u001b[0m \u001b[0;34m(\u001b[0m\u001b[0mfilename\u001b[0m \u001b[0;32mif\u001b[0m \u001b[0mfilename\u001b[0m \u001b[0;32melse\u001b[0m \u001b[0mfp\u001b[0m\u001b[0;34m)\u001b[0m\u001b[0;34m\u001b[0m\u001b[0;34m\u001b[0m\u001b[0m\n\u001b[1;32m   2945\u001b[0m     )\n",
      "\u001b[0;31mUnidentifiedImageError\u001b[0m: cannot identify image file '/tmp/tmpyi13utf6.png'"
     ]
    }
   ],
   "source": [
    "sketch_snapshot = %py5screenshot -w 5\n",
    "\n",
    "print(type(sketch_snapshot))\n",
    "\n",
    "sketch_snapshot"
   ]
  },
  {
   "cell_type": "markdown",
   "metadata": {},
   "source": [
    "Observe that this is a line magic, not a cell magic, and that the line magic returns a frame of the sketch as a [PIL image object](https://pillow.readthedocs.io/en/stable/index.html)."
   ]
  },
  {
   "cell_type": "markdown",
   "metadata": {},
   "source": [
    "%py5animatedgif\n",
    "%py5screencapture"
   ]
  },
  {
   "cell_type": "markdown",
   "metadata": {},
   "source": [
    "print statements, using logging\n",
    "contrast with the console"
   ]
  }
 ],
 "metadata": {
  "kernelspec": {
   "display_name": "Python 3",
   "language": "python",
   "name": "python3"
  },
  "language_info": {
   "codemirror_mode": {
    "name": "ipython",
    "version": 3
   },
   "file_extension": ".py",
   "mimetype": "text/x-python",
   "name": "python",
   "nbconvert_exporter": "python",
   "pygments_lexer": "ipython3",
   "version": "3.8.5"
  }
 },
 "nbformat": 4,
 "nbformat_minor": 4
}
