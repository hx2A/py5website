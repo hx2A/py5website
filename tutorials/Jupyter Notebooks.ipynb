{
 "cells": [
  {
   "cell_type": "markdown",
   "metadata": {},
   "source": [
    "The py5 library is designed to work well with Jupyter tools, including Jupyter notebook. There are included IPython magics that are useful for supporting your development and documentation efforts as well as your creative endeavors. Used well, they can greatly enhance your programming workflow.\n",
    "\n",
    "To use py5 in a notebook, first import the library:"
   ]
  },
  {
   "cell_type": "code",
   "execution_count": 1,
   "metadata": {},
   "outputs": [
    {
     "data": {
      "text/plain": [
       "'0.3a4'"
      ]
     },
     "execution_count": 1,
     "metadata": {},
     "output_type": "execute_result"
    }
   ],
   "source": [
    "import py5\n",
    "py5.__version__"
   ]
  },
  {
   "cell_type": "markdown",
   "metadata": {},
   "source": [
    "# Getting Help\n",
    "\n",
    "Before continuing, it is worth pointing out that you can access the docstrings for any py5 functions by appending a `?` to the end of the function, or with the builtin `help` function.\n",
    "\n",
    "Using the `?` which something like `py5.rect?` temporarily displays the documentation at the bottom of the notebook window. The builtin `help` function puts the result in the notebook cell."
   ]
  },
  {
   "cell_type": "code",
   "execution_count": 2,
   "metadata": {},
   "outputs": [
    {
     "name": "stdout",
     "output_type": "stream",
     "text": [
      "Help on function rect in module py5:\n",
      "\n",
      "rect(*args)\n",
      "    Draws a rectangle to the screen.\n",
      "    \n",
      "    Underlying Java method: PApplet.rect\n",
      "    \n",
      "    Methods\n",
      "    -------\n",
      "    \n",
      "    You can use any of the following signatures:\n",
      "    \n",
      "     * rect(a: float, b: float, c: float, d: float, /) -> None\n",
      "     * rect(a: float, b: float, c: float, d: float, r: float, /) -> None\n",
      "     * rect(a: float, b: float, c: float, d: float, tl: float, tr: float, br: float, bl: float, /) -> None\n",
      "    \n",
      "    Parameters\n",
      "    ----------\n",
      "    \n",
      "    a: float\n",
      "        x-coordinate of the rectangle by default\n",
      "    \n",
      "    b: float\n",
      "        y-coordinate of the rectangle by default\n",
      "    \n",
      "    bl: float\n",
      "        radius for bottom-left corner\n",
      "    \n",
      "    br: float\n",
      "        radius for bottom-right corner\n",
      "    \n",
      "    c: float\n",
      "        width of the rectangle by default\n",
      "    \n",
      "    d: float\n",
      "        height of the rectangle by default\n",
      "    \n",
      "    r: float\n",
      "        radii for all four corners\n",
      "    \n",
      "    tl: float\n",
      "        radius for top-left corner\n",
      "    \n",
      "    tr: float\n",
      "        radius for top-right corner\n",
      "    \n",
      "    Notes\n",
      "    -----\n",
      "    \n",
      "    Draws a rectangle to the screen. A rectangle is a four-sided shape with every\n",
      "    angle at ninety degrees. By default, the first two parameters set the location\n",
      "    of the upper-left corner, the third sets the width, and the fourth sets the\n",
      "    height. The way these parameters are interpreted, however, may be changed with\n",
      "    the ``rect_mode()`` function.\n",
      "    \n",
      "    To draw a rounded rectangle, add a fifth parameter, which is used as the radius\n",
      "    value for all four corners.\n",
      "    \n",
      "    To use a different radius value for each corner, include eight parameters. When\n",
      "    using eight parameters, the latter four set the radius of the arc at each corner\n",
      "    separately, starting with the top-left corner and moving clockwise around the\n",
      "    rectangle.\n",
      "\n"
     ]
    }
   ],
   "source": [
    "help(py5.rect)"
   ]
  },
  {
   "cell_type": "markdown",
   "metadata": {},
   "source": [
    "Pause to take a moment to appreciate that documentation, with its proper type signatures and explicit variable types. You'll also notice the content is analogous what is in py5's [rect()](link://slug/rect) reference documentation. Producing thorough and coordinated py5 docstrings and reference documentation like this took an enormous amount of work.\n",
    "\n",
    "You'll notice that all the usual Jupyter niceties such as tab completion work for py5. There are also Python typehints for all py5 objects."
   ]
  },
  {
   "cell_type": "markdown",
   "metadata": {},
   "source": [
    "# Load IPython Magics\n",
    "\n",
    "Next, load the py5 magics:"
   ]
  },
  {
   "cell_type": "code",
   "execution_count": 3,
   "metadata": {},
   "outputs": [],
   "source": [
    "%load_ext py5"
   ]
  },
  {
   "cell_type": "markdown",
   "metadata": {},
   "source": [
    "These \"magic\" commands are like extra functionality added to what Python and Jupyter notebooks can already do.\n",
    "\n",
    "The py5 magics all start with \"py5\".\n",
    "\n",
    "The line magics are:\n",
    "\n",
    "* %py5animatedgif\n",
    "* %py5screencapture\n",
    "* %py5screenshot\n",
    "\n",
    "and the cell magics are:\n",
    "\n",
    "* %%py5draw\n",
    "* %%py5drawdxf\n",
    "* %%py5drawpdf\n",
    "* %%py5drawsvg\n",
    "\n",
    "As before, documentation for each is available by appending a `?`, such as when you type `%%py5draw?` in an empty cell. The builtin `help` function does not work with IPython magics.\n",
    "\n",
    "See below for demonstrations of what each does."
   ]
  },
  {
   "cell_type": "markdown",
   "metadata": {},
   "source": [
    "# Running py5 on Mac Computers\n",
    "\n",
    "There is a known [JPype problem with Java GUI applications on Mac OSX](https://github.com/jpype-project/jpype/issues/906). The below Jupyter magic seems to resolve the problem for py5:"
   ]
  },
  {
   "cell_type": "code",
   "execution_count": null,
   "metadata": {},
   "outputs": [],
   "source": [
    "%gui osx"
   ]
  },
  {
   "cell_type": "markdown",
   "metadata": {},
   "source": [
    "This is not a complete solution because users should be able to run code in a basic python interpreter, without Jupyter. Unfortunately the main developer for JPype does not have a Mac computer to investigate or test, and because of the pandemic, is not able to get one. Therefore, Mac users will need to wait for a better solution.\n",
    "\n",
    "Additionally, there is py5 bug where open windows do not exit properly under OSX. That problem should be resolved soon in a future release."
   ]
  },
  {
   "cell_type": "markdown",
   "metadata": {},
   "source": [
    "# Static Sketches\n",
    "\n",
    "The below example creates a static image with some simple shapes.\n",
    "\n",
    "The first line in the cell, `%%py5draw 300 200`, is not Python code. Instead, it is a command to Jupyter itself, instructing it to send the rest of the cell's contents to a special py5 draw function.\n",
    "\n",
    "Observe that there are no defined `setup` or `draw` functions."
   ]
  },
  {
   "cell_type": "code",
   "execution_count": 4,
   "metadata": {},
   "outputs": [
    {
     "data": {
      "image/png": "[encoded data removed]",
      "text/plain": [
       "<IPython.core.display.Image object>"
      ]
     },
     "metadata": {},
     "output_type": "display_data"
    }
   ],
   "source": [
    "%%py5draw 300 200\n",
    "\n",
    "# make the background light gray\n",
    "py5.background(240)\n",
    "\n",
    "# draw a red square\n",
    "py5.fill(255, 0, 0)\n",
    "py5.rect_mode(py5.CENTER)\n",
    "py5.rect(170, 80, 100, 100)\n",
    "\n",
    "# add a thick green line\n",
    "py5.stroke(0, 255, 0)\n",
    "py5.stroke_weight(15)\n",
    "py5.line(40, 30, 220, 180)"
   ]
  },
  {
   "cell_type": "markdown",
   "metadata": {},
   "source": [
    "The code can access variables and functions defined in other non-magic notebook cells. This is especially useful when the code leverages py5 functionality.\n",
    "\n",
    "For example, the below function sets the fill color to a random color."
   ]
  },
  {
   "cell_type": "code",
   "execution_count": 5,
   "metadata": {},
   "outputs": [],
   "source": [
    "def pick_random_fill():\n",
    "    py5.fill(py5.random(255), py5.random(255), py5.random(255))"
   ]
  },
  {
   "cell_type": "markdown",
   "metadata": {},
   "source": [
    "The below example uses `pick_random_fill` to draw randomly colored rectangles. This example is a bit contrived, but you do see how the code below can call a function defined elsewhere."
   ]
  },
  {
   "cell_type": "code",
   "execution_count": 6,
   "metadata": {},
   "outputs": [
    {
     "data": {
      "image/png": "[encoded data removed]",
      "text/plain": [
       "<IPython.core.display.Image object>"
      ]
     },
     "metadata": {},
     "output_type": "display_data"
    }
   ],
   "source": [
    "%%py5draw 300 200\n",
    "\n",
    "py5.background(240)\n",
    "py5.rect_mode(py5.CENTER)\n",
    "\n",
    "for i in range(100):\n",
    "    pick_random_fill()\n",
    "    py5.rect(py5.random(py5.width), py5.random(py5.height), 10, 10)"
   ]
  },
  {
   "cell_type": "markdown",
   "metadata": {},
   "source": [
    "The `pick_random_fill` function can be reused again elsewhere in this notebook.\n",
    "\n",
    "By default, any new functions and variables defined in that `%%py5draw` cell are not available outside of the cell. However, you can explicitly change this. See below for further discussion."
   ]
  },
  {
   "cell_type": "markdown",
   "metadata": {},
   "source": [
    "## Saving to a File\n",
    "\n",
    "If you like you can save the generated image to a file with the `-f` parameter, like so:"
   ]
  },
  {
   "cell_type": "code",
   "execution_count": 7,
   "metadata": {},
   "outputs": [
    {
     "name": "stdout",
     "output_type": "stream",
     "text": [
      "PNG file written to images/jupyter_notebooks/simple_example.png\n"
     ]
    },
    {
     "data": {
      "image/png": "[encoded data removed]",
      "text/plain": [
       "<IPython.core.display.Image object>"
      ]
     },
     "metadata": {},
     "output_type": "display_data"
    }
   ],
   "source": [
    "%%py5draw 300 200 -f images/jupyter_notebooks/simple_example.png\n",
    "\n",
    "py5.background(240)\n",
    "py5.rect_mode(py5.CENTER)\n",
    "\n",
    "for i in range(100):\n",
    "    pick_random_fill()\n",
    "    py5.rect(py5.random(py5.width), py5.random(py5.height), 10, 10)"
   ]
  },
  {
   "cell_type": "markdown",
   "metadata": {},
   "source": [
    "Now there's an image on my computer located at `images/jupyter_notebooks/simple_example.png`. I can embed that in this notebook using markdown.\n",
    "\n",
    "![asdf](images/jupyter_notebooks/simple_example.png)"
   ]
  },
  {
   "cell_type": "markdown",
   "metadata": {},
   "source": [
    "## OpenGL Renderers\n",
    "\n",
    "You can also use the OpenGL renderers with the `-r` parameter, like so."
   ]
  },
  {
   "cell_type": "code",
   "execution_count": 8,
   "metadata": {},
   "outputs": [
    {
     "data": {
      "image/png": "[encoded data removed]",
      "text/plain": [
       "<IPython.core.display.Image object>"
      ]
     },
     "metadata": {},
     "output_type": "display_data"
    }
   ],
   "source": [
    "%%py5draw 300 200 -r P2D\n",
    "\n",
    "py5.background(240)\n",
    "py5.rect_mode(py5.CENTER)\n",
    "\n",
    "for i in range(100):\n",
    "    pick_random_fill()\n",
    "    py5.rect(py5.random(py5.width), py5.random(py5.height), 10, 10)    "
   ]
  },
  {
   "cell_type": "markdown",
   "metadata": {},
   "source": [
    "When that cell runs, a py5 window is quickly opened and closed. For whatever reason, the Processing's OpenGL renderers cannot draw to an invisible window (but I would be delighted to be proven wrong about that).\n",
    "\n",
    "The previous `%%py5draw` examples in this notebook used a special `HIDDEN` renderer based on the default `JAVA2D` renderer that does not need to open a window. That `HIDDEN` renderer was created just for this purpose. Despite my best efforts, I couldn't create similar renderers based on the OpenGL renderers `P2D` and `P3D`.\n",
    "\n",
    "The 3D renderer also works:"
   ]
  },
  {
   "cell_type": "code",
   "execution_count": 9,
   "metadata": {},
   "outputs": [
    {
     "data": {
      "image/png": "[encoded data removed]",
      "text/plain": [
       "<IPython.core.display.Image object>"
      ]
     },
     "metadata": {},
     "output_type": "display_data"
    }
   ],
   "source": [
    "%%py5draw 300 300 -r P3D\n",
    "\n",
    "py5.background(240)\n",
    "\n",
    "N = 10\n",
    "\n",
    "for i in range(N):\n",
    "    py5.push_matrix()\n",
    "    pick_random_fill()\n",
    "    py5.translate(i * py5.width / N, i * py5.width / N, i * 20 - 200)\n",
    "    py5.box(40)\n",
    "    py5.pop_matrix()"
   ]
  },
  {
   "cell_type": "markdown",
   "metadata": {},
   "source": [
    "## SVG Renderer\n",
    "\n",
    "To create SVG images, use the `%%py5drawsvg` magic.\n",
    "\n",
    "As before, the result can be saved to a file with the `-f` parameter."
   ]
  },
  {
   "cell_type": "code",
   "execution_count": 10,
   "metadata": {},
   "outputs": [
    {
     "name": "stdout",
     "output_type": "stream",
     "text": [
      "SVG drawing written to /tmp/test.svg\n"
     ]
    },
    {
     "data": {
      "image/svg+xml": [
       "<svg xmlns:xlink=\"http://www.w3.org/1999/xlink\" xmlns=\"http://www.w3.org/2000/svg\" style=\"fill-opacity:1; color-rendering:auto; color-interpolation:auto; text-rendering:auto; stroke:black; stroke-linecap:square; stroke-miterlimit:10; shape-rendering:auto; stroke-opacity:1; fill:black; stroke-dasharray:none; font-weight:normal; stroke-width:1; font-family:'Dialog'; font-style:normal; stroke-linejoin:miter; font-size:12px; stroke-dashoffset:0; image-rendering:auto;\" width=\"300\" height=\"200\"><!--Generated by the Batik Graphics2D SVG Generator--><defs id=\"genericDefs\"/><g><g style=\"stroke-linecap:round; fill:rgb(204,204,204); stroke:rgb(204,204,204);\"><rect x=\"0\" width=\"300\" height=\"200\" y=\"0\" style=\"stroke:none;\"/></g><g style=\"stroke-linecap:round; fill:rgb(240,240,240); stroke:rgb(240,240,240);\"><rect x=\"0\" width=\"300\" height=\"200\" y=\"0\" style=\"stroke:none;\"/></g><g style=\"stroke-linecap:round; fill:rgb(166,178,14); stroke:rgb(166,178,14);\"><rect x=\"144.4358\" width=\"10\" height=\"10\" y=\"134.9489\" style=\"stroke:none;\"/><rect x=\"144.4358\" y=\"134.9489\" width=\"10\" style=\"fill:none; stroke:black;\" height=\"10\"/><rect x=\"155.0078\" y=\"155.4827\" width=\"10\" style=\"fill:rgb(89,207,119); stroke:none;\" height=\"10\"/><rect x=\"155.0078\" y=\"155.4827\" width=\"10\" style=\"fill:none; stroke:black;\" height=\"10\"/><rect x=\"14.6639\" y=\"178.1087\" width=\"10\" style=\"fill:rgb(105,216,195); stroke:none;\" height=\"10\"/><rect x=\"14.6639\" y=\"178.1087\" width=\"10\" style=\"fill:none; stroke:black;\" height=\"10\"/><rect x=\"232.6545\" y=\"96.8282\" width=\"10\" style=\"fill:rgb(15,105,105); stroke:none;\" height=\"10\"/><rect x=\"232.6545\" y=\"96.8282\" width=\"10\" style=\"fill:none; stroke:black;\" height=\"10\"/><rect x=\"77.0093\" y=\"47.4555\" width=\"10\" style=\"fill:rgb(143,223,62); stroke:none;\" height=\"10\"/><rect x=\"77.0093\" y=\"47.4555\" width=\"10\" style=\"fill:none; stroke:black;\" height=\"10\"/><rect x=\"186.1754\" y=\"77.9933\" width=\"10\" style=\"fill:rgb(246,56,130); stroke:none;\" height=\"10\"/><rect x=\"186.1754\" y=\"77.9933\" width=\"10\" style=\"fill:none; stroke:black;\" height=\"10\"/><rect x=\"25.7691\" y=\"52.5192\" width=\"10\" style=\"fill:rgb(85,209,5); stroke:none;\" height=\"10\"/><rect x=\"25.7691\" y=\"52.5192\" width=\"10\" style=\"fill:none; stroke:black;\" height=\"10\"/><rect x=\"87.7981\" y=\"183.5648\" width=\"10\" style=\"fill:rgb(14,113,211); stroke:none;\" height=\"10\"/><rect x=\"87.7981\" y=\"183.5648\" width=\"10\" style=\"fill:none; stroke:black;\" height=\"10\"/><rect x=\"71.8755\" y=\"51.3623\" width=\"10\" style=\"fill:rgb(78,192,51); stroke:none;\" height=\"10\"/><rect x=\"71.8755\" y=\"51.3623\" width=\"10\" style=\"fill:none; stroke:black;\" height=\"10\"/><rect x=\"56.0368\" y=\"14.1541\" width=\"10\" style=\"fill:rgb(198,109,73); stroke:none;\" height=\"10\"/><rect x=\"56.0368\" y=\"14.1541\" width=\"10\" style=\"fill:none; stroke:black;\" height=\"10\"/><rect x=\"205.0706\" y=\"63.036\" width=\"10\" style=\"fill:rgb(99,201,25); stroke:none;\" height=\"10\"/><rect x=\"205.0706\" y=\"63.036\" width=\"10\" style=\"fill:none; stroke:black;\" height=\"10\"/><rect x=\"47.0269\" y=\"138.1959\" width=\"10\" style=\"fill:rgb(160,178,197); stroke:none;\" height=\"10\"/><rect x=\"47.0269\" y=\"138.1959\" width=\"10\" style=\"fill:none; stroke:black;\" height=\"10\"/><rect x=\"103.2505\" y=\"184.3085\" width=\"10\" style=\"fill:rgb(100,86,96); stroke:none;\" height=\"10\"/><rect x=\"103.2505\" y=\"184.3085\" width=\"10\" style=\"fill:none; stroke:black;\" height=\"10\"/><rect x=\"57.2249\" y=\"182.1942\" width=\"10\" style=\"fill:rgb(38,35,162); stroke:none;\" height=\"10\"/><rect x=\"57.2249\" y=\"182.1942\" width=\"10\" style=\"fill:none; stroke:black;\" height=\"10\"/><rect x=\"155.7539\" y=\"123.045\" width=\"10\" style=\"fill:rgb(173,175,108); stroke:none;\" height=\"10\"/><rect x=\"155.7539\" y=\"123.045\" width=\"10\" style=\"fill:none; stroke:black;\" height=\"10\"/><rect x=\"189.234\" y=\"194.551\" width=\"10\" style=\"fill:rgb(19,104,90); stroke:none;\" height=\"10\"/><rect x=\"189.234\" y=\"194.551\" width=\"10\" style=\"fill:none; stroke:black;\" height=\"10\"/><rect x=\"61.9575\" y=\"82.6572\" width=\"10\" style=\"fill:rgb(127,138,217); stroke:none;\" height=\"10\"/><rect x=\"61.9575\" y=\"82.6572\" width=\"10\" style=\"fill:none; stroke:black;\" height=\"10\"/><rect x=\"127.7245\" y=\"187.5103\" width=\"10\" style=\"fill:rgb(127,197,241); stroke:none;\" height=\"10\"/><rect x=\"127.7245\" y=\"187.5103\" width=\"10\" style=\"fill:none; stroke:black;\" height=\"10\"/><rect x=\"217.6325\" y=\"127.0178\" width=\"10\" style=\"fill:rgb(87,220,164); stroke:none;\" height=\"10\"/><rect x=\"217.6325\" y=\"127.0178\" width=\"10\" style=\"fill:none; stroke:black;\" height=\"10\"/><rect x=\"178.1094\" y=\"101.1296\" width=\"10\" style=\"fill:rgb(225,224,240); stroke:none;\" height=\"10\"/><rect x=\"178.1094\" y=\"101.1296\" width=\"10\" style=\"fill:none; stroke:black;\" height=\"10\"/><rect x=\"57.9943\" y=\"89.2206\" width=\"10\" style=\"fill:rgb(132,184,91); stroke:none;\" height=\"10\"/><rect x=\"57.9943\" y=\"89.2206\" width=\"10\" style=\"fill:none; stroke:black;\" height=\"10\"/><rect x=\"139.0532\" y=\"152.5081\" width=\"10\" style=\"fill:rgb(216,92,15); stroke:none;\" height=\"10\"/><rect x=\"139.0532\" y=\"152.5081\" width=\"10\" style=\"fill:none; stroke:black;\" height=\"10\"/><rect x=\"252.2442\" y=\"69.9067\" width=\"10\" style=\"fill:rgb(224,104,162); stroke:none;\" height=\"10\"/><rect x=\"252.2442\" y=\"69.9067\" width=\"10\" style=\"fill:none; stroke:black;\" height=\"10\"/><rect x=\"293.9612\" y=\"172.7294\" width=\"10\" style=\"fill:rgb(241,225,227); stroke:none;\" height=\"10\"/><rect x=\"293.9612\" y=\"172.7294\" width=\"10\" style=\"fill:none; stroke:black;\" height=\"10\"/><rect x=\"257.4058\" y=\"55.5996\" width=\"10\" style=\"fill:rgb(246,61,42); stroke:none;\" height=\"10\"/><rect x=\"257.4058\" y=\"55.5996\" width=\"10\" style=\"fill:none; stroke:black;\" height=\"10\"/><rect x=\"64.6526\" y=\"83.7611\" width=\"10\" style=\"fill:rgb(240,175,194); stroke:none;\" height=\"10\"/><rect x=\"64.6526\" y=\"83.7611\" width=\"10\" style=\"fill:none; stroke:black;\" height=\"10\"/><rect x=\"246.0576\" y=\"50.7743\" width=\"10\" style=\"fill:rgb(25,128,249); stroke:none;\" height=\"10\"/><rect x=\"246.0576\" y=\"50.7743\" width=\"10\" style=\"fill:none; stroke:black;\" height=\"10\"/><rect x=\"90.9259\" y=\"149.3236\" width=\"10\" style=\"fill:rgb(124,13,141); stroke:none;\" height=\"10\"/><rect x=\"90.9259\" y=\"149.3236\" width=\"10\" style=\"fill:none; stroke:black;\" height=\"10\"/><rect x=\"51.6266\" y=\"119.8788\" width=\"10\" style=\"fill:rgb(146,45,99); stroke:none;\" height=\"10\"/><rect x=\"51.6266\" y=\"119.8788\" width=\"10\" style=\"fill:none; stroke:black;\" height=\"10\"/><rect x=\"201.258\" y=\"77.9043\" width=\"10\" style=\"fill:rgb(196,27,107); stroke:none;\" height=\"10\"/><rect x=\"201.258\" y=\"77.9043\" width=\"10\" style=\"fill:none; stroke:black;\" height=\"10\"/><rect x=\"25.0498\" y=\"80.5767\" width=\"10\" style=\"fill:rgb(91,39,25); stroke:none;\" height=\"10\"/><rect x=\"25.0498\" y=\"80.5767\" width=\"10\" style=\"fill:none; stroke:black;\" height=\"10\"/><rect x=\"285.6151\" y=\"147.0058\" width=\"10\" style=\"fill:rgb(12,239,125); stroke:none;\" height=\"10\"/><rect x=\"285.6151\" y=\"147.0058\" width=\"10\" style=\"fill:none; stroke:black;\" height=\"10\"/><rect x=\"283.1548\" y=\"135.5935\" width=\"10\" style=\"fill:rgb(21,49,11); stroke:none;\" height=\"10\"/><rect x=\"283.1548\" y=\"135.5935\" width=\"10\" style=\"fill:none; stroke:black;\" height=\"10\"/><rect x=\"137.9803\" y=\"85.6693\" width=\"10\" style=\"fill:rgb(197,130,73); stroke:none;\" height=\"10\"/><rect x=\"137.9803\" y=\"85.6693\" width=\"10\" style=\"fill:none; stroke:black;\" height=\"10\"/><rect x=\"176.8059\" y=\"131.9173\" width=\"10\" style=\"fill:rgb(114,199,83); stroke:none;\" height=\"10\"/><rect x=\"176.8059\" y=\"131.9173\" width=\"10\" style=\"fill:none; stroke:black;\" height=\"10\"/><rect x=\"127.7024\" y=\"174.3402\" width=\"10\" style=\"fill:rgb(85,22,230); stroke:none;\" height=\"10\"/><rect x=\"127.7024\" y=\"174.3402\" width=\"10\" style=\"fill:none; stroke:black;\" height=\"10\"/><rect x=\"82.5439\" y=\"28.8023\" width=\"10\" style=\"fill:rgb(124,156,88); stroke:none;\" height=\"10\"/><rect x=\"82.5439\" y=\"28.8023\" width=\"10\" style=\"fill:none; stroke:black;\" height=\"10\"/><rect x=\"15.8419\" y=\"0.7533\" width=\"10\" style=\"fill:rgb(227,236,58); stroke:none;\" height=\"10\"/><rect x=\"15.8419\" y=\"0.7533\" width=\"10\" style=\"fill:none; stroke:black;\" height=\"10\"/><rect x=\"-2.8572\" y=\"27.9398\" width=\"10\" style=\"fill:rgb(78,70,218); stroke:none;\" height=\"10\"/><rect x=\"-2.8572\" y=\"27.9398\" width=\"10\" style=\"fill:none; stroke:black;\" height=\"10\"/><rect x=\"208.3891\" y=\"132.1737\" width=\"10\" style=\"fill:rgb(28,128,79); stroke:none;\" height=\"10\"/><rect x=\"208.3891\" y=\"132.1737\" width=\"10\" style=\"fill:none; stroke:black;\" height=\"10\"/><rect x=\"238.9066\" y=\"65.2413\" width=\"10\" style=\"fill:rgb(153,204,87); stroke:none;\" height=\"10\"/><rect x=\"238.9066\" y=\"65.2413\" width=\"10\" style=\"fill:none; stroke:black;\" height=\"10\"/><rect x=\"155.7365\" y=\"100.0716\" width=\"10\" style=\"fill:rgb(56,90,69); stroke:none;\" height=\"10\"/><rect x=\"155.7365\" y=\"100.0716\" width=\"10\" style=\"fill:none; stroke:black;\" height=\"10\"/><rect x=\"238.0583\" y=\"12.0633\" width=\"10\" style=\"fill:rgb(162,107,4); stroke:none;\" height=\"10\"/><rect x=\"238.0583\" y=\"12.0633\" width=\"10\" style=\"fill:none; stroke:black;\" height=\"10\"/><rect x=\"101.2379\" y=\"58.7402\" width=\"10\" style=\"fill:rgb(96,223,63); stroke:none;\" height=\"10\"/><rect x=\"101.2379\" y=\"58.7402\" width=\"10\" style=\"fill:none; stroke:black;\" height=\"10\"/><rect x=\"216.7489\" y=\"56.141\" width=\"10\" style=\"fill:rgb(227,26,168); stroke:none;\" height=\"10\"/><rect x=\"216.7489\" y=\"56.141\" width=\"10\" style=\"fill:none; stroke:black;\" height=\"10\"/><rect x=\"182.7584\" y=\"71.8393\" width=\"10\" style=\"fill:rgb(76,178,50); stroke:none;\" height=\"10\"/><rect x=\"182.7584\" y=\"71.8393\" width=\"10\" style=\"fill:none; stroke:black;\" height=\"10\"/><rect x=\"80.6053\" y=\"56.3982\" width=\"10\" style=\"fill:rgb(226,23,124); stroke:none;\" height=\"10\"/><rect x=\"80.6053\" y=\"56.3982\" width=\"10\" style=\"fill:none; stroke:black;\" height=\"10\"/><rect x=\"279.6083\" y=\"132.6686\" width=\"10\" style=\"fill:rgb(52,51,241); stroke:none;\" height=\"10\"/><rect x=\"279.6083\" y=\"132.6686\" width=\"10\" style=\"fill:none; stroke:black;\" height=\"10\"/><rect x=\"232.028\" y=\"157.5338\" width=\"10\" style=\"fill:rgb(71,203,30); stroke:none;\" height=\"10\"/><rect x=\"232.028\" y=\"157.5338\" width=\"10\" style=\"fill:none; stroke:black;\" height=\"10\"/><rect x=\"162.6795\" y=\"39.0342\" width=\"10\" style=\"fill:rgb(67,104,133); stroke:none;\" height=\"10\"/><rect x=\"162.6795\" y=\"39.0342\" width=\"10\" style=\"fill:none; stroke:black;\" height=\"10\"/><rect x=\"38.8718\" y=\"11.3088\" width=\"10\" style=\"fill:rgb(44,63,215); stroke:none;\" height=\"10\"/><rect x=\"38.8718\" y=\"11.3088\" width=\"10\" style=\"fill:none; stroke:black;\" height=\"10\"/><rect x=\"66.7979\" y=\"186.0959\" width=\"10\" style=\"fill:rgb(124,3,8); stroke:none;\" height=\"10\"/><rect x=\"66.7979\" y=\"186.0959\" width=\"10\" style=\"fill:none; stroke:black;\" height=\"10\"/><rect x=\"283.1252\" y=\"89.9714\" width=\"10\" style=\"fill:rgb(94,123,139); stroke:none;\" height=\"10\"/><rect x=\"283.1252\" y=\"89.9714\" width=\"10\" style=\"fill:none; stroke:black;\" height=\"10\"/><rect x=\"277.7234\" y=\"24.5279\" width=\"10\" style=\"fill:rgb(85,145,35); stroke:none;\" height=\"10\"/><rect x=\"277.7234\" y=\"24.5279\" width=\"10\" style=\"fill:none; stroke:black;\" height=\"10\"/><rect x=\"163.9797\" y=\"141.8129\" width=\"10\" style=\"fill:rgb(195,122,250); stroke:none;\" height=\"10\"/><rect x=\"163.9797\" y=\"141.8129\" width=\"10\" style=\"fill:none; stroke:black;\" height=\"10\"/><rect x=\"255.3756\" y=\"109.8447\" width=\"10\" style=\"fill:rgb(184,216,130); stroke:none;\" height=\"10\"/><rect x=\"255.3756\" y=\"109.8447\" width=\"10\" style=\"fill:none; stroke:black;\" height=\"10\"/><rect x=\"107.8353\" y=\"105.1858\" width=\"10\" style=\"fill:rgb(166,66,244); stroke:none;\" height=\"10\"/><rect x=\"107.8353\" y=\"105.1858\" width=\"10\" style=\"fill:none; stroke:black;\" height=\"10\"/><rect x=\"78.9003\" y=\"39.7639\" width=\"10\" style=\"fill:rgb(15,61,153); stroke:none;\" height=\"10\"/><rect x=\"78.9003\" y=\"39.7639\" width=\"10\" style=\"fill:none; stroke:black;\" height=\"10\"/><rect x=\"44.9161\" y=\"86.9221\" width=\"10\" style=\"fill:rgb(58,172,231); stroke:none;\" height=\"10\"/><rect x=\"44.9161\" y=\"86.9221\" width=\"10\" style=\"fill:none; stroke:black;\" height=\"10\"/><rect x=\"38.3928\" y=\"115.3239\" width=\"10\" style=\"fill:rgb(120,179,244); stroke:none;\" height=\"10\"/><rect x=\"38.3928\" y=\"115.3239\" width=\"10\" style=\"fill:none; stroke:black;\" height=\"10\"/><rect x=\"154.2201\" y=\"130.9074\" width=\"10\" style=\"fill:rgb(179,186,179); stroke:none;\" height=\"10\"/><rect x=\"154.2201\" y=\"130.9074\" width=\"10\" style=\"fill:none; stroke:black;\" height=\"10\"/><rect x=\"33.2762\" y=\"166.2192\" width=\"10\" style=\"fill:rgb(124,8,152); stroke:none;\" height=\"10\"/><rect x=\"33.2762\" y=\"166.2192\" width=\"10\" style=\"fill:none; stroke:black;\" height=\"10\"/><rect x=\"271.7316\" y=\"161.2515\" width=\"10\" style=\"fill:rgb(243,30,33); stroke:none;\" height=\"10\"/><rect x=\"271.7316\" y=\"161.2515\" width=\"10\" style=\"fill:none; stroke:black;\" height=\"10\"/><rect x=\"132.6441\" y=\"124.6479\" width=\"10\" style=\"fill:rgb(95,199,173); stroke:none;\" height=\"10\"/><rect x=\"132.6441\" y=\"124.6479\" width=\"10\" style=\"fill:none; stroke:black;\" height=\"10\"/><rect x=\"47.63\" y=\"123.7865\" width=\"10\" style=\"fill:rgb(143,248,180); stroke:none;\" height=\"10\"/><rect x=\"47.63\" y=\"123.7865\" width=\"10\" style=\"fill:none; stroke:black;\" height=\"10\"/><rect x=\"258.9273\" y=\"22.1142\" width=\"10\" style=\"fill:rgb(46,197,126); stroke:none;\" height=\"10\"/><rect x=\"258.9273\" y=\"22.1142\" width=\"10\" style=\"fill:none; stroke:black;\" height=\"10\"/><rect x=\"251.347\" y=\"165.4775\" width=\"10\" style=\"fill:rgb(63,221,53); stroke:none;\" height=\"10\"/><rect x=\"251.347\" y=\"165.4775\" width=\"10\" style=\"fill:none; stroke:black;\" height=\"10\"/><rect x=\"97.0418\" y=\"51.1507\" width=\"10\" style=\"fill:rgb(45,149,64); stroke:none;\" height=\"10\"/><rect x=\"97.0418\" y=\"51.1507\" width=\"10\" style=\"fill:none; stroke:black;\" height=\"10\"/><rect x=\"44.156\" y=\"31.9699\" width=\"10\" style=\"fill:rgb(150,225,242); stroke:none;\" height=\"10\"/><rect x=\"44.156\" y=\"31.9699\" width=\"10\" style=\"fill:none; stroke:black;\" height=\"10\"/><rect x=\"238.8657\" y=\"124.9444\" width=\"10\" style=\"fill:rgb(126,180,182); stroke:none;\" height=\"10\"/><rect x=\"238.8657\" y=\"124.9444\" width=\"10\" style=\"fill:none; stroke:black;\" height=\"10\"/><rect x=\"158.1808\" y=\"31.8499\" width=\"10\" style=\"fill:rgb(23,108,140); stroke:none;\" height=\"10\"/><rect x=\"158.1808\" y=\"31.8499\" width=\"10\" style=\"fill:none; stroke:black;\" height=\"10\"/><rect x=\"102.3655\" y=\"28.5732\" width=\"10\" style=\"fill:rgb(28,162,228); stroke:none;\" height=\"10\"/><rect x=\"102.3655\" y=\"28.5732\" width=\"10\" style=\"fill:none; stroke:black;\" height=\"10\"/><rect x=\"25.1124\" y=\"103.2338\" width=\"10\" style=\"fill:rgb(23,200,20); stroke:none;\" height=\"10\"/><rect x=\"25.1124\" y=\"103.2338\" width=\"10\" style=\"fill:none; stroke:black;\" height=\"10\"/><rect x=\"144.1484\" y=\"120.0823\" width=\"10\" style=\"fill:rgb(196,238,247); stroke:none;\" height=\"10\"/><rect x=\"144.1484\" y=\"120.0823\" width=\"10\" style=\"fill:none; stroke:black;\" height=\"10\"/><rect x=\"151.335\" y=\"95.0422\" width=\"10\" style=\"fill:rgb(246,129,75); stroke:none;\" height=\"10\"/><rect x=\"151.335\" y=\"95.0422\" width=\"10\" style=\"fill:none; stroke:black;\" height=\"10\"/><rect x=\"53.8909\" y=\"56.8471\" width=\"10\" style=\"fill:rgb(46,180,72); stroke:none;\" height=\"10\"/><rect x=\"53.8909\" y=\"56.8471\" width=\"10\" style=\"fill:none; stroke:black;\" height=\"10\"/><rect x=\"15.2549\" y=\"166.1535\" width=\"10\" style=\"fill:rgb(140,59,63); stroke:none;\" height=\"10\"/><rect x=\"15.2549\" y=\"166.1535\" width=\"10\" style=\"fill:none; stroke:black;\" height=\"10\"/><rect x=\"171.1057\" y=\"154.287\" width=\"10\" style=\"fill:rgb(53,127,131); stroke:none;\" height=\"10\"/><rect x=\"171.1057\" y=\"154.287\" width=\"10\" style=\"fill:none; stroke:black;\" height=\"10\"/><rect x=\"45.8178\" y=\"63.1302\" width=\"10\" style=\"fill:rgb(28,68,197); stroke:none;\" height=\"10\"/><rect x=\"45.8178\" y=\"63.1302\" width=\"10\" style=\"fill:none; stroke:black;\" height=\"10\"/><rect x=\"264.4483\" y=\"127.6994\" width=\"10\" style=\"fill:rgb(221,147,212); stroke:none;\" height=\"10\"/><rect x=\"264.4483\" y=\"127.6994\" width=\"10\" style=\"fill:none; stroke:black;\" height=\"10\"/><rect x=\"36.2096\" y=\"119.6279\" width=\"10\" style=\"fill:rgb(158,154,179); stroke:none;\" height=\"10\"/><rect x=\"36.2096\" y=\"119.6279\" width=\"10\" style=\"fill:none; stroke:black;\" height=\"10\"/><rect x=\"179.8129\" y=\"185.6523\" width=\"10\" style=\"fill:rgb(21,122,177); stroke:none;\" height=\"10\"/><rect x=\"179.8129\" y=\"185.6523\" width=\"10\" style=\"fill:none; stroke:black;\" height=\"10\"/><rect x=\"190.5637\" y=\"43.3345\" width=\"10\" style=\"fill:rgb(133,3,98); stroke:none;\" height=\"10\"/><rect x=\"190.5637\" y=\"43.3345\" width=\"10\" style=\"fill:none; stroke:black;\" height=\"10\"/><rect x=\"84.7627\" y=\"30.1261\" width=\"10\" style=\"fill:rgb(215,203,90); stroke:none;\" height=\"10\"/><rect x=\"84.7627\" y=\"30.1261\" width=\"10\" style=\"fill:none; stroke:black;\" height=\"10\"/><rect x=\"163.4447\" y=\"30.8042\" width=\"10\" style=\"fill:rgb(81,34,187); stroke:none;\" height=\"10\"/><rect x=\"163.4447\" y=\"30.8042\" width=\"10\" style=\"fill:none; stroke:black;\" height=\"10\"/><rect x=\"262.0611\" y=\"17.5005\" width=\"10\" style=\"fill:rgb(1,82,144); stroke:none;\" height=\"10\"/><rect x=\"262.0611\" y=\"17.5005\" width=\"10\" style=\"fill:none; stroke:black;\" height=\"10\"/><rect x=\"108.7717\" y=\"172.8922\" width=\"10\" style=\"fill:rgb(229,148,234); stroke:none;\" height=\"10\"/><rect x=\"108.7717\" y=\"172.8922\" width=\"10\" style=\"fill:none; stroke:black;\" height=\"10\"/><rect x=\"236.9109\" y=\"59.6761\" width=\"10\" style=\"fill:rgb(216,209,145); stroke:none;\" height=\"10\"/><rect x=\"236.9109\" y=\"59.6761\" width=\"10\" style=\"fill:none; stroke:black;\" height=\"10\"/><rect x=\"99.4946\" y=\"2.9315\" width=\"10\" style=\"fill:rgb(194,237,85); stroke:none;\" height=\"10\"/><rect x=\"99.4946\" y=\"2.9315\" width=\"10\" style=\"fill:none; stroke:black;\" height=\"10\"/><rect x=\"179.2742\" y=\"21.778\" width=\"10\" style=\"fill:rgb(241,119,170); stroke:none;\" height=\"10\"/><rect x=\"179.2742\" y=\"21.778\" width=\"10\" style=\"fill:none; stroke:black;\" height=\"10\"/><rect x=\"-4.7172\" y=\"45.2405\" width=\"10\" style=\"fill:rgb(9,215,183); stroke:none;\" height=\"10\"/><rect x=\"-4.7172\" y=\"45.2405\" width=\"10\" style=\"fill:none; stroke:black;\" height=\"10\"/><rect x=\"7.9218\" y=\"81.5183\" width=\"10\" style=\"fill:rgb(28,26,243); stroke:none;\" height=\"10\"/><rect x=\"7.9218\" y=\"81.5183\" width=\"10\" style=\"fill:none; stroke:black;\" height=\"10\"/><rect x=\"-2.9138\" y=\"41.5316\" width=\"10\" style=\"fill:rgb(221,91,118); stroke:none;\" height=\"10\"/><rect x=\"-2.9138\" y=\"41.5316\" width=\"10\" style=\"fill:none; stroke:black;\" height=\"10\"/><rect x=\"186.9975\" y=\"34.1721\" width=\"10\" style=\"fill:rgb(220,247,57); stroke:none;\" height=\"10\"/><rect x=\"186.9975\" y=\"34.1721\" width=\"10\" style=\"fill:none; stroke:black;\" height=\"10\"/><rect x=\"223.5538\" y=\"131.4522\" width=\"10\" style=\"fill:rgb(175,84,245); stroke:none;\" height=\"10\"/><rect x=\"223.5538\" y=\"131.4522\" width=\"10\" style=\"fill:none; stroke:black;\" height=\"10\"/><rect x=\"221.8754\" y=\"74.012\" width=\"10\" style=\"fill:rgb(253,224,144); stroke:none;\" height=\"10\"/><rect x=\"221.8754\" y=\"74.012\" width=\"10\" style=\"fill:none; stroke:black;\" height=\"10\"/><rect x=\"36.2674\" y=\"125.4078\" width=\"10\" style=\"fill:rgb(212,82,210); stroke:none;\" height=\"10\"/><rect x=\"36.2674\" y=\"125.4078\" width=\"10\" style=\"fill:none; stroke:black;\" height=\"10\"/><rect x=\"292.067\" y=\"7.7808\" width=\"10\" style=\"fill:rgb(207,162,168); stroke:none;\" height=\"10\"/><rect x=\"292.067\" y=\"7.7808\" width=\"10\" style=\"fill:none; stroke:black;\" height=\"10\"/><rect x=\"8.8744\" y=\"-0.5889\" width=\"10\" style=\"fill:rgb(27,181,0); stroke:none;\" height=\"10\"/><rect x=\"8.8744\" y=\"-0.5889\" width=\"10\" style=\"fill:none; stroke:black;\" height=\"10\"/><rect x=\"136.1906\" y=\"37.8325\" width=\"10\" style=\"fill:rgb(46,217,16); stroke:none;\" height=\"10\"/><rect x=\"136.1906\" y=\"37.8325\" width=\"10\" style=\"fill:none; stroke:black;\" height=\"10\"/></g></g></svg>"
      ],
      "text/plain": [
       "<IPython.core.display.SVG object>"
      ]
     },
     "metadata": {},
     "output_type": "display_data"
    }
   ],
   "source": [
    "%%py5drawsvg 300 200 -f /tmp/test.svg\n",
    "\n",
    "py5.background(240)\n",
    "py5.rect_mode(py5.CENTER)\n",
    "\n",
    "for i in range(100):\n",
    "    pick_random_fill()\n",
    "    py5.rect(py5.random(py5.width), py5.random(py5.height), 10, 10)"
   ]
  },
  {
   "cell_type": "markdown",
   "metadata": {},
   "source": [
    "## PDF Renderer\n",
    "\n",
    "Write to PDF files using `%%py5drawpdf`. Since Jupyter notebook does not support embedded PDF files, writing the output to a file is not optional."
   ]
  },
  {
   "cell_type": "code",
   "execution_count": 11,
   "metadata": {},
   "outputs": [
    {
     "name": "stdout",
     "output_type": "stream",
     "text": [
      "PDF written to /tmp/simple_example.pdf\n"
     ]
    }
   ],
   "source": [
    "%%py5drawpdf 300 200 /tmp/simple_example.pdf\n",
    "\n",
    "py5.background(240)\n",
    "py5.rect_mode(py5.CENTER)\n",
    "\n",
    "for i in range(100):\n",
    "    pick_random_fill()\n",
    "    py5.rect(py5.random(py5.width), py5.random(py5.height), 10, 10)"
   ]
  },
  {
   "cell_type": "markdown",
   "metadata": {},
   "source": [
    "## DXF Renderer\n",
    "\n",
    "Write 3D objects to DXF files with `%%py5drawdxf`. This probably won't be a popular choice, but maybe somebody will appreciate it."
   ]
  },
  {
   "cell_type": "code",
   "execution_count": 12,
   "metadata": {},
   "outputs": [
    {
     "name": "stdout",
     "output_type": "stream",
     "text": [
      "DXF written to /tmp/test.dxf\n"
     ]
    }
   ],
   "source": [
    "%%py5drawdxf 200 200 /tmp/test.dxf\n",
    "\n",
    "py5.translate(py5.width / 2, py5.height / 2)\n",
    "py5.rotate_x(0.4)\n",
    "py5.rotate_y(0.8)\n",
    "py5.box(80)"
   ]
  },
  {
   "cell_type": "code",
   "execution_count": 13,
   "metadata": {},
   "outputs": [
    {
     "name": "stdout",
     "output_type": "stream",
     "text": [
      "0\n",
      "SECTION\n",
      "2\n",
      "ENTITIES\n",
      "0\n",
      "3DFACE\n",
      "8\n",
      "0\n",
      "10\n",
      "-56.562515\n"
     ]
    }
   ],
   "source": [
    "!head /tmp/test.dxf"
   ]
  },
  {
   "cell_type": "markdown",
   "metadata": {},
   "source": [
    "## Variable Scope\n",
    "\n",
    "By default, new variables defined inside cell magics such as `%%py5draw` cannot be accessed elsewhere in the notebook.\n",
    "\n",
    "Consider the below example. It creates new variables `random_x` and `random_y` to store the location of the square."
   ]
  },
  {
   "cell_type": "code",
   "execution_count": 14,
   "metadata": {},
   "outputs": [
    {
     "data": {
      "image/png": "[encoded data removed]",
      "text/plain": [
       "<IPython.core.display.Image object>"
      ]
     },
     "metadata": {},
     "output_type": "display_data"
    }
   ],
   "source": [
    "%%py5draw 300 200\n",
    "\n",
    "py5.background(240)\n",
    "py5.rect_mode(py5.CENTER)\n",
    "\n",
    "random_x = py5.random(py5.width)\n",
    "random_y = py5.random(py5.height)\n",
    "py5.rect(random_x, random_y, 50, 50)"
   ]
  },
  {
   "cell_type": "markdown",
   "metadata": {},
   "source": [
    "The variables `random_x` and `random_y` are not accessible outside of that cell:"
   ]
  },
  {
   "cell_type": "code",
   "execution_count": 15,
   "metadata": {},
   "outputs": [
    {
     "ename": "NameError",
     "evalue": "name 'random_x' is not defined",
     "output_type": "error",
     "traceback": [
      "\u001b[0;31m---------------------------------------------------------------------------\u001b[0m",
      "\u001b[0;31mNameError\u001b[0m                                 Traceback (most recent call last)",
      "\u001b[0;32m<ipython-input-15-495f30123407>\u001b[0m in \u001b[0;36m<module>\u001b[0;34m\u001b[0m\n\u001b[0;32m----> 1\u001b[0;31m \u001b[0mrandom_x\u001b[0m\u001b[0;34m,\u001b[0m \u001b[0mrandom_y\u001b[0m\u001b[0;34m\u001b[0m\u001b[0;34m\u001b[0m\u001b[0m\n\u001b[0m",
      "\u001b[0;31mNameError\u001b[0m: name 'random_x' is not defined"
     ]
    }
   ],
   "source": [
    "random_x, random_y"
   ]
  },
  {
   "cell_type": "markdown",
   "metadata": {},
   "source": [
    "This behavior is by design.\n",
    "\n",
    "Consider that the py5 library is using the Processing library to create these graphics. Builtin Processing objects such as PImage or PGraphics are designed to be associated with one and only one Processing sketch. Py5 can let users write code to that subverts these assumptions, and as a result use Processing in a way that is completely different from how it was designed to be used. Sometimes this can be beneficial, but other times it will cause unexpected errors.\n",
    "\n",
    "If you understand the risks, or if you are working with non-Processing objects (as is the case for `random_x` and `random_y` in the above example), you have two options available to you.\n",
    "\n",
    "First, you can add the `global` keyword to your code:"
   ]
  },
  {
   "cell_type": "code",
   "execution_count": 16,
   "metadata": {},
   "outputs": [
    {
     "data": {
      "image/png": "[encoded data removed]",
      "text/plain": [
       "<IPython.core.display.Image object>"
      ]
     },
     "metadata": {},
     "output_type": "display_data"
    }
   ],
   "source": [
    "%%py5draw 300 200\n",
    "\n",
    "py5.background(240)\n",
    "py5.rect_mode(py5.CENTER)\n",
    "\n",
    "global random_x\n",
    "global random_y\n",
    "\n",
    "random_x = py5.random(py5.width)\n",
    "random_y = py5.random(py5.height)\n",
    "py5.rect(random_x, random_y, 50, 50)"
   ]
  },
  {
   "cell_type": "markdown",
   "metadata": {},
   "source": [
    "Now we can get the position of the square:"
   ]
  },
  {
   "cell_type": "code",
   "execution_count": 17,
   "metadata": {},
   "outputs": [
    {
     "data": {
      "text/plain": [
       "(224.33865820403483, 36.51018129668877)"
      ]
     },
     "execution_count": 17,
     "metadata": {},
     "output_type": "execute_result"
    }
   ],
   "source": [
    "random_x, random_y"
   ]
  },
  {
   "cell_type": "markdown",
   "metadata": {},
   "source": [
    "Alternatively, you can use the `--unsafe` parameter. This is a blanket statement that mixes the cell magic's namespace with the notebook namespace. As the name implies, you can cause problems for yourself by using this."
   ]
  },
  {
   "cell_type": "code",
   "execution_count": 18,
   "metadata": {},
   "outputs": [
    {
     "data": {
      "image/png": "[encoded data removed]",
      "text/plain": [
       "<IPython.core.display.Image object>"
      ]
     },
     "metadata": {},
     "output_type": "display_data"
    }
   ],
   "source": [
    "%%py5draw 300 200 --unsafe\n",
    "\n",
    "py5.background(240)\n",
    "py5.rect_mode(py5.CENTER)\n",
    "\n",
    "random_x = py5.random(py5.width)\n",
    "random_y = py5.random(py5.height)\n",
    "py5.rect(random_x, random_y, 50, 50)"
   ]
  },
  {
   "cell_type": "code",
   "execution_count": 19,
   "metadata": {},
   "outputs": [
    {
     "data": {
      "text/plain": [
       "(138.55448050822486, 188.82286533714932)"
      ]
     },
     "execution_count": 19,
     "metadata": {},
     "output_type": "execute_result"
    }
   ],
   "source": [
    "random_x, random_y"
   ]
  },
  {
   "cell_type": "markdown",
   "metadata": {},
   "source": [
    "# Animated Sketches\n",
    "\n",
    "Of course, there's more to py5 than static sketches. The py5 magics will support animated sketches as well.\n",
    "\n",
    "Note that starting your development process with static sketches is a great way to write py5 code. For example, you can quickly develop functions for parts of your creation and test them out with static sketches, and later use those same functions in your final animation.\n",
    "\n",
    "Let's create a simple example. The below `settings` function will tell py5 to create a 500 by 400 sketch window."
   ]
  },
  {
   "cell_type": "code",
   "execution_count": 20,
   "metadata": {},
   "outputs": [],
   "source": [
    "def settings():\n",
    "    py5.size(500, 400, py5.P2D)"
   ]
  },
  {
   "cell_type": "markdown",
   "metadata": {},
   "source": [
    "This `setup` function will set the background color and set the rect mode."
   ]
  },
  {
   "cell_type": "code",
   "execution_count": 21,
   "metadata": {},
   "outputs": [],
   "source": [
    "def setup():\n",
    "    py5.background(240)\n",
    "    py5.rect_mode(py5.CENTER)"
   ]
  },
  {
   "cell_type": "markdown",
   "metadata": {},
   "source": [
    "And finally, the `draw` function to draw squares at the current mouse position."
   ]
  },
  {
   "cell_type": "code",
   "execution_count": 22,
   "metadata": {},
   "outputs": [],
   "source": [
    "def draw():\n",
    "    pick_random_fill()\n",
    "    py5.rect(py5.mouse_x, py5.mouse_y, 10, 10)"
   ]
  },
  {
   "cell_type": "markdown",
   "metadata": {},
   "source": [
    "To run the sketch, use the [run_sketch()](link://slug/run_sketch) method. It will pull out the `settings`, `setup`, and `draw` functions from the notebook's namespace and put them together in a sketch."
   ]
  },
  {
   "cell_type": "code",
   "execution_count": 23,
   "metadata": {},
   "outputs": [
    {
     "name": "stdout",
     "output_type": "stream",
     "text": [
      "the sketch is running!\n"
     ]
    }
   ],
   "source": [
    "py5.run_sketch()\n",
    "print('the sketch is running!')"
   ]
  },
  {
   "cell_type": "markdown",
   "metadata": {},
   "source": [
    "A new window opens for the running sketch.\n",
    "\n",
    "By default, the [run_sketch()](link://slug/run_sketch) method returns right away, as illustrated by the `print` statement. This enables the notebook user to continue coding, including executing code that interacts with the sketch. The sketch continues to run in its own window."
   ]
  },
  {
   "cell_type": "markdown",
   "metadata": {},
   "source": [
    "## Screenshots\n",
    "\n",
    "The sketch window cannot be embedded into the notebook, but the `%py5screenshot` magic can grab a single snapshot of the window. The `-w` parameter tells it to pause for a few seconds before grabbing that snapshot."
   ]
  },
  {
   "cell_type": "code",
   "execution_count": 24,
   "metadata": {},
   "outputs": [
    {
     "data": {
      "image/png": "[encoded data removed]",
      "text/plain": [
       "<PIL.PngImagePlugin.PngImageFile image mode=RGB size=500x400 at 0x7FB36BF91B80>"
      ]
     },
     "execution_count": 24,
     "metadata": {},
     "output_type": "execute_result"
    }
   ],
   "source": [
    "sketch_snapshot = %py5screenshot -w 5\n",
    "\n",
    "sketch_snapshot"
   ]
  },
  {
   "cell_type": "markdown",
   "metadata": {},
   "source": [
    "Observe that this is a line magic, not a cell magic, and that the line magic returns a frame of the sketch as a [PIL Image object](https://pillow.readthedocs.io/en/stable/index.html)."
   ]
  },
  {
   "cell_type": "code",
   "execution_count": 25,
   "metadata": {},
   "outputs": [
    {
     "name": "stdout",
     "output_type": "stream",
     "text": [
      "<class 'PIL.PngImagePlugin.PngImageFile'>\n"
     ]
    }
   ],
   "source": [
    "print(type(sketch_snapshot))"
   ]
  },
  {
   "cell_type": "markdown",
   "metadata": {},
   "source": [
    "The `%py5screencapture` magic will save multiple frames to a directory.\n",
    "\n",
    "Of course you can also call [save_frame()](link://slug/save_frame) from the `draw` method, but that would require you to redefine the `draw` method with a few extra lines of code. This is more convenient. "
   ]
  },
  {
   "cell_type": "code",
   "execution_count": 26,
   "metadata": {},
   "outputs": [
    {
     "name": "stdout",
     "output_type": "stream",
     "text": [
      "writing frames to /tmp/testframes/...\n",
      "saving frame 10/10\n"
     ]
    },
    {
     "data": {
      "text/plain": [
       "['/tmp/testframes/frame_0000.png',\n",
       " '/tmp/testframes/frame_0001.png',\n",
       " '/tmp/testframes/frame_0002.png',\n",
       " '/tmp/testframes/frame_0003.png',\n",
       " '/tmp/testframes/frame_0004.png',\n",
       " '/tmp/testframes/frame_0005.png',\n",
       " '/tmp/testframes/frame_0006.png',\n",
       " '/tmp/testframes/frame_0007.png',\n",
       " '/tmp/testframes/frame_0008.png',\n",
       " '/tmp/testframes/frame_0009.png']"
      ]
     },
     "execution_count": 26,
     "metadata": {},
     "output_type": "execute_result"
    }
   ],
   "source": [
    "%py5screencapture -w 3 -s 0 --limit 10 /tmp/testframes/"
   ]
  },
  {
   "cell_type": "markdown",
   "metadata": {},
   "source": [
    "Those frames can be assembled into a video file."
   ]
  },
  {
   "cell_type": "markdown",
   "metadata": {},
   "source": [
    "## Animated GIFs\n",
    "\n",
    "The last magic creates animated GIFs from your sketch. Everybody loves animated GIFs."
   ]
  },
  {
   "cell_type": "code",
   "execution_count": 27,
   "metadata": {},
   "outputs": [
    {
     "name": "stdout",
     "output_type": "stream",
     "text": [
      "collecting frame 10/10\n"
     ]
    },
    {
     "data": {
      "text/plain": [
       "'images/jupyter_notebooks/simple_example.gif'"
      ]
     },
     "execution_count": 27,
     "metadata": {},
     "output_type": "execute_result"
    }
   ],
   "source": [
    "%py5animatedgif -w 3 images/jupyter_notebooks/simple_example.gif 10 1000 500"
   ]
  },
  {
   "cell_type": "markdown",
   "metadata": {},
   "source": [
    "The animated GIF can then be embedded in a notebook markdown cell.\n",
    "\n",
    "![simple_example](images/jupyter_notebooks/simple_example.gif)"
   ]
  },
  {
   "cell_type": "markdown",
   "metadata": {},
   "source": [
    "## Print Statements\n",
    "\n",
    "Question: if the user's `draw` method contains `print` statements, where does the output appear?\n",
    "\n",
    "This would be a simple question if the [run_sketch()](link://slug/run_sketch) method did not return right away (which you could achieve by passing the parameter `block=False`). The print statements would always go into the output of the cell with the call to that method. When the sketch exits, the output for that cell would be complete.\n",
    "\n",
    "By default, the [run_sketch()](link://slug/run_sketch) method does return right away when called from a Jupyter notebook. The print statements will still go to the output of the cell with the call to that method, but when you move on to the next cell, the print statements will start to appear there instead. Why? This has to do with the inner workings of Jupyter notebooks. It gets weirder if you delete the cell that is currently receiving the output. If that happens, the print output will disappear completely.\n",
    "\n",
    "This is less than perfect, and might frustrate users who like to debug their code with print statements. A better solution would be for py5 to open a second console window to receive any text outputs such as exceptions and print statements. I'd like to implement that at some point, but I don't expect it to happen any time soon. In the mean time, note that you can send text to the Jupyter notebook log like this:"
   ]
  },
  {
   "cell_type": "code",
   "execution_count": 28,
   "metadata": {},
   "outputs": [],
   "source": [
    "shell = get_ipython()\n",
    "shell.log.critical('test message')"
   ]
  },
  {
   "cell_type": "markdown",
   "metadata": {},
   "source": [
    "In the terminal I used to run `jupyter notebook`, I see this message:\n",
    "\n",
    "```\n",
    "[IPKernelApp] CRITICAL | test message\n",
    "```\n",
    "\n",
    "This is a more reliable debugging technique."
   ]
  }
 ],
 "metadata": {
  "kernelspec": {
   "display_name": "Python 3",
   "language": "python",
   "name": "python3"
  },
  "language_info": {
   "codemirror_mode": {
    "name": "ipython",
    "version": 3
   },
   "file_extension": ".py",
   "mimetype": "text/x-python",
   "name": "python",
   "nbconvert_exporter": "python",
   "pygments_lexer": "ipython3",
   "version": "3.8.6"
  },
  "nikola": {
   "date": "2021-01-10 16:12:41 EST",
   "filters": "python scripts/adjust_notebook_img_link.py '%s'",
   "slug": "jupyter-notebooks",
   "title": "Jupyter Notebooks"
  }
 },
 "nbformat": 4,
 "nbformat_minor": 4
}
