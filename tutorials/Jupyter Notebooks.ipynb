{
 "cells": [
  {
   "cell_type": "markdown",
   "metadata": {},
   "source": [
    "The py5 library is designed to work well with Jupyter tools, including Jupyter notebook. There are included IPython magics that are useful for supporting your development and documentation efforts as well as your creative endeavors. Used well, they can greatly enhance your programming workflow.\n",
    "\n",
    "To use py5 in a notebook, first import the library:"
   ]
  },
  {
   "cell_type": "code",
   "execution_count": 1,
   "metadata": {},
   "outputs": [],
   "source": [
    "import py5_tools\n",
    "import py5"
   ]
  },
  {
   "cell_type": "markdown",
   "metadata": {},
   "source": [
    "# Getting Help\n",
    "\n",
    "Before continuing, it is worth pointing out that you can access the docstrings for any py5 functions by appending a `?` to the end of the function, or with the builtin `help` function.\n",
    "\n",
    "Using the `?` which something like `py5.rect?` temporarily displays the documentation at the bottom of the notebook window. The builtin `help` function puts the result in the notebook cell."
   ]
  },
  {
   "cell_type": "code",
   "execution_count": 2,
   "metadata": {},
   "outputs": [
    {
     "name": "stdout",
     "output_type": "stream",
     "text": [
      "Help on function rect in module py5:\n",
      "\n",
      "rect(*args)\n",
      "    Draws a rectangle to the screen.\n",
      "    \n",
      "    Underlying Java method: PApplet.rect\n",
      "    \n",
      "    Methods\n",
      "    -------\n",
      "    \n",
      "    You can use any of the following signatures:\n",
      "    \n",
      "     * rect(a: float, b: float, c: float, d: float, /) -> None\n",
      "     * rect(a: float, b: float, c: float, d: float, r: float, /) -> None\n",
      "     * rect(a: float, b: float, c: float, d: float, tl: float, tr: float, br: float, bl: float, /) -> None\n",
      "    \n",
      "    Parameters\n",
      "    ----------\n",
      "    \n",
      "    a: float\n",
      "        x-coordinate of the rectangle by default\n",
      "    \n",
      "    b: float\n",
      "        y-coordinate of the rectangle by default\n",
      "    \n",
      "    bl: float\n",
      "        radius for bottom-left corner\n",
      "    \n",
      "    br: float\n",
      "        radius for bottom-right corner\n",
      "    \n",
      "    c: float\n",
      "        width of the rectangle by default\n",
      "    \n",
      "    d: float\n",
      "        height of the rectangle by default\n",
      "    \n",
      "    r: float\n",
      "        radii for all four corners\n",
      "    \n",
      "    tl: float\n",
      "        radius for top-left corner\n",
      "    \n",
      "    tr: float\n",
      "        radius for top-right corner\n",
      "    \n",
      "    Notes\n",
      "    -----\n",
      "    \n",
      "    Draws a rectangle to the screen. A rectangle is a four-sided shape with every\n",
      "    angle at ninety degrees. By default, the first two parameters set the location\n",
      "    of the upper-left corner, the third sets the width, and the fourth sets the\n",
      "    height. The way these parameters are interpreted, however, may be changed with\n",
      "    the ``rect_mode()`` function.\n",
      "    \n",
      "    To draw a rounded rectangle, add a fifth parameter, which is used as the radius\n",
      "    value for all four corners.\n",
      "    \n",
      "    To use a different radius value for each corner, include eight parameters. When\n",
      "    using eight parameters, the latter four set the radius of the arc at each corner\n",
      "    separately, starting with the top-left corner and moving clockwise around the\n",
      "    rectangle.\n",
      "\n"
     ]
    }
   ],
   "source": [
    "help(py5.rect)"
   ]
  },
  {
   "cell_type": "markdown",
   "metadata": {},
   "source": [
    "Pause to take a moment to appreciate that documentation, with its proper type signatures and explicit variable types. You'll also notice the content is analogous what is in py5's [rect()](link://slug/rect) reference documentation. Producing thorough and coordinated py5 docstrings and reference documentation like this took an enormous amount of work.\n",
    "\n",
    "You'll notice that all the usual Jupyter niceties such as tab completion work for py5. There are also Python typehints for all py5 objects."
   ]
  },
  {
   "cell_type": "markdown",
   "metadata": {},
   "source": [
    "# Load IPython Magics\n",
    "\n",
    "Next, load the py5 magics:"
   ]
  },
  {
   "cell_type": "code",
   "execution_count": 3,
   "metadata": {},
   "outputs": [],
   "source": [
    "%load_ext py5"
   ]
  },
  {
   "cell_type": "markdown",
   "metadata": {},
   "source": [
    "These \"magic\" commands are like extra functionality added to what Python and Jupyter notebooks can already do.\n",
    "\n",
    "The py5 magics all start with \"py5\". The cell magics are:\n",
    "\n",
    "* %%py5draw\n",
    "* %%py5drawdxf\n",
    "* %%py5drawpdf\n",
    "* %%py5drawsvg\n",
    "\n",
    "As before, documentation for each is available by appending a `?`, such as when you type `%%py5draw?` in an empty cell. The builtin `help` function does not work with IPython magics.\n",
    "\n",
    "See below for demonstrations of what each does."
   ]
  },
  {
   "cell_type": "markdown",
   "metadata": {},
   "source": [
    "# Running py5 on Mac Computers\n",
    "\n",
    "There are several known [issues running py5 on Mac computers](/tutorials/mac-users/). If you use a Mac, you should read about the Mac issues before continuing.\n",
    "\n",
    "The below Jupyter magic is necessary to use py5 on Mac computers:"
   ]
  },
  {
   "cell_type": "code",
   "execution_count": null,
   "metadata": {},
   "outputs": [],
   "source": [
    "%gui osx"
   ]
  },
  {
   "cell_type": "markdown",
   "metadata": {},
   "source": [
    "# Static Sketches\n",
    "\n",
    "The below example creates a static image with some simple shapes.\n",
    "\n",
    "The first line in the cell, `%%py5draw 300 200`, is not Python code. Instead, it is a command to Jupyter itself, instructing it to send the rest of the cell's contents to a special py5 draw function.\n",
    "\n",
    "Observe that there are no defined `setup` or `draw` functions."
   ]
  },
  {
   "cell_type": "code",
   "execution_count": 4,
   "metadata": {},
   "outputs": [
    {
     "data": {
      "image/png": "[encoded data removed]",
      "text/plain": [
       "<IPython.core.display.Image object>"
      ]
     },
     "metadata": {},
     "output_type": "display_data"
    }
   ],
   "source": [
    "%%py5draw 300 200\n",
    "\n",
    "# make the background light gray\n",
    "py5.background(240)\n",
    "\n",
    "# draw a red square\n",
    "py5.fill(255, 0, 0)\n",
    "py5.rect_mode(py5.CENTER)\n",
    "py5.rect(170, 80, 100, 100)\n",
    "\n",
    "# add a thick green line\n",
    "py5.stroke(0, 255, 0)\n",
    "py5.stroke_weight(15)\n",
    "py5.line(40, 30, 220, 180)"
   ]
  },
  {
   "cell_type": "markdown",
   "metadata": {},
   "source": [
    "The code can access variables and functions defined in other non-magic notebook cells. This is especially useful when the code leverages py5 functionality.\n",
    "\n",
    "For example, the below function sets the fill color to a random color."
   ]
  },
  {
   "cell_type": "code",
   "execution_count": 5,
   "metadata": {},
   "outputs": [],
   "source": [
    "def pick_random_fill():\n",
    "    py5.fill(py5.random(255), py5.random(255), py5.random(255))"
   ]
  },
  {
   "cell_type": "markdown",
   "metadata": {},
   "source": [
    "The below example uses `pick_random_fill` to draw randomly colored rectangles. This example is a bit contrived, but you do see how the code below can call a function defined elsewhere."
   ]
  },
  {
   "cell_type": "code",
   "execution_count": 6,
   "metadata": {},
   "outputs": [
    {
     "data": {
      "image/png": "[encoded data removed]",
      "text/plain": [
       "<IPython.core.display.Image object>"
      ]
     },
     "metadata": {},
     "output_type": "display_data"
    }
   ],
   "source": [
    "%%py5draw 300 200\n",
    "\n",
    "py5.background(240)\n",
    "py5.rect_mode(py5.CENTER)\n",
    "\n",
    "for i in range(100):\n",
    "    pick_random_fill()\n",
    "    py5.rect(py5.random(py5.width), py5.random(py5.height), 10, 10)"
   ]
  },
  {
   "cell_type": "markdown",
   "metadata": {},
   "source": [
    "The `pick_random_fill` function can be reused again elsewhere in this notebook.\n",
    "\n",
    "By default, any new functions and variables defined in that `%%py5draw` cell are not available outside of the cell. However, you can explicitly change this. See below for further discussion."
   ]
  },
  {
   "cell_type": "markdown",
   "metadata": {},
   "source": [
    "## Saving to a File\n",
    "\n",
    "If you like you can save the generated image to a file with the `-f` parameter, like so:"
   ]
  },
  {
   "cell_type": "code",
   "execution_count": 7,
   "metadata": {},
   "outputs": [
    {
     "name": "stdout",
     "output_type": "stream",
     "text": [
      "PNG file written to images/jupyter_notebooks/simple_example.png\n"
     ]
    },
    {
     "data": {
      "image/png": "[encoded data removed]",
      "text/plain": [
       "<IPython.core.display.Image object>"
      ]
     },
     "metadata": {},
     "output_type": "display_data"
    }
   ],
   "source": [
    "%%py5draw 300 200 -f images/jupyter_notebooks/simple_example.png\n",
    "\n",
    "py5.background(240)\n",
    "py5.rect_mode(py5.CENTER)\n",
    "\n",
    "for i in range(100):\n",
    "    pick_random_fill()\n",
    "    py5.rect(py5.random(py5.width), py5.random(py5.height), 10, 10)"
   ]
  },
  {
   "cell_type": "markdown",
   "metadata": {},
   "source": [
    "Now there's an image on my computer located at `images/jupyter_notebooks/simple_example.png`. I can embed that in this notebook using markdown.\n",
    "\n",
    "![asdf](images/jupyter_notebooks/simple_example.png)"
   ]
  },
  {
   "cell_type": "markdown",
   "metadata": {},
   "source": [
    "## OpenGL Renderers\n",
    "\n",
    "You can also use the OpenGL renderers with the `-r` parameter, like so."
   ]
  },
  {
   "cell_type": "code",
   "execution_count": 8,
   "metadata": {},
   "outputs": [
    {
     "data": {
      "image/png": "[encoded data removed]",
      "text/plain": [
       "<IPython.core.display.Image object>"
      ]
     },
     "metadata": {},
     "output_type": "display_data"
    }
   ],
   "source": [
    "%%py5draw 300 200 -r P2D\n",
    "\n",
    "py5.background(240)\n",
    "py5.rect_mode(py5.CENTER)\n",
    "\n",
    "for i in range(100):\n",
    "    pick_random_fill()\n",
    "    py5.rect(py5.random(py5.width), py5.random(py5.height), 10, 10)    "
   ]
  },
  {
   "cell_type": "markdown",
   "metadata": {},
   "source": [
    "When that cell runs, a py5 window is quickly opened and closed. For whatever reason, the Processing's OpenGL renderers cannot draw to an invisible window (but I would be delighted to be proven wrong about that).\n",
    "\n",
    "The previous `%%py5draw` examples in this notebook used a special `HIDDEN` renderer based on the default `JAVA2D` renderer that does not need to open a window. That `HIDDEN` renderer was created just for this purpose. Despite my best efforts, I couldn't create similar renderers based on the OpenGL renderers `P2D` and `P3D`.\n",
    "\n",
    "The 3D renderer also works:"
   ]
  },
  {
   "cell_type": "code",
   "execution_count": 9,
   "metadata": {},
   "outputs": [
    {
     "data": {
      "image/png": "[encoded data removed]",
      "text/plain": [
       "<IPython.core.display.Image object>"
      ]
     },
     "metadata": {},
     "output_type": "display_data"
    }
   ],
   "source": [
    "%%py5draw 300 300 -r P3D\n",
    "\n",
    "py5.background(240)\n",
    "\n",
    "N = 10\n",
    "\n",
    "for i in range(N):\n",
    "    py5.push_matrix()\n",
    "    pick_random_fill()\n",
    "    py5.translate(i * py5.width / N, i * py5.width / N, i * 20 - 200)\n",
    "    py5.box(40)\n",
    "    py5.pop_matrix()"
   ]
  },
  {
   "cell_type": "markdown",
   "metadata": {},
   "source": [
    "## SVG Renderer\n",
    "\n",
    "To create SVG images, use the `%%py5drawsvg` magic.\n",
    "\n",
    "As before, the result can be saved to a file with the `-f` parameter."
   ]
  },
  {
   "cell_type": "code",
   "execution_count": 10,
   "metadata": {},
   "outputs": [
    {
     "name": "stdout",
     "output_type": "stream",
     "text": [
      "SVG drawing written to /tmp/test.svg\n"
     ]
    },
    {
     "data": {
      "image/svg+xml": [
       "<svg xmlns:xlink=\"http://www.w3.org/1999/xlink\" xmlns=\"http://www.w3.org/2000/svg\" style=\"fill-opacity:1; color-rendering:auto; color-interpolation:auto; text-rendering:auto; stroke:black; stroke-linecap:square; stroke-miterlimit:10; shape-rendering:auto; stroke-opacity:1; fill:black; stroke-dasharray:none; font-weight:normal; stroke-width:1; font-family:'Dialog'; font-style:normal; stroke-linejoin:miter; font-size:12px; stroke-dashoffset:0; image-rendering:auto;\" width=\"300\" height=\"200\"><!--Generated by the Batik Graphics2D SVG Generator--><defs id=\"genericDefs\"/><g><g style=\"stroke-linecap:round; fill:rgb(204,204,204); stroke:rgb(204,204,204);\"><rect x=\"0\" width=\"300\" height=\"200\" y=\"0\" style=\"stroke:none;\"/></g><g style=\"stroke-linecap:round; fill:rgb(240,240,240); stroke:rgb(240,240,240);\"><rect x=\"0\" width=\"300\" height=\"200\" y=\"0\" style=\"stroke:none;\"/></g><g style=\"stroke-linecap:round; fill:rgb(118,34,117); stroke:rgb(118,34,117);\"><rect x=\"75.8828\" width=\"10\" height=\"10\" y=\"186.1628\" style=\"stroke:none;\"/><rect x=\"75.8828\" y=\"186.1628\" width=\"10\" style=\"fill:none; stroke:black;\" height=\"10\"/><rect x=\"34.1834\" y=\"139.8473\" width=\"10\" style=\"fill:rgb(220,86,2); stroke:none;\" height=\"10\"/><rect x=\"34.1834\" y=\"139.8473\" width=\"10\" style=\"fill:none; stroke:black;\" height=\"10\"/><rect x=\"208.3814\" y=\"167.6468\" width=\"10\" style=\"fill:rgb(137,135,182); stroke:none;\" height=\"10\"/><rect x=\"208.3814\" y=\"167.6468\" width=\"10\" style=\"fill:none; stroke:black;\" height=\"10\"/><rect x=\"83.0145\" y=\"99.5689\" width=\"10\" style=\"fill:rgb(223,58,28); stroke:none;\" height=\"10\"/><rect x=\"83.0145\" y=\"99.5689\" width=\"10\" style=\"fill:none; stroke:black;\" height=\"10\"/><rect x=\"117.6214\" y=\"90.6309\" width=\"10\" style=\"fill:rgb(30,72,20); stroke:none;\" height=\"10\"/><rect x=\"117.6214\" y=\"90.6309\" width=\"10\" style=\"fill:none; stroke:black;\" height=\"10\"/><rect x=\"140.383\" y=\"75.5811\" width=\"10\" style=\"fill:rgb(83,7,174); stroke:none;\" height=\"10\"/><rect x=\"140.383\" y=\"75.5811\" width=\"10\" style=\"fill:none; stroke:black;\" height=\"10\"/><rect x=\"187.8926\" y=\"16.0939\" width=\"10\" style=\"fill:rgb(234,143,194); stroke:none;\" height=\"10\"/><rect x=\"187.8926\" y=\"16.0939\" width=\"10\" style=\"fill:none; stroke:black;\" height=\"10\"/><rect x=\"77.9545\" y=\"135.2716\" width=\"10\" style=\"fill:rgb(20,92,3); stroke:none;\" height=\"10\"/><rect x=\"77.9545\" y=\"135.2716\" width=\"10\" style=\"fill:none; stroke:black;\" height=\"10\"/><rect x=\"131.8965\" y=\"120.3262\" width=\"10\" style=\"fill:rgb(39,28,32); stroke:none;\" height=\"10\"/><rect x=\"131.8965\" y=\"120.3262\" width=\"10\" style=\"fill:none; stroke:black;\" height=\"10\"/><rect x=\"125.9209\" y=\"111.6336\" width=\"10\" style=\"fill:rgb(254,23,148); stroke:none;\" height=\"10\"/><rect x=\"125.9209\" y=\"111.6336\" width=\"10\" style=\"fill:none; stroke:black;\" height=\"10\"/><rect x=\"172.9833\" y=\"144.4385\" width=\"10\" style=\"fill:rgb(234,217,22); stroke:none;\" height=\"10\"/><rect x=\"172.9833\" y=\"144.4385\" width=\"10\" style=\"fill:none; stroke:black;\" height=\"10\"/><rect x=\"49.515\" y=\"134.9303\" width=\"10\" style=\"fill:rgb(251,78,242); stroke:none;\" height=\"10\"/><rect x=\"49.515\" y=\"134.9303\" width=\"10\" style=\"fill:none; stroke:black;\" height=\"10\"/><rect x=\"191.4442\" y=\"35.5636\" width=\"10\" style=\"fill:rgb(253,37,75); stroke:none;\" height=\"10\"/><rect x=\"191.4442\" y=\"35.5636\" width=\"10\" style=\"fill:none; stroke:black;\" height=\"10\"/><rect x=\"214.5688\" y=\"105.3143\" width=\"10\" style=\"fill:rgb(5,247,243); stroke:none;\" height=\"10\"/><rect x=\"214.5688\" y=\"105.3143\" width=\"10\" style=\"fill:none; stroke:black;\" height=\"10\"/><rect x=\"13.5025\" y=\"147.1885\" width=\"10\" style=\"fill:rgb(237,146,41); stroke:none;\" height=\"10\"/><rect x=\"13.5025\" y=\"147.1885\" width=\"10\" style=\"fill:none; stroke:black;\" height=\"10\"/><rect x=\"3.6437\" y=\"188.4445\" width=\"10\" style=\"fill:rgb(50,20,22); stroke:none;\" height=\"10\"/><rect x=\"3.6437\" y=\"188.4445\" width=\"10\" style=\"fill:none; stroke:black;\" height=\"10\"/><rect x=\"35.9227\" y=\"12.6559\" width=\"10\" style=\"fill:rgb(134,245,183); stroke:none;\" height=\"10\"/><rect x=\"35.9227\" y=\"12.6559\" width=\"10\" style=\"fill:none; stroke:black;\" height=\"10\"/><rect x=\"246.8749\" y=\"112.3785\" width=\"10\" style=\"fill:rgb(2,78,134); stroke:none;\" height=\"10\"/><rect x=\"246.8749\" y=\"112.3785\" width=\"10\" style=\"fill:none; stroke:black;\" height=\"10\"/><rect x=\"91.6359\" y=\"62.9157\" width=\"10\" style=\"fill:rgb(161,174,69); stroke:none;\" height=\"10\"/><rect x=\"91.6359\" y=\"62.9157\" width=\"10\" style=\"fill:none; stroke:black;\" height=\"10\"/><rect x=\"151.2268\" y=\"92.8946\" width=\"10\" style=\"fill:rgb(194,183,159); stroke:none;\" height=\"10\"/><rect x=\"151.2268\" y=\"92.8946\" width=\"10\" style=\"fill:none; stroke:black;\" height=\"10\"/><rect x=\"129.839\" y=\"166.6311\" width=\"10\" style=\"fill:rgb(153,171,29); stroke:none;\" height=\"10\"/><rect x=\"129.839\" y=\"166.6311\" width=\"10\" style=\"fill:none; stroke:black;\" height=\"10\"/><rect x=\"66.4108\" y=\"98.4328\" width=\"10\" style=\"fill:rgb(89,105,238); stroke:none;\" height=\"10\"/><rect x=\"66.4108\" y=\"98.4328\" width=\"10\" style=\"fill:none; stroke:black;\" height=\"10\"/><rect x=\"199.8279\" y=\"-2.3441\" width=\"10\" style=\"fill:rgb(178,17,156); stroke:none;\" height=\"10\"/><rect x=\"199.8279\" y=\"-2.3441\" width=\"10\" style=\"fill:none; stroke:black;\" height=\"10\"/><rect x=\"272.0721\" y=\"114.7572\" width=\"10\" style=\"fill:rgb(249,130,200); stroke:none;\" height=\"10\"/><rect x=\"272.0721\" y=\"114.7572\" width=\"10\" style=\"fill:none; stroke:black;\" height=\"10\"/><rect x=\"97.5898\" y=\"162.8629\" width=\"10\" style=\"fill:rgb(223,234,161); stroke:none;\" height=\"10\"/><rect x=\"97.5898\" y=\"162.8629\" width=\"10\" style=\"fill:none; stroke:black;\" height=\"10\"/><rect x=\"60.5368\" y=\"147.3203\" width=\"10\" style=\"fill:rgb(205,2,151); stroke:none;\" height=\"10\"/><rect x=\"60.5368\" y=\"147.3203\" width=\"10\" style=\"fill:none; stroke:black;\" height=\"10\"/><rect x=\"80.6432\" y=\"184.9442\" width=\"10\" style=\"fill:rgb(240,28,221); stroke:none;\" height=\"10\"/><rect x=\"80.6432\" y=\"184.9442\" width=\"10\" style=\"fill:none; stroke:black;\" height=\"10\"/><rect x=\"77.5214\" y=\"148.2351\" width=\"10\" style=\"fill:rgb(222,189,74); stroke:none;\" height=\"10\"/><rect x=\"77.5214\" y=\"148.2351\" width=\"10\" style=\"fill:none; stroke:black;\" height=\"10\"/><rect x=\"91.0574\" y=\"89.4759\" width=\"10\" style=\"fill:rgb(86,176,249); stroke:none;\" height=\"10\"/><rect x=\"91.0574\" y=\"89.4759\" width=\"10\" style=\"fill:none; stroke:black;\" height=\"10\"/><rect x=\"290.4676\" y=\"50.3563\" width=\"10\" style=\"fill:rgb(203,63,146); stroke:none;\" height=\"10\"/><rect x=\"290.4676\" y=\"50.3563\" width=\"10\" style=\"fill:none; stroke:black;\" height=\"10\"/><rect x=\"101.9973\" y=\"32.0089\" width=\"10\" style=\"fill:rgb(0,113,251); stroke:none;\" height=\"10\"/><rect x=\"101.9973\" y=\"32.0089\" width=\"10\" style=\"fill:none; stroke:black;\" height=\"10\"/><rect x=\"132.1959\" y=\"35.854\" width=\"10\" style=\"fill:rgb(74,103,242); stroke:none;\" height=\"10\"/><rect x=\"132.1959\" y=\"35.854\" width=\"10\" style=\"fill:none; stroke:black;\" height=\"10\"/><rect x=\"90.6248\" y=\"74.6121\" width=\"10\" style=\"fill:rgb(143,209,199); stroke:none;\" height=\"10\"/><rect x=\"90.6248\" y=\"74.6121\" width=\"10\" style=\"fill:none; stroke:black;\" height=\"10\"/><rect x=\"239.1681\" y=\"143.1004\" width=\"10\" style=\"fill:rgb(195,250,184); stroke:none;\" height=\"10\"/><rect x=\"239.1681\" y=\"143.1004\" width=\"10\" style=\"fill:none; stroke:black;\" height=\"10\"/><rect x=\"132.5274\" y=\"30.431\" width=\"10\" style=\"fill:rgb(50,51,158); stroke:none;\" height=\"10\"/><rect x=\"132.5274\" y=\"30.431\" width=\"10\" style=\"fill:none; stroke:black;\" height=\"10\"/><rect x=\"98.8161\" y=\"153.5658\" width=\"10\" style=\"fill:rgb(46,74,26); stroke:none;\" height=\"10\"/><rect x=\"98.8161\" y=\"153.5658\" width=\"10\" style=\"fill:none; stroke:black;\" height=\"10\"/><rect x=\"175.9985\" y=\"152.2476\" width=\"10\" style=\"fill:rgb(52,81,242); stroke:none;\" height=\"10\"/><rect x=\"175.9985\" y=\"152.2476\" width=\"10\" style=\"fill:none; stroke:black;\" height=\"10\"/><rect x=\"197.0873\" y=\"87.3288\" width=\"10\" style=\"fill:rgb(156,227,195); stroke:none;\" height=\"10\"/><rect x=\"197.0873\" y=\"87.3288\" width=\"10\" style=\"fill:none; stroke:black;\" height=\"10\"/><rect x=\"137.0529\" y=\"32.5464\" width=\"10\" style=\"fill:rgb(106,168,16); stroke:none;\" height=\"10\"/><rect x=\"137.0529\" y=\"32.5464\" width=\"10\" style=\"fill:none; stroke:black;\" height=\"10\"/><rect x=\"199.4457\" y=\"81.4472\" width=\"10\" style=\"fill:rgb(125,242,147); stroke:none;\" height=\"10\"/><rect x=\"199.4457\" y=\"81.4472\" width=\"10\" style=\"fill:none; stroke:black;\" height=\"10\"/><rect x=\"276.9865\" y=\"109.4449\" width=\"10\" style=\"fill:rgb(56,160,35); stroke:none;\" height=\"10\"/><rect x=\"276.9865\" y=\"109.4449\" width=\"10\" style=\"fill:none; stroke:black;\" height=\"10\"/><rect x=\"43.8503\" y=\"13.2332\" width=\"10\" style=\"fill:rgb(94,137,52); stroke:none;\" height=\"10\"/><rect x=\"43.8503\" y=\"13.2332\" width=\"10\" style=\"fill:none; stroke:black;\" height=\"10\"/><rect x=\"189.6341\" y=\"82.7856\" width=\"10\" style=\"fill:rgb(96,129,48); stroke:none;\" height=\"10\"/><rect x=\"189.6341\" y=\"82.7856\" width=\"10\" style=\"fill:none; stroke:black;\" height=\"10\"/><rect x=\"71.3159\" y=\"14.7901\" width=\"10\" style=\"fill:rgb(155,112,222); stroke:none;\" height=\"10\"/><rect x=\"71.3159\" y=\"14.7901\" width=\"10\" style=\"fill:none; stroke:black;\" height=\"10\"/><rect x=\"27.8537\" y=\"45.9205\" width=\"10\" style=\"fill:rgb(64,63,74); stroke:none;\" height=\"10\"/><rect x=\"27.8537\" y=\"45.9205\" width=\"10\" style=\"fill:none; stroke:black;\" height=\"10\"/><rect x=\"211.8607\" y=\"69.9352\" width=\"10\" style=\"fill:rgb(39,102,6); stroke:none;\" height=\"10\"/><rect x=\"211.8607\" y=\"69.9352\" width=\"10\" style=\"fill:none; stroke:black;\" height=\"10\"/><rect x=\"197.6709\" y=\"35.8906\" width=\"10\" style=\"fill:rgb(72,74,149); stroke:none;\" height=\"10\"/><rect x=\"197.6709\" y=\"35.8906\" width=\"10\" style=\"fill:none; stroke:black;\" height=\"10\"/><rect x=\"20.5265\" y=\"124.5309\" width=\"10\" style=\"fill:rgb(186,165,18); stroke:none;\" height=\"10\"/><rect x=\"20.5265\" y=\"124.5309\" width=\"10\" style=\"fill:none; stroke:black;\" height=\"10\"/><rect x=\"65.5865\" y=\"81.1028\" width=\"10\" style=\"fill:rgb(84,242,234); stroke:none;\" height=\"10\"/><rect x=\"65.5865\" y=\"81.1028\" width=\"10\" style=\"fill:none; stroke:black;\" height=\"10\"/><rect x=\"265.7684\" y=\"58.1513\" width=\"10\" style=\"fill:rgb(139,45,86); stroke:none;\" height=\"10\"/><rect x=\"265.7684\" y=\"58.1513\" width=\"10\" style=\"fill:none; stroke:black;\" height=\"10\"/><rect x=\"157.014\" y=\"170.2349\" width=\"10\" style=\"fill:rgb(37,93,182); stroke:none;\" height=\"10\"/><rect x=\"157.014\" y=\"170.2349\" width=\"10\" style=\"fill:none; stroke:black;\" height=\"10\"/><rect x=\"245.5297\" y=\"31.6889\" width=\"10\" style=\"fill:rgb(171,49,217); stroke:none;\" height=\"10\"/><rect x=\"245.5297\" y=\"31.6889\" width=\"10\" style=\"fill:none; stroke:black;\" height=\"10\"/><rect x=\"186.5062\" y=\"153.7072\" width=\"10\" style=\"fill:rgb(38,10,219); stroke:none;\" height=\"10\"/><rect x=\"186.5062\" y=\"153.7072\" width=\"10\" style=\"fill:none; stroke:black;\" height=\"10\"/><rect x=\"220.983\" y=\"102.996\" width=\"10\" style=\"fill:rgb(64,182,248); stroke:none;\" height=\"10\"/><rect x=\"220.983\" y=\"102.996\" width=\"10\" style=\"fill:none; stroke:black;\" height=\"10\"/><rect x=\"273.924\" y=\"87.7229\" width=\"10\" style=\"fill:rgb(138,205,74); stroke:none;\" height=\"10\"/><rect x=\"273.924\" y=\"87.7229\" width=\"10\" style=\"fill:none; stroke:black;\" height=\"10\"/><rect x=\"227.6264\" y=\"131.7936\" width=\"10\" style=\"fill:rgb(116,200,9); stroke:none;\" height=\"10\"/><rect x=\"227.6264\" y=\"131.7936\" width=\"10\" style=\"fill:none; stroke:black;\" height=\"10\"/><rect x=\"4.3803\" y=\"11.9993\" width=\"10\" style=\"fill:rgb(211,237,10); stroke:none;\" height=\"10\"/><rect x=\"4.3803\" y=\"11.9993\" width=\"10\" style=\"fill:none; stroke:black;\" height=\"10\"/><rect x=\"261.7624\" y=\"112.3056\" width=\"10\" style=\"fill:rgb(202,223,139); stroke:none;\" height=\"10\"/><rect x=\"261.7624\" y=\"112.3056\" width=\"10\" style=\"fill:none; stroke:black;\" height=\"10\"/><rect x=\"277.3177\" y=\"65.05\" width=\"10\" style=\"fill:rgb(214,221,244); stroke:none;\" height=\"10\"/><rect x=\"277.3177\" y=\"65.05\" width=\"10\" style=\"fill:none; stroke:black;\" height=\"10\"/><rect x=\"154.1096\" y=\"19.2844\" width=\"10\" style=\"fill:rgb(133,212,31); stroke:none;\" height=\"10\"/><rect x=\"154.1096\" y=\"19.2844\" width=\"10\" style=\"fill:none; stroke:black;\" height=\"10\"/><rect x=\"145.7579\" y=\"48.0412\" width=\"10\" style=\"fill:rgb(201,9,228); stroke:none;\" height=\"10\"/><rect x=\"145.7579\" y=\"48.0412\" width=\"10\" style=\"fill:none; stroke:black;\" height=\"10\"/><rect x=\"150.4707\" y=\"184.6214\" width=\"10\" style=\"fill:rgb(224,54,126); stroke:none;\" height=\"10\"/><rect x=\"150.4707\" y=\"184.6214\" width=\"10\" style=\"fill:none; stroke:black;\" height=\"10\"/><rect x=\"251.0015\" y=\"171.2782\" width=\"10\" style=\"fill:rgb(154,161,123); stroke:none;\" height=\"10\"/><rect x=\"251.0015\" y=\"171.2782\" width=\"10\" style=\"fill:none; stroke:black;\" height=\"10\"/><rect x=\"271.1318\" y=\"159.1748\" width=\"10\" style=\"fill:rgb(198,91,234); stroke:none;\" height=\"10\"/><rect x=\"271.1318\" y=\"159.1748\" width=\"10\" style=\"fill:none; stroke:black;\" height=\"10\"/><rect x=\"232.1111\" y=\"118.4165\" width=\"10\" style=\"fill:rgb(8,85,221); stroke:none;\" height=\"10\"/><rect x=\"232.1111\" y=\"118.4165\" width=\"10\" style=\"fill:none; stroke:black;\" height=\"10\"/><rect x=\"107.3857\" y=\"160.9445\" width=\"10\" style=\"fill:rgb(27,104,162); stroke:none;\" height=\"10\"/><rect x=\"107.3857\" y=\"160.9445\" width=\"10\" style=\"fill:none; stroke:black;\" height=\"10\"/><rect x=\"132.8192\" y=\"168.5546\" width=\"10\" style=\"fill:rgb(134,196,121); stroke:none;\" height=\"10\"/><rect x=\"132.8192\" y=\"168.5546\" width=\"10\" style=\"fill:none; stroke:black;\" height=\"10\"/><rect x=\"239.2541\" y=\"176.5573\" width=\"10\" style=\"fill:rgb(8,171,209); stroke:none;\" height=\"10\"/><rect x=\"239.2541\" y=\"176.5573\" width=\"10\" style=\"fill:none; stroke:black;\" height=\"10\"/><rect x=\"1.9264\" y=\"41.9196\" width=\"10\" style=\"fill:rgb(97,83,161); stroke:none;\" height=\"10\"/><rect x=\"1.9264\" y=\"41.9196\" width=\"10\" style=\"fill:none; stroke:black;\" height=\"10\"/><rect x=\"120.0373\" y=\"11.0349\" width=\"10\" style=\"fill:rgb(51,7,92); stroke:none;\" height=\"10\"/><rect x=\"120.0373\" y=\"11.0349\" width=\"10\" style=\"fill:none; stroke:black;\" height=\"10\"/><rect x=\"213.5165\" y=\"119.4319\" width=\"10\" style=\"fill:rgb(254,190,150); stroke:none;\" height=\"10\"/><rect x=\"213.5165\" y=\"119.4319\" width=\"10\" style=\"fill:none; stroke:black;\" height=\"10\"/><rect x=\"123.2361\" y=\"25.1896\" width=\"10\" style=\"fill:rgb(27,1,135); stroke:none;\" height=\"10\"/><rect x=\"123.2361\" y=\"25.1896\" width=\"10\" style=\"fill:none; stroke:black;\" height=\"10\"/><rect x=\"174.4289\" y=\"40.5732\" width=\"10\" style=\"fill:rgb(71,205,158); stroke:none;\" height=\"10\"/><rect x=\"174.4289\" y=\"40.5732\" width=\"10\" style=\"fill:none; stroke:black;\" height=\"10\"/><rect x=\"28.8747\" y=\"27.7541\" width=\"10\" style=\"fill:rgb(97,27,251); stroke:none;\" height=\"10\"/><rect x=\"28.8747\" y=\"27.7541\" width=\"10\" style=\"fill:none; stroke:black;\" height=\"10\"/><rect x=\"83.3166\" y=\"24.7664\" width=\"10\" style=\"fill:rgb(111,230,80); stroke:none;\" height=\"10\"/><rect x=\"83.3166\" y=\"24.7664\" width=\"10\" style=\"fill:none; stroke:black;\" height=\"10\"/><rect x=\"37.6034\" y=\"184.3273\" width=\"10\" style=\"fill:rgb(174,251,36); stroke:none;\" height=\"10\"/><rect x=\"37.6034\" y=\"184.3273\" width=\"10\" style=\"fill:none; stroke:black;\" height=\"10\"/><rect x=\"137.2429\" y=\"42.9796\" width=\"10\" style=\"fill:rgb(243,123,156); stroke:none;\" height=\"10\"/><rect x=\"137.2429\" y=\"42.9796\" width=\"10\" style=\"fill:none; stroke:black;\" height=\"10\"/><rect x=\"156.1301\" y=\"54.7479\" width=\"10\" style=\"fill:rgb(198,195,81); stroke:none;\" height=\"10\"/><rect x=\"156.1301\" y=\"54.7479\" width=\"10\" style=\"fill:none; stroke:black;\" height=\"10\"/><rect x=\"225.0089\" y=\"108.5466\" width=\"10\" style=\"fill:rgb(117,204,82); stroke:none;\" height=\"10\"/><rect x=\"225.0089\" y=\"108.5466\" width=\"10\" style=\"fill:none; stroke:black;\" height=\"10\"/><rect x=\"165.1941\" y=\"80.703\" width=\"10\" style=\"fill:rgb(183,131,23); stroke:none;\" height=\"10\"/><rect x=\"165.1941\" y=\"80.703\" width=\"10\" style=\"fill:none; stroke:black;\" height=\"10\"/><rect x=\"163.7433\" y=\"72.7809\" width=\"10\" style=\"fill:rgb(254,141,156); stroke:none;\" height=\"10\"/><rect x=\"163.7433\" y=\"72.7809\" width=\"10\" style=\"fill:none; stroke:black;\" height=\"10\"/><rect x=\"186.3116\" y=\"165.4765\" width=\"10\" style=\"fill:rgb(187,130,15); stroke:none;\" height=\"10\"/><rect x=\"186.3116\" y=\"165.4765\" width=\"10\" style=\"fill:none; stroke:black;\" height=\"10\"/><rect x=\"93.0983\" y=\"111.1886\" width=\"10\" style=\"fill:rgb(36,211,36); stroke:none;\" height=\"10\"/><rect x=\"93.0983\" y=\"111.1886\" width=\"10\" style=\"fill:none; stroke:black;\" height=\"10\"/><rect x=\"282.9402\" y=\"88.2665\" width=\"10\" style=\"fill:rgb(18,66,145); stroke:none;\" height=\"10\"/><rect x=\"282.9402\" y=\"88.2665\" width=\"10\" style=\"fill:none; stroke:black;\" height=\"10\"/><rect x=\"177.5272\" y=\"63.8284\" width=\"10\" style=\"fill:rgb(113,246,7); stroke:none;\" height=\"10\"/><rect x=\"177.5272\" y=\"63.8284\" width=\"10\" style=\"fill:none; stroke:black;\" height=\"10\"/><rect x=\"122.2003\" y=\"184.8487\" width=\"10\" style=\"fill:rgb(58,243,178); stroke:none;\" height=\"10\"/><rect x=\"122.2003\" y=\"184.8487\" width=\"10\" style=\"fill:none; stroke:black;\" height=\"10\"/><rect x=\"20.0086\" y=\"132.6911\" width=\"10\" style=\"fill:rgb(233,81,115); stroke:none;\" height=\"10\"/><rect x=\"20.0086\" y=\"132.6911\" width=\"10\" style=\"fill:none; stroke:black;\" height=\"10\"/><rect x=\"237.5798\" y=\"108.1557\" width=\"10\" style=\"fill:rgb(129,152,20); stroke:none;\" height=\"10\"/><rect x=\"237.5798\" y=\"108.1557\" width=\"10\" style=\"fill:none; stroke:black;\" height=\"10\"/><rect x=\"-0.385\" y=\"188.2614\" width=\"10\" style=\"fill:rgb(187,36,32); stroke:none;\" height=\"10\"/><rect x=\"-0.385\" y=\"188.2614\" width=\"10\" style=\"fill:none; stroke:black;\" height=\"10\"/><rect x=\"129.9842\" y=\"192.9351\" width=\"10\" style=\"fill:rgb(207,191,199); stroke:none;\" height=\"10\"/><rect x=\"129.9842\" y=\"192.9351\" width=\"10\" style=\"fill:none; stroke:black;\" height=\"10\"/><rect x=\"-4.3941\" y=\"24.5938\" width=\"10\" style=\"fill:rgb(128,166,5); stroke:none;\" height=\"10\"/><rect x=\"-4.3941\" y=\"24.5938\" width=\"10\" style=\"fill:none; stroke:black;\" height=\"10\"/><rect x=\"233.742\" y=\"185.4673\" width=\"10\" style=\"fill:rgb(139,201,103); stroke:none;\" height=\"10\"/><rect x=\"233.742\" y=\"185.4673\" width=\"10\" style=\"fill:none; stroke:black;\" height=\"10\"/><rect x=\"48.4815\" y=\"63.3291\" width=\"10\" style=\"fill:rgb(224,131,171); stroke:none;\" height=\"10\"/><rect x=\"48.4815\" y=\"63.3291\" width=\"10\" style=\"fill:none; stroke:black;\" height=\"10\"/><rect x=\"5.4501\" y=\"137.4296\" width=\"10\" style=\"fill:rgb(175,3,19); stroke:none;\" height=\"10\"/><rect x=\"5.4501\" y=\"137.4296\" width=\"10\" style=\"fill:none; stroke:black;\" height=\"10\"/><rect x=\"10.8321\" y=\"187.946\" width=\"10\" style=\"fill:rgb(138,47,125); stroke:none;\" height=\"10\"/><rect x=\"10.8321\" y=\"187.946\" width=\"10\" style=\"fill:none; stroke:black;\" height=\"10\"/><rect x=\"263.2788\" y=\"85.2698\" width=\"10\" style=\"fill:rgb(49,104,191); stroke:none;\" height=\"10\"/><rect x=\"263.2788\" y=\"85.2698\" width=\"10\" style=\"fill:none; stroke:black;\" height=\"10\"/><rect x=\"179.3511\" y=\"145.6112\" width=\"10\" style=\"fill:rgb(217,81,93); stroke:none;\" height=\"10\"/><rect x=\"179.3511\" y=\"145.6112\" width=\"10\" style=\"fill:none; stroke:black;\" height=\"10\"/><rect x=\"234.2744\" y=\"65.2135\" width=\"10\" style=\"fill:rgb(59,123,70); stroke:none;\" height=\"10\"/><rect x=\"234.2744\" y=\"65.2135\" width=\"10\" style=\"fill:none; stroke:black;\" height=\"10\"/><rect x=\"49.9442\" y=\"43.7822\" width=\"10\" style=\"fill:rgb(30,120,54); stroke:none;\" height=\"10\"/><rect x=\"49.9442\" y=\"43.7822\" width=\"10\" style=\"fill:none; stroke:black;\" height=\"10\"/><rect x=\"36.8995\" y=\"129.675\" width=\"10\" style=\"fill:rgb(117,94,172); stroke:none;\" height=\"10\"/><rect x=\"36.8995\" y=\"129.675\" width=\"10\" style=\"fill:none; stroke:black;\" height=\"10\"/></g></g></svg>"
      ],
      "text/plain": [
       "<IPython.core.display.SVG object>"
      ]
     },
     "metadata": {},
     "output_type": "display_data"
    }
   ],
   "source": [
    "%%py5drawsvg 300 200 -f /tmp/test.svg\n",
    "\n",
    "py5.background(240)\n",
    "py5.rect_mode(py5.CENTER)\n",
    "\n",
    "for i in range(100):\n",
    "    pick_random_fill()\n",
    "    py5.rect(py5.random(py5.width), py5.random(py5.height), 10, 10)"
   ]
  },
  {
   "cell_type": "markdown",
   "metadata": {},
   "source": [
    "## PDF Renderer\n",
    "\n",
    "Write to PDF files using `%%py5drawpdf`. Since Jupyter notebook does not support embedded PDF files, writing the output to a file is not optional."
   ]
  },
  {
   "cell_type": "code",
   "execution_count": 11,
   "metadata": {},
   "outputs": [
    {
     "name": "stdout",
     "output_type": "stream",
     "text": [
      "PDF written to /tmp/simple_example.pdf\n"
     ]
    }
   ],
   "source": [
    "%%py5drawpdf 300 200 /tmp/simple_example.pdf\n",
    "\n",
    "py5.background(240)\n",
    "py5.rect_mode(py5.CENTER)\n",
    "\n",
    "for i in range(100):\n",
    "    pick_random_fill()\n",
    "    py5.rect(py5.random(py5.width), py5.random(py5.height), 10, 10)"
   ]
  },
  {
   "cell_type": "markdown",
   "metadata": {},
   "source": [
    "## DXF Renderer\n",
    "\n",
    "Write 3D objects to DXF files with `%%py5drawdxf`. This probably won't be a popular choice, but maybe somebody will appreciate it."
   ]
  },
  {
   "cell_type": "code",
   "execution_count": 12,
   "metadata": {},
   "outputs": [
    {
     "name": "stdout",
     "output_type": "stream",
     "text": [
      "DXF written to /tmp/test.dxf\n"
     ]
    }
   ],
   "source": [
    "%%py5drawdxf 200 200 /tmp/test.dxf\n",
    "\n",
    "py5.translate(py5.width / 2, py5.height / 2)\n",
    "py5.rotate_x(0.4)\n",
    "py5.rotate_y(0.8)\n",
    "py5.box(80)"
   ]
  },
  {
   "cell_type": "code",
   "execution_count": 13,
   "metadata": {},
   "outputs": [
    {
     "name": "stdout",
     "output_type": "stream",
     "text": [
      "0\n",
      "SECTION\n",
      "2\n",
      "ENTITIES\n",
      "0\n",
      "3DFACE\n",
      "8\n",
      "0\n",
      "10\n",
      "-56.562515\n"
     ]
    }
   ],
   "source": [
    "!head /tmp/test.dxf"
   ]
  },
  {
   "cell_type": "markdown",
   "metadata": {},
   "source": [
    "## Variable Scope\n",
    "\n",
    "By default, new variables defined inside cell magics such as `%%py5draw` cannot be accessed elsewhere in the notebook.\n",
    "\n",
    "Consider the below example. It creates new variables `random_x` and `random_y` to store the location of the square."
   ]
  },
  {
   "cell_type": "code",
   "execution_count": 14,
   "metadata": {},
   "outputs": [
    {
     "data": {
      "image/png": "[encoded data removed]",
      "text/plain": [
       "<IPython.core.display.Image object>"
      ]
     },
     "metadata": {},
     "output_type": "display_data"
    }
   ],
   "source": [
    "%%py5draw 300 200\n",
    "\n",
    "py5.background(240)\n",
    "py5.rect_mode(py5.CENTER)\n",
    "\n",
    "random_x = py5.random(py5.width)\n",
    "random_y = py5.random(py5.height)\n",
    "py5.rect(random_x, random_y, 50, 50)"
   ]
  },
  {
   "cell_type": "markdown",
   "metadata": {},
   "source": [
    "The variables `random_x` and `random_y` are not accessible outside of that cell:"
   ]
  },
  {
   "cell_type": "code",
   "execution_count": 15,
   "metadata": {},
   "outputs": [
    {
     "ename": "NameError",
     "evalue": "name 'random_x' is not defined",
     "output_type": "error",
     "traceback": [
      "\u001b[0;31m---------------------------------------------------------------------------\u001b[0m",
      "\u001b[0;31mNameError\u001b[0m                                 Traceback (most recent call last)",
      "\u001b[0;32m<ipython-input-15-495f30123407>\u001b[0m in \u001b[0;36m<module>\u001b[0;34m\u001b[0m\n\u001b[0;32m----> 1\u001b[0;31m \u001b[0mrandom_x\u001b[0m\u001b[0;34m,\u001b[0m \u001b[0mrandom_y\u001b[0m\u001b[0;34m\u001b[0m\u001b[0;34m\u001b[0m\u001b[0m\n\u001b[0m",
      "\u001b[0;31mNameError\u001b[0m: name 'random_x' is not defined"
     ]
    }
   ],
   "source": [
    "random_x, random_y"
   ]
  },
  {
   "cell_type": "markdown",
   "metadata": {},
   "source": [
    "This behavior is by design.\n",
    "\n",
    "Consider that the py5 library is using the Processing library to create these graphics. Builtin Processing objects such as PImage or PGraphics are designed to be associated with one and only one Processing sketch. Py5 can let users write code to that subverts these assumptions, and as a result use Processing in a way that is completely different from how it was designed to be used. Sometimes this can be beneficial, but other times it will cause unexpected errors.\n",
    "\n",
    "If you understand the risks, or if you are working with non-Processing objects (as is the case for `random_x` and `random_y` in the above example), you have two options available to you.\n",
    "\n",
    "First, you can add the `global` keyword to your code:"
   ]
  },
  {
   "cell_type": "code",
   "execution_count": 16,
   "metadata": {},
   "outputs": [
    {
     "data": {
      "image/png": "[encoded data removed]",
      "text/plain": [
       "<IPython.core.display.Image object>"
      ]
     },
     "metadata": {},
     "output_type": "display_data"
    }
   ],
   "source": [
    "%%py5draw 300 200\n",
    "\n",
    "py5.background(240)\n",
    "py5.rect_mode(py5.CENTER)\n",
    "\n",
    "global random_x\n",
    "global random_y\n",
    "\n",
    "random_x = py5.random(py5.width)\n",
    "random_y = py5.random(py5.height)\n",
    "py5.rect(random_x, random_y, 50, 50)"
   ]
  },
  {
   "cell_type": "markdown",
   "metadata": {},
   "source": [
    "Now we can get the position of the square:"
   ]
  },
  {
   "cell_type": "code",
   "execution_count": 17,
   "metadata": {},
   "outputs": [
    {
     "data": {
      "text/plain": [
       "(42.21288248172549, 92.30640272658756)"
      ]
     },
     "execution_count": 17,
     "metadata": {},
     "output_type": "execute_result"
    }
   ],
   "source": [
    "random_x, random_y"
   ]
  },
  {
   "cell_type": "markdown",
   "metadata": {},
   "source": [
    "Alternatively, you can use the `--unsafe` parameter. This is a blanket statement that mixes the cell magic's namespace with the notebook namespace. As the name implies, you can cause problems for yourself by using this."
   ]
  },
  {
   "cell_type": "code",
   "execution_count": 18,
   "metadata": {},
   "outputs": [
    {
     "data": {
      "image/png": "[encoded data removed]",
      "text/plain": [
       "<IPython.core.display.Image object>"
      ]
     },
     "metadata": {},
     "output_type": "display_data"
    }
   ],
   "source": [
    "%%py5draw 300 200 --unsafe\n",
    "\n",
    "py5.background(240)\n",
    "py5.rect_mode(py5.CENTER)\n",
    "\n",
    "random_x = py5.random(py5.width)\n",
    "random_y = py5.random(py5.height)\n",
    "py5.rect(random_x, random_y, 50, 50)"
   ]
  },
  {
   "cell_type": "code",
   "execution_count": 19,
   "metadata": {},
   "outputs": [
    {
     "data": {
      "text/plain": [
       "(50.156882768420004, 51.335178010391914)"
      ]
     },
     "execution_count": 19,
     "metadata": {},
     "output_type": "execute_result"
    }
   ],
   "source": [
    "random_x, random_y"
   ]
  },
  {
   "cell_type": "markdown",
   "metadata": {},
   "source": [
    "# Animated Sketches\n",
    "\n",
    "Of course, there's more to py5 than static sketches. The py5 magics will support animated sketches as well.\n",
    "\n",
    "Note that starting your development process with static sketches is a great way to write py5 code. For example, you can quickly develop functions for parts of your creation and test them out with static sketches, and later use those same functions in your final animation.\n",
    "\n",
    "Let's create a simple example. The below `setup` function will tell py5 to create a 500 by 400 sketch window. It will set the background color and set the rect mode."
   ]
  },
  {
   "cell_type": "code",
   "execution_count": 20,
   "metadata": {},
   "outputs": [],
   "source": [
    "def setup():\n",
    "    py5.size(500, 400, py5.P2D)\n",
    "    py5.background(240)\n",
    "    py5.rect_mode(py5.CENTER)"
   ]
  },
  {
   "cell_type": "markdown",
   "metadata": {},
   "source": [
    "And finally, the `draw` function to draw squares at the current mouse position."
   ]
  },
  {
   "cell_type": "code",
   "execution_count": 21,
   "metadata": {},
   "outputs": [],
   "source": [
    "def draw():\n",
    "    pick_random_fill()\n",
    "    py5.rect(py5.mouse_x, py5.mouse_y, 10, 10)"
   ]
  },
  {
   "cell_type": "markdown",
   "metadata": {},
   "source": [
    "To run the sketch, use the [run_sketch()](link://slug/run_sketch) method. It will pull out the `setup` and `draw` functions from the notebook's namespace and put them together in a sketch."
   ]
  },
  {
   "cell_type": "code",
   "execution_count": 22,
   "metadata": {},
   "outputs": [
    {
     "name": "stdout",
     "output_type": "stream",
     "text": [
      "the sketch is running!\n"
     ]
    }
   ],
   "source": [
    "py5.run_sketch()\n",
    "print('the sketch is running!')"
   ]
  },
  {
   "cell_type": "markdown",
   "metadata": {},
   "source": [
    "A new window opens for the running sketch.\n",
    "\n",
    "By default, the [run_sketch()](link://slug/run_sketch) method returns right away, as illustrated by the `print` statement. This enables the notebook user to continue coding, including executing code that interacts with the sketch. The sketch continues to run in its own window."
   ]
  },
  {
   "cell_type": "markdown",
   "metadata": {},
   "source": [
    "## Screenshots\n",
    "\n",
    "The sketch window cannot be embedded into the notebook, but the [`py5_tools.screenshot()`](link://slug/screenshot) function can grab a single snapshot of the window."
   ]
  },
  {
   "cell_type": "code",
   "execution_count": 23,
   "metadata": {},
   "outputs": [
    {
     "data": {
      "image/png": "[encoded data removed]",
      "text/plain": [
       "<PIL.PngImagePlugin.PngImageFile image mode=RGB size=500x400 at 0x7FC2242AA520>"
      ]
     },
     "execution_count": 23,
     "metadata": {},
     "output_type": "execute_result"
    }
   ],
   "source": [
    "sketch_snapshot = py5_tools.screenshot()\n",
    "\n",
    "sketch_snapshot"
   ]
  },
  {
   "cell_type": "markdown",
   "metadata": {},
   "source": [
    "Observe that this function returns a frame of the sketch as a [PIL Image object](https://pillow.readthedocs.io/en/stable/index.html)."
   ]
  },
  {
   "cell_type": "code",
   "execution_count": 24,
   "metadata": {},
   "outputs": [
    {
     "name": "stdout",
     "output_type": "stream",
     "text": [
      "<class 'PIL.PngImagePlugin.PngImageFile'>\n"
     ]
    }
   ],
   "source": [
    "print(type(sketch_snapshot))"
   ]
  },
  {
   "cell_type": "markdown",
   "metadata": {},
   "source": [
    "The [`py5_tools.save_frames()`](link://slug/save_frames) function will save multiple frames to a directory.\n",
    "\n",
    "Of course you can also call [`save_frame()`](link://slug/save_frame) from the `draw` method, but that would require you to redefine the `draw` method with a few extra lines of code. This is more convenient. "
   ]
  },
  {
   "cell_type": "code",
   "execution_count": 25,
   "metadata": {},
   "outputs": [
    {
     "name": "stdout",
     "output_type": "stream",
     "text": [
      "saving frame 10/10\n"
     ]
    },
    {
     "data": {
      "text/plain": [
       "['/tmp/testframes/frame_0000.png',\n",
       " '/tmp/testframes/frame_0001.png',\n",
       " '/tmp/testframes/frame_0002.png',\n",
       " '/tmp/testframes/frame_0003.png',\n",
       " '/tmp/testframes/frame_0004.png',\n",
       " '/tmp/testframes/frame_0005.png',\n",
       " '/tmp/testframes/frame_0006.png',\n",
       " '/tmp/testframes/frame_0007.png',\n",
       " '/tmp/testframes/frame_0008.png',\n",
       " '/tmp/testframes/frame_0009.png']"
      ]
     },
     "execution_count": 25,
     "metadata": {},
     "output_type": "execute_result"
    }
   ],
   "source": [
    "py5_tools.save_frames('/tmp/testframes/', start=0, limit=10)"
   ]
  },
  {
   "cell_type": "markdown",
   "metadata": {},
   "source": [
    "Those frames can be assembled into a video file.\n",
    "\n",
    "The [`py5_tools.capture_frames()`](link://slug/capture_frames) function is similar to [`py5_tools.save_frames()`](link://slug/save_frames) except it returns the frames as a `list` of [PIL Image object](https://pillow.readthedocs.io/en/stable/index.html)s."
   ]
  },
  {
   "cell_type": "code",
   "execution_count": 26,
   "metadata": {},
   "outputs": [
    {
     "name": "stdout",
     "output_type": "stream",
     "text": [
      "collecting frame 10/10\n"
     ]
    }
   ],
   "source": [
    "frames = py5_tools.capture_frames(10, period=1)"
   ]
  },
  {
   "cell_type": "code",
   "execution_count": 27,
   "metadata": {},
   "outputs": [
    {
     "data": {
      "image/png": "[encoded data removed]",
      "text/plain": [
       "<PIL.Image.Image image mode=RGB size=500x400 at 0x7FC2A847BDC0>"
      ]
     },
     "execution_count": 27,
     "metadata": {},
     "output_type": "execute_result"
    }
   ],
   "source": [
    "frames[0]"
   ]
  },
  {
   "cell_type": "code",
   "execution_count": 28,
   "metadata": {},
   "outputs": [
    {
     "data": {
      "image/png": "[encoded data removed]",
      "text/plain": [
       "<PIL.Image.Image image mode=RGB size=500x400 at 0x7FC18FFFC550>"
      ]
     },
     "execution_count": 28,
     "metadata": {},
     "output_type": "execute_result"
    }
   ],
   "source": [
    "frames[-1]"
   ]
  },
  {
   "cell_type": "markdown",
   "metadata": {},
   "source": [
    "## Animated GIFs\n",
    "\n",
    "The last magic creates animated GIFs from your sketch. Everybody loves animated GIFs."
   ]
  },
  {
   "cell_type": "code",
   "execution_count": 29,
   "metadata": {},
   "outputs": [
    {
     "name": "stdout",
     "output_type": "stream",
     "text": [
      "collecting frame 10/10\n"
     ]
    },
    {
     "data": {
      "text/plain": [
       "'images/jupyter_notebooks/simple_example.gif'"
      ]
     },
     "execution_count": 29,
     "metadata": {},
     "output_type": "execute_result"
    }
   ],
   "source": [
    "py5_tools.animated_gif('images/jupyter_notebooks/simple_example.gif', 10, 1, 0.5)"
   ]
  },
  {
   "cell_type": "markdown",
   "metadata": {},
   "source": [
    "The animated GIF can then be embedded in a notebook markdown cell.\n",
    "\n",
    "![simple_example](images/jupyter_notebooks/simple_example.gif)"
   ]
  },
  {
   "cell_type": "markdown",
   "metadata": {},
   "source": [
    "## Print Statements\n",
    "\n",
    "Question: if the user's `draw` method contains `print` statements, where does the output appear?\n",
    "\n",
    "This would be a simple question if the [run_sketch()](link://slug/run_sketch) method did not return right away (which you could achieve by passing the parameter `block=False`). The print statements would always go into the output of the cell with the call to that method. When the sketch exits, the output for that cell would be complete.\n",
    "\n",
    "By default, the [run_sketch()](link://slug/run_sketch) method does return right away when called from a Jupyter notebook. The print statements will still go to the output of the cell with the call to that method, but when you move on to the next cell, the print statements will start to appear there instead. Why? This has to do with the inner workings of Jupyter notebooks. It gets weirder if you delete the cell that is currently receiving the output. If that happens, the print output will disappear completely.\n",
    "\n",
    "This is less than perfect, and might frustrate users who like to debug their code with print statements. Instead, use the  [println()](link://slug/println) method. It will route all print statements to the output of the cell that made the call to [run_sketch()](link://slug/run_sketch). The functionality of [println()](link://slug/println) can be customized with [set_println_stream()](link://slug/set_println_stream).\n",
    "\n",
    "If instead you want to send messages to the Jupyter notebook log, you can always do so like this:"
   ]
  },
  {
   "cell_type": "code",
   "execution_count": 30,
   "metadata": {},
   "outputs": [],
   "source": [
    "shell = get_ipython()\n",
    "shell.log.critical('test message')"
   ]
  },
  {
   "cell_type": "markdown",
   "metadata": {},
   "source": [
    "In the terminal I used to run `jupyter notebook`, I see this message:\n",
    "\n",
    "```\n",
    "[IPKernelApp] CRITICAL | test message\n",
    "```\n",
    "\n",
    "This is a more reliable debugging technique."
   ]
  }
 ],
 "metadata": {
  "kernelspec": {
   "display_name": "Python 3",
   "language": "python",
   "name": "python3"
  },
  "language_info": {
   "codemirror_mode": {
    "name": "ipython",
    "version": 3
   },
   "file_extension": ".py",
   "mimetype": "text/x-python",
   "name": "python",
   "nbconvert_exporter": "python",
   "pygments_lexer": "ipython3",
   "version": "3.8.10"
  },
  "nikola": {
   "date": "2021-01-10 16:12:41 EST",
   "filters": "python scripts/adjust_notebook_img_link.py '%s'",
   "slug": "jupyter-notebooks",
   "title": "Jupyter Notebooks"
  },
  "widgets": {
   "application/vnd.jupyter.widget-state+json": {
    "state": {},
    "version_major": 2,
    "version_minor": 0
   }
  }
 },
 "nbformat": 4,
 "nbformat_minor": 4
}
