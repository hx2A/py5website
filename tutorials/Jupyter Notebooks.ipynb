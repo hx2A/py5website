{
 "cells": [
  {
   "cell_type": "markdown",
   "metadata": {},
   "source": [
    "The py5 library is designed to work well with Jupyter tools, including Jupyter notebook. There are included IPython magics that are useful for supporting your development and documentation efforts as well as your creative endeavors. Used well, they can greatly enhance your programming workflow.\n",
    "\n",
    "To use py5 in a notebook, first import the library:"
   ]
  },
  {
   "cell_type": "code",
   "execution_count": 1,
   "metadata": {},
   "outputs": [],
   "source": [
    "import py5"
   ]
  },
  {
   "cell_type": "markdown",
   "metadata": {},
   "source": [
    "# Getting Help\n",
    "\n",
    "Before continuing, it is worth pointing out that you can access the docstrings for any py5 functions by appending a `?` to the end of the function, or with the builtin `help` function.\n",
    "\n",
    "Using the `?` which something like `py5.rect?` temporarily displays the documentation at the bottom of the notebook window. The builtin `help` function puts the result in the notebook cell."
   ]
  },
  {
   "cell_type": "code",
   "execution_count": 2,
   "metadata": {},
   "outputs": [
    {
     "name": "stdout",
     "output_type": "stream",
     "text": [
      "Help on function rect in module py5:\n",
      "\n",
      "rect(*args)\n",
      "    Draws a rectangle to the screen.\n",
      "    \n",
      "    Underlying Java method: PApplet.rect\n",
      "    \n",
      "    Methods\n",
      "    -------\n",
      "    \n",
      "    You can use any of the following signatures:\n",
      "    \n",
      "     * rect(a: float, b: float, c: float, d: float, /) -> None\n",
      "     * rect(a: float, b: float, c: float, d: float, r: float, /) -> None\n",
      "     * rect(a: float, b: float, c: float, d: float, tl: float, tr: float, br: float, bl: float, /) -> None\n",
      "    \n",
      "    Parameters\n",
      "    ----------\n",
      "    \n",
      "    a: float\n",
      "        x-coordinate of the rectangle by default\n",
      "    \n",
      "    b: float\n",
      "        y-coordinate of the rectangle by default\n",
      "    \n",
      "    bl: float\n",
      "        radius for bottom-left corner\n",
      "    \n",
      "    br: float\n",
      "        radius for bottom-right corner\n",
      "    \n",
      "    c: float\n",
      "        width of the rectangle by default\n",
      "    \n",
      "    d: float\n",
      "        height of the rectangle by default\n",
      "    \n",
      "    r: float\n",
      "        radii for all four corners\n",
      "    \n",
      "    tl: float\n",
      "        radius for top-left corner\n",
      "    \n",
      "    tr: float\n",
      "        radius for top-right corner\n",
      "    \n",
      "    Notes\n",
      "    -----\n",
      "    \n",
      "    Draws a rectangle to the screen. A rectangle is a four-sided shape with every\n",
      "    angle at ninety degrees. By default, the first two parameters set the location\n",
      "    of the upper-left corner, the third sets the width, and the fourth sets the\n",
      "    height. The way these parameters are interpreted, however, may be changed with\n",
      "    the ``rect_mode()`` function.\n",
      "    \n",
      "    To draw a rounded rectangle, add a fifth parameter, which is used as the radius\n",
      "    value for all four corners.\n",
      "    \n",
      "    To use a different radius value for each corner, include eight parameters. When\n",
      "    using eight parameters, the latter four set the radius of the arc at each corner\n",
      "    separately, starting with the top-left corner and moving clockwise around the\n",
      "    rectangle.\n",
      "\n"
     ]
    }
   ],
   "source": [
    "help(py5.rect)"
   ]
  },
  {
   "cell_type": "markdown",
   "metadata": {},
   "source": [
    "Pause to take a moment to appreciate that documentation, with its proper type signatures and explicit variable types. You'll also notice the content is analogous what is in py5's [rect()](link://slug/rect) reference documentation. Producing thorough and coordinated py5 docstrings and reference documentation like this took an enormous amount of work.\n",
    "\n",
    "You'll notice that all the usual Jupyter niceties such as tab completion work for py5. There are also Python typehints for all py5 objects."
   ]
  },
  {
   "cell_type": "markdown",
   "metadata": {},
   "source": [
    "# Load IPython Magics\n",
    "\n",
    "Next, load the py5 magics:"
   ]
  },
  {
   "cell_type": "code",
   "execution_count": 3,
   "metadata": {},
   "outputs": [],
   "source": [
    "%load_ext py5"
   ]
  },
  {
   "cell_type": "markdown",
   "metadata": {},
   "source": [
    "These \"magic\" commands are like extra functionality added to what Python and Jupyter notebooks can already do.\n",
    "\n",
    "The py5 magics all start with \"py5\".\n",
    "\n",
    "The line magics are:\n",
    "\n",
    "* %py5animatedgif\n",
    "* %py5captureframes\n",
    "* %py5saveframes\n",
    "* %py5screenshot\n",
    "\n",
    "and the cell magics are:\n",
    "\n",
    "* %%py5draw\n",
    "* %%py5drawdxf\n",
    "* %%py5drawpdf\n",
    "* %%py5drawsvg\n",
    "\n",
    "As before, documentation for each is available by appending a `?`, such as when you type `%%py5draw?` in an empty cell. The builtin `help` function does not work with IPython magics.\n",
    "\n",
    "See below for demonstrations of what each does."
   ]
  },
  {
   "cell_type": "markdown",
   "metadata": {},
   "source": [
    "# Running py5 on Mac Computers\n",
    "\n",
    "There are several known [issues running py5 on Mac computers](/tutorials/mac-users/). If you use a Mac, you should read about the Mac issues before continuing.\n",
    "\n",
    "The below Jupyter magic is necessary to use py5 on Mac computers:"
   ]
  },
  {
   "cell_type": "code",
   "execution_count": null,
   "metadata": {},
   "outputs": [],
   "source": [
    "%gui osx"
   ]
  },
  {
   "cell_type": "markdown",
   "metadata": {},
   "source": [
    "# Static Sketches\n",
    "\n",
    "The below example creates a static image with some simple shapes.\n",
    "\n",
    "The first line in the cell, `%%py5draw 300 200`, is not Python code. Instead, it is a command to Jupyter itself, instructing it to send the rest of the cell's contents to a special py5 draw function.\n",
    "\n",
    "Observe that there are no defined `setup` or `draw` functions."
   ]
  },
  {
   "cell_type": "code",
   "execution_count": 4,
   "metadata": {},
   "outputs": [
    {
     "data": {
      "image/png": "[encoded data removed]",
      "text/plain": [
       "<IPython.core.display.Image object>"
      ]
     },
     "metadata": {},
     "output_type": "display_data"
    }
   ],
   "source": [
    "%%py5draw 300 200\n",
    "\n",
    "# make the background light gray\n",
    "py5.background(240)\n",
    "\n",
    "# draw a red square\n",
    "py5.fill(255, 0, 0)\n",
    "py5.rect_mode(py5.CENTER)\n",
    "py5.rect(170, 80, 100, 100)\n",
    "\n",
    "# add a thick green line\n",
    "py5.stroke(0, 255, 0)\n",
    "py5.stroke_weight(15)\n",
    "py5.line(40, 30, 220, 180)"
   ]
  },
  {
   "cell_type": "markdown",
   "metadata": {},
   "source": [
    "The code can access variables and functions defined in other non-magic notebook cells. This is especially useful when the code leverages py5 functionality.\n",
    "\n",
    "For example, the below function sets the fill color to a random color."
   ]
  },
  {
   "cell_type": "code",
   "execution_count": 5,
   "metadata": {},
   "outputs": [],
   "source": [
    "def pick_random_fill():\n",
    "    py5.fill(py5.random(255), py5.random(255), py5.random(255))"
   ]
  },
  {
   "cell_type": "markdown",
   "metadata": {},
   "source": [
    "The below example uses `pick_random_fill` to draw randomly colored rectangles. This example is a bit contrived, but you do see how the code below can call a function defined elsewhere."
   ]
  },
  {
   "cell_type": "code",
   "execution_count": 6,
   "metadata": {},
   "outputs": [
    {
     "data": {
      "image/png": "[encoded data removed]",
      "text/plain": [
       "<IPython.core.display.Image object>"
      ]
     },
     "metadata": {},
     "output_type": "display_data"
    }
   ],
   "source": [
    "%%py5draw 300 200\n",
    "\n",
    "py5.background(240)\n",
    "py5.rect_mode(py5.CENTER)\n",
    "\n",
    "for i in range(100):\n",
    "    pick_random_fill()\n",
    "    py5.rect(py5.random(py5.width), py5.random(py5.height), 10, 10)"
   ]
  },
  {
   "cell_type": "markdown",
   "metadata": {},
   "source": [
    "The `pick_random_fill` function can be reused again elsewhere in this notebook.\n",
    "\n",
    "By default, any new functions and variables defined in that `%%py5draw` cell are not available outside of the cell. However, you can explicitly change this. See below for further discussion."
   ]
  },
  {
   "cell_type": "markdown",
   "metadata": {},
   "source": [
    "## Saving to a File\n",
    "\n",
    "If you like you can save the generated image to a file with the `-f` parameter, like so:"
   ]
  },
  {
   "cell_type": "code",
   "execution_count": 7,
   "metadata": {},
   "outputs": [
    {
     "name": "stdout",
     "output_type": "stream",
     "text": [
      "PNG file written to images/jupyter_notebooks/simple_example.png\n"
     ]
    },
    {
     "data": {
      "image/png": "[encoded data removed]",
      "text/plain": [
       "<IPython.core.display.Image object>"
      ]
     },
     "metadata": {},
     "output_type": "display_data"
    }
   ],
   "source": [
    "%%py5draw 300 200 -f images/jupyter_notebooks/simple_example.png\n",
    "\n",
    "py5.background(240)\n",
    "py5.rect_mode(py5.CENTER)\n",
    "\n",
    "for i in range(100):\n",
    "    pick_random_fill()\n",
    "    py5.rect(py5.random(py5.width), py5.random(py5.height), 10, 10)"
   ]
  },
  {
   "cell_type": "markdown",
   "metadata": {},
   "source": [
    "Now there's an image on my computer located at `images/jupyter_notebooks/simple_example.png`. I can embed that in this notebook using markdown.\n",
    "\n",
    "![asdf](images/jupyter_notebooks/simple_example.png)"
   ]
  },
  {
   "cell_type": "markdown",
   "metadata": {},
   "source": [
    "## OpenGL Renderers\n",
    "\n",
    "You can also use the OpenGL renderers with the `-r` parameter, like so."
   ]
  },
  {
   "cell_type": "code",
   "execution_count": 8,
   "metadata": {},
   "outputs": [
    {
     "data": {
      "image/png": "[encoded data removed]",
      "text/plain": [
       "<IPython.core.display.Image object>"
      ]
     },
     "metadata": {},
     "output_type": "display_data"
    }
   ],
   "source": [
    "%%py5draw 300 200 -r P2D\n",
    "\n",
    "py5.background(240)\n",
    "py5.rect_mode(py5.CENTER)\n",
    "\n",
    "for i in range(100):\n",
    "    pick_random_fill()\n",
    "    py5.rect(py5.random(py5.width), py5.random(py5.height), 10, 10)    "
   ]
  },
  {
   "cell_type": "markdown",
   "metadata": {},
   "source": [
    "When that cell runs, a py5 window is quickly opened and closed. For whatever reason, the Processing's OpenGL renderers cannot draw to an invisible window (but I would be delighted to be proven wrong about that).\n",
    "\n",
    "The previous `%%py5draw` examples in this notebook used a special `HIDDEN` renderer based on the default `JAVA2D` renderer that does not need to open a window. That `HIDDEN` renderer was created just for this purpose. Despite my best efforts, I couldn't create similar renderers based on the OpenGL renderers `P2D` and `P3D`.\n",
    "\n",
    "The 3D renderer also works:"
   ]
  },
  {
   "cell_type": "code",
   "execution_count": 9,
   "metadata": {},
   "outputs": [
    {
     "data": {
      "image/png": "[encoded data removed]",
      "text/plain": [
       "<IPython.core.display.Image object>"
      ]
     },
     "metadata": {},
     "output_type": "display_data"
    }
   ],
   "source": [
    "%%py5draw 300 300 -r P3D\n",
    "\n",
    "py5.background(240)\n",
    "\n",
    "N = 10\n",
    "\n",
    "for i in range(N):\n",
    "    py5.push_matrix()\n",
    "    pick_random_fill()\n",
    "    py5.translate(i * py5.width / N, i * py5.width / N, i * 20 - 200)\n",
    "    py5.box(40)\n",
    "    py5.pop_matrix()"
   ]
  },
  {
   "cell_type": "markdown",
   "metadata": {},
   "source": [
    "## SVG Renderer\n",
    "\n",
    "To create SVG images, use the `%%py5drawsvg` magic.\n",
    "\n",
    "As before, the result can be saved to a file with the `-f` parameter."
   ]
  },
  {
   "cell_type": "code",
   "execution_count": 10,
   "metadata": {},
   "outputs": [
    {
     "name": "stdout",
     "output_type": "stream",
     "text": [
      "SVG drawing written to /tmp/test.svg\n"
     ]
    },
    {
     "data": {
      "image/svg+xml": [
       "<svg xmlns:xlink=\"http://www.w3.org/1999/xlink\" xmlns=\"http://www.w3.org/2000/svg\" style=\"fill-opacity:1; color-rendering:auto; color-interpolation:auto; text-rendering:auto; stroke:black; stroke-linecap:square; stroke-miterlimit:10; shape-rendering:auto; stroke-opacity:1; fill:black; stroke-dasharray:none; font-weight:normal; stroke-width:1; font-family:'Dialog'; font-style:normal; stroke-linejoin:miter; font-size:12px; stroke-dashoffset:0; image-rendering:auto;\" width=\"300\" height=\"200\"><!--Generated by the Batik Graphics2D SVG Generator--><defs id=\"genericDefs\"/><g><g style=\"stroke-linecap:round; fill:rgb(204,204,204); stroke:rgb(204,204,204);\"><rect x=\"0\" width=\"300\" height=\"200\" y=\"0\" style=\"stroke:none;\"/></g><g style=\"stroke-linecap:round; fill:rgb(240,240,240); stroke:rgb(240,240,240);\"><rect x=\"0\" width=\"300\" height=\"200\" y=\"0\" style=\"stroke:none;\"/></g><g style=\"stroke-linecap:round; fill:rgb(173,116,35); stroke:rgb(173,116,35);\"><rect x=\"24.914\" width=\"10\" height=\"10\" y=\"52.5472\" style=\"stroke:none;\"/><rect x=\"24.914\" y=\"52.5472\" width=\"10\" style=\"fill:none; stroke:black;\" height=\"10\"/><rect x=\"105.6717\" y=\"89.4939\" width=\"10\" style=\"fill:rgb(209,104,15); stroke:none;\" height=\"10\"/><rect x=\"105.6717\" y=\"89.4939\" width=\"10\" style=\"fill:none; stroke:black;\" height=\"10\"/><rect x=\"162.9054\" y=\"109.6869\" width=\"10\" style=\"fill:rgb(222,155,145); stroke:none;\" height=\"10\"/><rect x=\"162.9054\" y=\"109.6869\" width=\"10\" style=\"fill:none; stroke:black;\" height=\"10\"/><rect x=\"41.1408\" y=\"188.4505\" width=\"10\" style=\"fill:rgb(248,45,236); stroke:none;\" height=\"10\"/><rect x=\"41.1408\" y=\"188.4505\" width=\"10\" style=\"fill:none; stroke:black;\" height=\"10\"/><rect x=\"43.6022\" y=\"18.4918\" width=\"10\" style=\"fill:rgb(245,161,237); stroke:none;\" height=\"10\"/><rect x=\"43.6022\" y=\"18.4918\" width=\"10\" style=\"fill:none; stroke:black;\" height=\"10\"/><rect x=\"111.7026\" y=\"135.8003\" width=\"10\" style=\"fill:rgb(179,154,184); stroke:none;\" height=\"10\"/><rect x=\"111.7026\" y=\"135.8003\" width=\"10\" style=\"fill:none; stroke:black;\" height=\"10\"/><rect x=\"71.6799\" y=\"171.4697\" width=\"10\" style=\"fill:rgb(64,32,146); stroke:none;\" height=\"10\"/><rect x=\"71.6799\" y=\"171.4697\" width=\"10\" style=\"fill:none; stroke:black;\" height=\"10\"/><rect x=\"44.8489\" y=\"27.7664\" width=\"10\" style=\"fill:rgb(220,92,58); stroke:none;\" height=\"10\"/><rect x=\"44.8489\" y=\"27.7664\" width=\"10\" style=\"fill:none; stroke:black;\" height=\"10\"/><rect x=\"116.895\" y=\"192.3721\" width=\"10\" style=\"fill:rgb(105,184,217); stroke:none;\" height=\"10\"/><rect x=\"116.895\" y=\"192.3721\" width=\"10\" style=\"fill:none; stroke:black;\" height=\"10\"/><rect x=\"145.7233\" y=\"83.6124\" width=\"10\" style=\"fill:rgb(12,126,182); stroke:none;\" height=\"10\"/><rect x=\"145.7233\" y=\"83.6124\" width=\"10\" style=\"fill:none; stroke:black;\" height=\"10\"/><rect x=\"91.2494\" y=\"153.1924\" width=\"10\" style=\"fill:rgb(15,42,141); stroke:none;\" height=\"10\"/><rect x=\"91.2494\" y=\"153.1924\" width=\"10\" style=\"fill:none; stroke:black;\" height=\"10\"/><rect x=\"-1.7583\" y=\"91.1691\" width=\"10\" style=\"fill:rgb(131,45,143); stroke:none;\" height=\"10\"/><rect x=\"-1.7583\" y=\"91.1691\" width=\"10\" style=\"fill:none; stroke:black;\" height=\"10\"/><rect x=\"91.7249\" y=\"171.4482\" width=\"10\" style=\"fill:rgb(35,253,132); stroke:none;\" height=\"10\"/><rect x=\"91.7249\" y=\"171.4482\" width=\"10\" style=\"fill:none; stroke:black;\" height=\"10\"/><rect x=\"123.4347\" y=\"2.3203\" width=\"10\" style=\"fill:rgb(248,83,233); stroke:none;\" height=\"10\"/><rect x=\"123.4347\" y=\"2.3203\" width=\"10\" style=\"fill:none; stroke:black;\" height=\"10\"/><rect x=\"248.4104\" y=\"80.1228\" width=\"10\" style=\"fill:rgb(17,224,159); stroke:none;\" height=\"10\"/><rect x=\"248.4104\" y=\"80.1228\" width=\"10\" style=\"fill:none; stroke:black;\" height=\"10\"/><rect x=\"294.4565\" y=\"133.4887\" width=\"10\" style=\"fill:rgb(38,45,176); stroke:none;\" height=\"10\"/><rect x=\"294.4565\" y=\"133.4887\" width=\"10\" style=\"fill:none; stroke:black;\" height=\"10\"/><rect x=\"238.265\" y=\"180.9488\" width=\"10\" style=\"fill:rgb(64,65,253); stroke:none;\" height=\"10\"/><rect x=\"238.265\" y=\"180.9488\" width=\"10\" style=\"fill:none; stroke:black;\" height=\"10\"/><rect x=\"17.1507\" y=\"28.6491\" width=\"10\" style=\"fill:rgb(4,204,91); stroke:none;\" height=\"10\"/><rect x=\"17.1507\" y=\"28.6491\" width=\"10\" style=\"fill:none; stroke:black;\" height=\"10\"/><rect x=\"156.2919\" y=\"50.2413\" width=\"10\" style=\"fill:rgb(194,245,167); stroke:none;\" height=\"10\"/><rect x=\"156.2919\" y=\"50.2413\" width=\"10\" style=\"fill:none; stroke:black;\" height=\"10\"/><rect x=\"136.0961\" y=\"187.4115\" width=\"10\" style=\"fill:rgb(224,29,105); stroke:none;\" height=\"10\"/><rect x=\"136.0961\" y=\"187.4115\" width=\"10\" style=\"fill:none; stroke:black;\" height=\"10\"/><rect x=\"220.6906\" y=\"48.1185\" width=\"10\" style=\"fill:rgb(105,220,158); stroke:none;\" height=\"10\"/><rect x=\"220.6906\" y=\"48.1185\" width=\"10\" style=\"fill:none; stroke:black;\" height=\"10\"/><rect x=\"210.0915\" y=\"57.8413\" width=\"10\" style=\"fill:rgb(83,159,146); stroke:none;\" height=\"10\"/><rect x=\"210.0915\" y=\"57.8413\" width=\"10\" style=\"fill:none; stroke:black;\" height=\"10\"/><rect x=\"36.8114\" y=\"38.9508\" width=\"10\" style=\"fill:rgb(24,159,97); stroke:none;\" height=\"10\"/><rect x=\"36.8114\" y=\"38.9508\" width=\"10\" style=\"fill:none; stroke:black;\" height=\"10\"/><rect x=\"210.6908\" y=\"120.8661\" width=\"10\" style=\"fill:rgb(179,130,154); stroke:none;\" height=\"10\"/><rect x=\"210.6908\" y=\"120.8661\" width=\"10\" style=\"fill:none; stroke:black;\" height=\"10\"/><rect x=\"18.1882\" y=\"108.7513\" width=\"10\" style=\"fill:rgb(100,223,153); stroke:none;\" height=\"10\"/><rect x=\"18.1882\" y=\"108.7513\" width=\"10\" style=\"fill:none; stroke:black;\" height=\"10\"/><rect x=\"33.6762\" y=\"154.05\" width=\"10\" style=\"fill:rgb(60,77,142); stroke:none;\" height=\"10\"/><rect x=\"33.6762\" y=\"154.05\" width=\"10\" style=\"fill:none; stroke:black;\" height=\"10\"/><rect x=\"191.5083\" y=\"-4.4204\" width=\"10\" style=\"fill:rgb(212,222,226); stroke:none;\" height=\"10\"/><rect x=\"191.5083\" y=\"-4.4204\" width=\"10\" style=\"fill:none; stroke:black;\" height=\"10\"/><rect x=\"91.0327\" y=\"125.8264\" width=\"10\" style=\"fill:rgb(159,120,41); stroke:none;\" height=\"10\"/><rect x=\"91.0327\" y=\"125.8264\" width=\"10\" style=\"fill:none; stroke:black;\" height=\"10\"/><rect x=\"186.9471\" y=\"120.3863\" width=\"10\" style=\"fill:rgb(56,55,102); stroke:none;\" height=\"10\"/><rect x=\"186.9471\" y=\"120.3863\" width=\"10\" style=\"fill:none; stroke:black;\" height=\"10\"/><rect x=\"292.8702\" y=\"139.5121\" width=\"10\" style=\"fill:rgb(69,47,212); stroke:none;\" height=\"10\"/><rect x=\"292.8702\" y=\"139.5121\" width=\"10\" style=\"fill:none; stroke:black;\" height=\"10\"/><rect x=\"64.0708\" y=\"63.2352\" width=\"10\" style=\"fill:rgb(190,190,1); stroke:none;\" height=\"10\"/><rect x=\"64.0708\" y=\"63.2352\" width=\"10\" style=\"fill:none; stroke:black;\" height=\"10\"/><rect x=\"43.128\" y=\"50.4186\" width=\"10\" style=\"fill:rgb(219,128,148); stroke:none;\" height=\"10\"/><rect x=\"43.128\" y=\"50.4186\" width=\"10\" style=\"fill:none; stroke:black;\" height=\"10\"/><rect x=\"282.7937\" y=\"41.9457\" width=\"10\" style=\"fill:rgb(125,201,196); stroke:none;\" height=\"10\"/><rect x=\"282.7937\" y=\"41.9457\" width=\"10\" style=\"fill:none; stroke:black;\" height=\"10\"/><rect x=\"17.5735\" y=\"178.0246\" width=\"10\" style=\"fill:rgb(201,81,204); stroke:none;\" height=\"10\"/><rect x=\"17.5735\" y=\"178.0246\" width=\"10\" style=\"fill:none; stroke:black;\" height=\"10\"/><rect x=\"207.508\" y=\"116.3561\" width=\"10\" style=\"fill:rgb(100,251,212); stroke:none;\" height=\"10\"/><rect x=\"207.508\" y=\"116.3561\" width=\"10\" style=\"fill:none; stroke:black;\" height=\"10\"/><rect x=\"190.4864\" y=\"52.4885\" width=\"10\" style=\"fill:rgb(39,71,129); stroke:none;\" height=\"10\"/><rect x=\"190.4864\" y=\"52.4885\" width=\"10\" style=\"fill:none; stroke:black;\" height=\"10\"/><rect x=\"77.135\" y=\"82.6202\" width=\"10\" style=\"fill:rgb(11,15,211); stroke:none;\" height=\"10\"/><rect x=\"77.135\" y=\"82.6202\" width=\"10\" style=\"fill:none; stroke:black;\" height=\"10\"/><rect x=\"268.5128\" y=\"133.0766\" width=\"10\" style=\"fill:rgb(145,86,209); stroke:none;\" height=\"10\"/><rect x=\"268.5128\" y=\"133.0766\" width=\"10\" style=\"fill:none; stroke:black;\" height=\"10\"/><rect x=\"35.8788\" y=\"93.7839\" width=\"10\" style=\"fill:rgb(130,168,180); stroke:none;\" height=\"10\"/><rect x=\"35.8788\" y=\"93.7839\" width=\"10\" style=\"fill:none; stroke:black;\" height=\"10\"/><rect x=\"32.9579\" y=\"160.6188\" width=\"10\" style=\"fill:rgb(69,18,195); stroke:none;\" height=\"10\"/><rect x=\"32.9579\" y=\"160.6188\" width=\"10\" style=\"fill:none; stroke:black;\" height=\"10\"/><rect x=\"88.3007\" y=\"89.4341\" width=\"10\" style=\"fill:rgb(131,142,64); stroke:none;\" height=\"10\"/><rect x=\"88.3007\" y=\"89.4341\" width=\"10\" style=\"fill:none; stroke:black;\" height=\"10\"/><rect x=\"98.145\" y=\"37.6768\" width=\"10\" style=\"fill:rgb(228,83,231); stroke:none;\" height=\"10\"/><rect x=\"98.145\" y=\"37.6768\" width=\"10\" style=\"fill:none; stroke:black;\" height=\"10\"/><rect x=\"177.5238\" y=\"177.6465\" width=\"10\" style=\"fill:rgb(125,173,184); stroke:none;\" height=\"10\"/><rect x=\"177.5238\" y=\"177.6465\" width=\"10\" style=\"fill:none; stroke:black;\" height=\"10\"/><rect x=\"103.0694\" y=\"30.7601\" width=\"10\" style=\"fill:rgb(161,192,49); stroke:none;\" height=\"10\"/><rect x=\"103.0694\" y=\"30.7601\" width=\"10\" style=\"fill:none; stroke:black;\" height=\"10\"/><rect x=\"124.0098\" y=\"126.0824\" width=\"10\" style=\"fill:rgb(221,0,208); stroke:none;\" height=\"10\"/><rect x=\"124.0098\" y=\"126.0824\" width=\"10\" style=\"fill:none; stroke:black;\" height=\"10\"/><rect x=\"127.343\" y=\"56.3087\" width=\"10\" style=\"fill:rgb(235,211,139); stroke:none;\" height=\"10\"/><rect x=\"127.343\" y=\"56.3087\" width=\"10\" style=\"fill:none; stroke:black;\" height=\"10\"/><rect x=\"268.5998\" y=\"47.895\" width=\"10\" style=\"fill:rgb(191,4,178); stroke:none;\" height=\"10\"/><rect x=\"268.5998\" y=\"47.895\" width=\"10\" style=\"fill:none; stroke:black;\" height=\"10\"/><rect x=\"108.0785\" y=\"31.2038\" width=\"10\" style=\"fill:rgb(76,251,69); stroke:none;\" height=\"10\"/><rect x=\"108.0785\" y=\"31.2038\" width=\"10\" style=\"fill:none; stroke:black;\" height=\"10\"/><rect x=\"51.4304\" y=\"76.6902\" width=\"10\" style=\"fill:rgb(66,184,45); stroke:none;\" height=\"10\"/><rect x=\"51.4304\" y=\"76.6902\" width=\"10\" style=\"fill:none; stroke:black;\" height=\"10\"/><rect x=\"13.798\" y=\"96.8384\" width=\"10\" style=\"fill:rgb(210,198,201); stroke:none;\" height=\"10\"/><rect x=\"13.798\" y=\"96.8384\" width=\"10\" style=\"fill:none; stroke:black;\" height=\"10\"/><rect x=\"114.5831\" y=\"54.3831\" width=\"10\" style=\"fill:rgb(161,160,76); stroke:none;\" height=\"10\"/><rect x=\"114.5831\" y=\"54.3831\" width=\"10\" style=\"fill:none; stroke:black;\" height=\"10\"/><rect x=\"57.7263\" y=\"165.7245\" width=\"10\" style=\"fill:rgb(193,149,25); stroke:none;\" height=\"10\"/><rect x=\"57.7263\" y=\"165.7245\" width=\"10\" style=\"fill:none; stroke:black;\" height=\"10\"/><rect x=\"284.8014\" y=\"95.3412\" width=\"10\" style=\"fill:rgb(82,13,179); stroke:none;\" height=\"10\"/><rect x=\"284.8014\" y=\"95.3412\" width=\"10\" style=\"fill:none; stroke:black;\" height=\"10\"/><rect x=\"71.6199\" y=\"178.9721\" width=\"10\" style=\"fill:rgb(35,34,224); stroke:none;\" height=\"10\"/><rect x=\"71.6199\" y=\"178.9721\" width=\"10\" style=\"fill:none; stroke:black;\" height=\"10\"/><rect x=\"142.663\" y=\"132.6252\" width=\"10\" style=\"fill:rgb(147,162,182); stroke:none;\" height=\"10\"/><rect x=\"142.663\" y=\"132.6252\" width=\"10\" style=\"fill:none; stroke:black;\" height=\"10\"/><rect x=\"34.5052\" y=\"173.4584\" width=\"10\" style=\"fill:rgb(242,54,205); stroke:none;\" height=\"10\"/><rect x=\"34.5052\" y=\"173.4584\" width=\"10\" style=\"fill:none; stroke:black;\" height=\"10\"/><rect x=\"63.7311\" y=\"29.0728\" width=\"10\" style=\"fill:rgb(206,79,224); stroke:none;\" height=\"10\"/><rect x=\"63.7311\" y=\"29.0728\" width=\"10\" style=\"fill:none; stroke:black;\" height=\"10\"/><rect x=\"67.0352\" y=\"182.9401\" width=\"10\" style=\"fill:rgb(199,157,131); stroke:none;\" height=\"10\"/><rect x=\"67.0352\" y=\"182.9401\" width=\"10\" style=\"fill:none; stroke:black;\" height=\"10\"/><rect x=\"44.8784\" y=\"60.4019\" width=\"10\" style=\"fill:rgb(14,176,221); stroke:none;\" height=\"10\"/><rect x=\"44.8784\" y=\"60.4019\" width=\"10\" style=\"fill:none; stroke:black;\" height=\"10\"/><rect x=\"242.2947\" y=\"163.4571\" width=\"10\" style=\"fill:rgb(27,170,96); stroke:none;\" height=\"10\"/><rect x=\"242.2947\" y=\"163.4571\" width=\"10\" style=\"fill:none; stroke:black;\" height=\"10\"/><rect x=\"230.3573\" y=\"194.2408\" width=\"10\" style=\"fill:rgb(157,163,43); stroke:none;\" height=\"10\"/><rect x=\"230.3573\" y=\"194.2408\" width=\"10\" style=\"fill:none; stroke:black;\" height=\"10\"/><rect x=\"180.558\" y=\"18.7538\" width=\"10\" style=\"fill:rgb(129,127,20); stroke:none;\" height=\"10\"/><rect x=\"180.558\" y=\"18.7538\" width=\"10\" style=\"fill:none; stroke:black;\" height=\"10\"/><rect x=\"167.7842\" y=\"102.0549\" width=\"10\" style=\"fill:rgb(17,86,210); stroke:none;\" height=\"10\"/><rect x=\"167.7842\" y=\"102.0549\" width=\"10\" style=\"fill:none; stroke:black;\" height=\"10\"/><rect x=\"272.7094\" y=\"150.0836\" width=\"10\" style=\"fill:rgb(108,93,9); stroke:none;\" height=\"10\"/><rect x=\"272.7094\" y=\"150.0836\" width=\"10\" style=\"fill:none; stroke:black;\" height=\"10\"/><rect x=\"168.3465\" y=\"96.2046\" width=\"10\" style=\"fill:rgb(29,110,99); stroke:none;\" height=\"10\"/><rect x=\"168.3465\" y=\"96.2046\" width=\"10\" style=\"fill:none; stroke:black;\" height=\"10\"/><rect x=\"27.3333\" y=\"58.5726\" width=\"10\" style=\"fill:rgb(208,140,84); stroke:none;\" height=\"10\"/><rect x=\"27.3333\" y=\"58.5726\" width=\"10\" style=\"fill:none; stroke:black;\" height=\"10\"/><rect x=\"23.4694\" y=\"144.1117\" width=\"10\" style=\"fill:rgb(125,26,231); stroke:none;\" height=\"10\"/><rect x=\"23.4694\" y=\"144.1117\" width=\"10\" style=\"fill:none; stroke:black;\" height=\"10\"/><rect x=\"143.732\" y=\"22.6321\" width=\"10\" style=\"fill:rgb(72,225,62); stroke:none;\" height=\"10\"/><rect x=\"143.732\" y=\"22.6321\" width=\"10\" style=\"fill:none; stroke:black;\" height=\"10\"/><rect x=\"55.7541\" y=\"156.4655\" width=\"10\" style=\"fill:rgb(121,72,59); stroke:none;\" height=\"10\"/><rect x=\"55.7541\" y=\"156.4655\" width=\"10\" style=\"fill:none; stroke:black;\" height=\"10\"/><rect x=\"145.928\" y=\"102.4659\" width=\"10\" style=\"fill:rgb(7,62,176); stroke:none;\" height=\"10\"/><rect x=\"145.928\" y=\"102.4659\" width=\"10\" style=\"fill:none; stroke:black;\" height=\"10\"/><rect x=\"20.7057\" y=\"182.1297\" width=\"10\" style=\"fill:rgb(60,234,136); stroke:none;\" height=\"10\"/><rect x=\"20.7057\" y=\"182.1297\" width=\"10\" style=\"fill:none; stroke:black;\" height=\"10\"/><rect x=\"66.7403\" y=\"169.8749\" width=\"10\" style=\"fill:rgb(180,78,154); stroke:none;\" height=\"10\"/><rect x=\"66.7403\" y=\"169.8749\" width=\"10\" style=\"fill:none; stroke:black;\" height=\"10\"/><rect x=\"10.5321\" y=\"137.0731\" width=\"10\" style=\"fill:rgb(121,190,39); stroke:none;\" height=\"10\"/><rect x=\"10.5321\" y=\"137.0731\" width=\"10\" style=\"fill:none; stroke:black;\" height=\"10\"/><rect x=\"31.1936\" y=\"124.3151\" width=\"10\" style=\"fill:rgb(103,27,130); stroke:none;\" height=\"10\"/><rect x=\"31.1936\" y=\"124.3151\" width=\"10\" style=\"fill:none; stroke:black;\" height=\"10\"/><rect x=\"128.08\" y=\"141.0392\" width=\"10\" style=\"fill:rgb(191,176,13); stroke:none;\" height=\"10\"/><rect x=\"128.08\" y=\"141.0392\" width=\"10\" style=\"fill:none; stroke:black;\" height=\"10\"/><rect x=\"290.1987\" y=\"10.2403\" width=\"10\" style=\"fill:rgb(105,111,135); stroke:none;\" height=\"10\"/><rect x=\"290.1987\" y=\"10.2403\" width=\"10\" style=\"fill:none; stroke:black;\" height=\"10\"/><rect x=\"6.6401\" y=\"143.0094\" width=\"10\" style=\"fill:rgb(166,218,212); stroke:none;\" height=\"10\"/><rect x=\"6.6401\" y=\"143.0094\" width=\"10\" style=\"fill:none; stroke:black;\" height=\"10\"/><rect x=\"67.8813\" y=\"17.6356\" width=\"10\" style=\"fill:rgb(145,254,159); stroke:none;\" height=\"10\"/><rect x=\"67.8813\" y=\"17.6356\" width=\"10\" style=\"fill:none; stroke:black;\" height=\"10\"/><rect x=\"61.2594\" y=\"148.7468\" width=\"10\" style=\"fill:rgb(172,199,163); stroke:none;\" height=\"10\"/><rect x=\"61.2594\" y=\"148.7468\" width=\"10\" style=\"fill:none; stroke:black;\" height=\"10\"/><rect x=\"34.7845\" y=\"26.6712\" width=\"10\" style=\"fill:rgb(0,151,201); stroke:none;\" height=\"10\"/><rect x=\"34.7845\" y=\"26.6712\" width=\"10\" style=\"fill:none; stroke:black;\" height=\"10\"/><rect x=\"1.1822\" y=\"125.7279\" width=\"10\" style=\"fill:rgb(246,104,198); stroke:none;\" height=\"10\"/><rect x=\"1.1822\" y=\"125.7279\" width=\"10\" style=\"fill:none; stroke:black;\" height=\"10\"/><rect x=\"109.5098\" y=\"183.902\" width=\"10\" style=\"fill:rgb(81,243,229); stroke:none;\" height=\"10\"/><rect x=\"109.5098\" y=\"183.902\" width=\"10\" style=\"fill:none; stroke:black;\" height=\"10\"/><rect x=\"93.9139\" y=\"84.9815\" width=\"10\" style=\"fill:rgb(193,103,17); stroke:none;\" height=\"10\"/><rect x=\"93.9139\" y=\"84.9815\" width=\"10\" style=\"fill:none; stroke:black;\" height=\"10\"/><rect x=\"294.2433\" y=\"84.0082\" width=\"10\" style=\"fill:rgb(113,192,207); stroke:none;\" height=\"10\"/><rect x=\"294.2433\" y=\"84.0082\" width=\"10\" style=\"fill:none; stroke:black;\" height=\"10\"/><rect x=\"63.5127\" y=\"7.1015\" width=\"10\" style=\"fill:rgb(175,83,8); stroke:none;\" height=\"10\"/><rect x=\"63.5127\" y=\"7.1015\" width=\"10\" style=\"fill:none; stroke:black;\" height=\"10\"/><rect x=\"245.8745\" y=\"171.1559\" width=\"10\" style=\"fill:rgb(217,146,215); stroke:none;\" height=\"10\"/><rect x=\"245.8745\" y=\"171.1559\" width=\"10\" style=\"fill:none; stroke:black;\" height=\"10\"/><rect x=\"116.6981\" y=\"178.5231\" width=\"10\" style=\"fill:rgb(127,81,148); stroke:none;\" height=\"10\"/><rect x=\"116.6981\" y=\"178.5231\" width=\"10\" style=\"fill:none; stroke:black;\" height=\"10\"/><rect x=\"240.2022\" y=\"72.6382\" width=\"10\" style=\"fill:rgb(53,84,241); stroke:none;\" height=\"10\"/><rect x=\"240.2022\" y=\"72.6382\" width=\"10\" style=\"fill:none; stroke:black;\" height=\"10\"/><rect x=\"4.6557\" y=\"67.7835\" width=\"10\" style=\"fill:rgb(107,231,6); stroke:none;\" height=\"10\"/><rect x=\"4.6557\" y=\"67.7835\" width=\"10\" style=\"fill:none; stroke:black;\" height=\"10\"/><rect x=\"25.1064\" y=\"105.3469\" width=\"10\" style=\"fill:rgb(68,39,159); stroke:none;\" height=\"10\"/><rect x=\"25.1064\" y=\"105.3469\" width=\"10\" style=\"fill:none; stroke:black;\" height=\"10\"/><rect x=\"185.7335\" y=\"68.6014\" width=\"10\" style=\"fill:rgb(251,126,108); stroke:none;\" height=\"10\"/><rect x=\"185.7335\" y=\"68.6014\" width=\"10\" style=\"fill:none; stroke:black;\" height=\"10\"/><rect x=\"61.7753\" y=\"121.2439\" width=\"10\" style=\"fill:rgb(124,103,236); stroke:none;\" height=\"10\"/><rect x=\"61.7753\" y=\"121.2439\" width=\"10\" style=\"fill:none; stroke:black;\" height=\"10\"/><rect x=\"192.5181\" y=\"130.8848\" width=\"10\" style=\"fill:rgb(129,35,170); stroke:none;\" height=\"10\"/><rect x=\"192.5181\" y=\"130.8848\" width=\"10\" style=\"fill:none; stroke:black;\" height=\"10\"/><rect x=\"48.1233\" y=\"8.8101\" width=\"10\" style=\"fill:rgb(159,163,145); stroke:none;\" height=\"10\"/><rect x=\"48.1233\" y=\"8.8101\" width=\"10\" style=\"fill:none; stroke:black;\" height=\"10\"/><rect x=\"284.1942\" y=\"181.0053\" width=\"10\" style=\"fill:rgb(90,175,241); stroke:none;\" height=\"10\"/><rect x=\"284.1942\" y=\"181.0053\" width=\"10\" style=\"fill:none; stroke:black;\" height=\"10\"/><rect x=\"193.7828\" y=\"131.042\" width=\"10\" style=\"fill:rgb(135,52,215); stroke:none;\" height=\"10\"/><rect x=\"193.7828\" y=\"131.042\" width=\"10\" style=\"fill:none; stroke:black;\" height=\"10\"/><rect x=\"158.5879\" y=\"34.7963\" width=\"10\" style=\"fill:rgb(20,97,122); stroke:none;\" height=\"10\"/><rect x=\"158.5879\" y=\"34.7963\" width=\"10\" style=\"fill:none; stroke:black;\" height=\"10\"/><rect x=\"41.3958\" y=\"2.845\" width=\"10\" style=\"fill:rgb(59,10,156); stroke:none;\" height=\"10\"/><rect x=\"41.3958\" y=\"2.845\" width=\"10\" style=\"fill:none; stroke:black;\" height=\"10\"/><rect x=\"57.5104\" y=\"126.3418\" width=\"10\" style=\"fill:rgb(128,7,119); stroke:none;\" height=\"10\"/><rect x=\"57.5104\" y=\"126.3418\" width=\"10\" style=\"fill:none; stroke:black;\" height=\"10\"/><rect x=\"88.1074\" y=\"8.9274\" width=\"10\" style=\"fill:rgb(31,249,116); stroke:none;\" height=\"10\"/><rect x=\"88.1074\" y=\"8.9274\" width=\"10\" style=\"fill:none; stroke:black;\" height=\"10\"/></g></g></svg>"
      ],
      "text/plain": [
       "<IPython.core.display.SVG object>"
      ]
     },
     "metadata": {},
     "output_type": "display_data"
    }
   ],
   "source": [
    "%%py5drawsvg 300 200 -f /tmp/test.svg\n",
    "\n",
    "py5.background(240)\n",
    "py5.rect_mode(py5.CENTER)\n",
    "\n",
    "for i in range(100):\n",
    "    pick_random_fill()\n",
    "    py5.rect(py5.random(py5.width), py5.random(py5.height), 10, 10)"
   ]
  },
  {
   "cell_type": "markdown",
   "metadata": {},
   "source": [
    "## PDF Renderer\n",
    "\n",
    "Write to PDF files using `%%py5drawpdf`. Since Jupyter notebook does not support embedded PDF files, writing the output to a file is not optional."
   ]
  },
  {
   "cell_type": "code",
   "execution_count": 11,
   "metadata": {},
   "outputs": [
    {
     "name": "stdout",
     "output_type": "stream",
     "text": [
      "PDF written to /tmp/simple_example.pdf\n"
     ]
    }
   ],
   "source": [
    "%%py5drawpdf 300 200 /tmp/simple_example.pdf\n",
    "\n",
    "py5.background(240)\n",
    "py5.rect_mode(py5.CENTER)\n",
    "\n",
    "for i in range(100):\n",
    "    pick_random_fill()\n",
    "    py5.rect(py5.random(py5.width), py5.random(py5.height), 10, 10)"
   ]
  },
  {
   "cell_type": "markdown",
   "metadata": {},
   "source": [
    "## DXF Renderer\n",
    "\n",
    "Write 3D objects to DXF files with `%%py5drawdxf`. This probably won't be a popular choice, but maybe somebody will appreciate it."
   ]
  },
  {
   "cell_type": "code",
   "execution_count": 12,
   "metadata": {},
   "outputs": [
    {
     "name": "stdout",
     "output_type": "stream",
     "text": [
      "DXF written to /tmp/test.dxf\n"
     ]
    }
   ],
   "source": [
    "%%py5drawdxf 200 200 /tmp/test.dxf\n",
    "\n",
    "py5.translate(py5.width / 2, py5.height / 2)\n",
    "py5.rotate_x(0.4)\n",
    "py5.rotate_y(0.8)\n",
    "py5.box(80)"
   ]
  },
  {
   "cell_type": "code",
   "execution_count": 13,
   "metadata": {},
   "outputs": [
    {
     "name": "stdout",
     "output_type": "stream",
     "text": [
      "0\n",
      "SECTION\n",
      "2\n",
      "ENTITIES\n",
      "0\n",
      "3DFACE\n",
      "8\n",
      "0\n",
      "10\n",
      "-56.562515\n"
     ]
    }
   ],
   "source": [
    "!head /tmp/test.dxf"
   ]
  },
  {
   "cell_type": "markdown",
   "metadata": {},
   "source": [
    "## Variable Scope\n",
    "\n",
    "By default, new variables defined inside cell magics such as `%%py5draw` cannot be accessed elsewhere in the notebook.\n",
    "\n",
    "Consider the below example. It creates new variables `random_x` and `random_y` to store the location of the square."
   ]
  },
  {
   "cell_type": "code",
   "execution_count": 13,
   "metadata": {},
   "outputs": [
    {
     "data": {
      "image/png": "[encoded data removed]",
      "text/plain": [
       "<IPython.core.display.Image object>"
      ]
     },
     "metadata": {},
     "output_type": "display_data"
    }
   ],
   "source": [
    "%%py5draw 300 200\n",
    "\n",
    "py5.background(240)\n",
    "py5.rect_mode(py5.CENTER)\n",
    "\n",
    "random_x = py5.random(py5.width)\n",
    "random_y = py5.random(py5.height)\n",
    "py5.rect(random_x, random_y, 50, 50)"
   ]
  },
  {
   "cell_type": "markdown",
   "metadata": {},
   "source": [
    "The variables `random_x` and `random_y` are not accessible outside of that cell:"
   ]
  },
  {
   "cell_type": "code",
   "execution_count": 14,
   "metadata": {},
   "outputs": [
    {
     "ename": "NameError",
     "evalue": "name 'random_x' is not defined",
     "output_type": "error",
     "traceback": [
      "\u001b[0;31m---------------------------------------------------------------------------\u001b[0m",
      "\u001b[0;31mNameError\u001b[0m                                 Traceback (most recent call last)",
      "\u001b[0;32m<ipython-input-14-495f30123407>\u001b[0m in \u001b[0;36m<module>\u001b[0;34m\u001b[0m\n\u001b[0;32m----> 1\u001b[0;31m \u001b[0mrandom_x\u001b[0m\u001b[0;34m,\u001b[0m \u001b[0mrandom_y\u001b[0m\u001b[0;34m\u001b[0m\u001b[0;34m\u001b[0m\u001b[0m\n\u001b[0m",
      "\u001b[0;31mNameError\u001b[0m: name 'random_x' is not defined"
     ]
    }
   ],
   "source": [
    "random_x, random_y"
   ]
  },
  {
   "cell_type": "markdown",
   "metadata": {},
   "source": [
    "This behavior is by design.\n",
    "\n",
    "Consider that the py5 library is using the Processing library to create these graphics. Builtin Processing objects such as PImage or PGraphics are designed to be associated with one and only one Processing sketch. Py5 can let users write code to that subverts these assumptions, and as a result use Processing in a way that is completely different from how it was designed to be used. Sometimes this can be beneficial, but other times it will cause unexpected errors.\n",
    "\n",
    "If you understand the risks, or if you are working with non-Processing objects (as is the case for `random_x` and `random_y` in the above example), you have two options available to you.\n",
    "\n",
    "First, you can add the `global` keyword to your code:"
   ]
  },
  {
   "cell_type": "code",
   "execution_count": 15,
   "metadata": {},
   "outputs": [
    {
     "data": {
      "image/png": "[encoded data removed]",
      "text/plain": [
       "<IPython.core.display.Image object>"
      ]
     },
     "metadata": {},
     "output_type": "display_data"
    }
   ],
   "source": [
    "%%py5draw 300 200\n",
    "\n",
    "py5.background(240)\n",
    "py5.rect_mode(py5.CENTER)\n",
    "\n",
    "global random_x\n",
    "global random_y\n",
    "\n",
    "random_x = py5.random(py5.width)\n",
    "random_y = py5.random(py5.height)\n",
    "py5.rect(random_x, random_y, 50, 50)"
   ]
  },
  {
   "cell_type": "markdown",
   "metadata": {},
   "source": [
    "Now we can get the position of the square:"
   ]
  },
  {
   "cell_type": "code",
   "execution_count": 16,
   "metadata": {},
   "outputs": [
    {
     "data": {
      "text/plain": [
       "(253.71726316307567, 41.45690400466917)"
      ]
     },
     "execution_count": 16,
     "metadata": {},
     "output_type": "execute_result"
    }
   ],
   "source": [
    "random_x, random_y"
   ]
  },
  {
   "cell_type": "markdown",
   "metadata": {},
   "source": [
    "Alternatively, you can use the `--unsafe` parameter. This is a blanket statement that mixes the cell magic's namespace with the notebook namespace. As the name implies, you can cause problems for yourself by using this."
   ]
  },
  {
   "cell_type": "code",
   "execution_count": 17,
   "metadata": {},
   "outputs": [
    {
     "data": {
      "image/png": "[encoded data removed]",
      "text/plain": [
       "<IPython.core.display.Image object>"
      ]
     },
     "metadata": {},
     "output_type": "display_data"
    }
   ],
   "source": [
    "%%py5draw 300 200 --unsafe\n",
    "\n",
    "py5.background(240)\n",
    "py5.rect_mode(py5.CENTER)\n",
    "\n",
    "random_x = py5.random(py5.width)\n",
    "random_y = py5.random(py5.height)\n",
    "py5.rect(random_x, random_y, 50, 50)"
   ]
  },
  {
   "cell_type": "code",
   "execution_count": 18,
   "metadata": {},
   "outputs": [
    {
     "data": {
      "text/plain": [
       "(7.4828097640343145, 53.80141184644411)"
      ]
     },
     "execution_count": 18,
     "metadata": {},
     "output_type": "execute_result"
    }
   ],
   "source": [
    "random_x, random_y"
   ]
  },
  {
   "cell_type": "markdown",
   "metadata": {},
   "source": [
    "# Animated Sketches\n",
    "\n",
    "Of course, there's more to py5 than static sketches. The py5 magics will support animated sketches as well.\n",
    "\n",
    "Note that starting your development process with static sketches is a great way to write py5 code. For example, you can quickly develop functions for parts of your creation and test them out with static sketches, and later use those same functions in your final animation.\n",
    "\n",
    "Let's create a simple example. The below `settings` function will tell py5 to create a 500 by 400 sketch window."
   ]
  },
  {
   "cell_type": "code",
   "execution_count": 19,
   "metadata": {},
   "outputs": [],
   "source": [
    "def settings():\n",
    "    py5.size(500, 400, py5.P2D)"
   ]
  },
  {
   "cell_type": "markdown",
   "metadata": {},
   "source": [
    "This `setup` function will set the background color and set the rect mode."
   ]
  },
  {
   "cell_type": "code",
   "execution_count": 20,
   "metadata": {},
   "outputs": [],
   "source": [
    "def setup():\n",
    "    py5.background(240)\n",
    "    py5.rect_mode(py5.CENTER)"
   ]
  },
  {
   "cell_type": "markdown",
   "metadata": {},
   "source": [
    "And finally, the `draw` function to draw squares at the current mouse position."
   ]
  },
  {
   "cell_type": "code",
   "execution_count": 21,
   "metadata": {},
   "outputs": [],
   "source": [
    "def draw():\n",
    "    pick_random_fill()\n",
    "    py5.rect(py5.mouse_x, py5.mouse_y, 10, 10)"
   ]
  },
  {
   "cell_type": "markdown",
   "metadata": {},
   "source": [
    "To run the sketch, use the [run_sketch()](link://slug/run_sketch) method. It will pull out the `settings`, `setup`, and `draw` functions from the notebook's namespace and put them together in a sketch."
   ]
  },
  {
   "cell_type": "code",
   "execution_count": 22,
   "metadata": {},
   "outputs": [
    {
     "name": "stdout",
     "output_type": "stream",
     "text": [
      "the sketch is running!\n"
     ]
    }
   ],
   "source": [
    "py5.run_sketch()\n",
    "print('the sketch is running!')"
   ]
  },
  {
   "cell_type": "markdown",
   "metadata": {},
   "source": [
    "A new window opens for the running sketch.\n",
    "\n",
    "By default, the [run_sketch()](link://slug/run_sketch) method returns right away, as illustrated by the `print` statement. This enables the notebook user to continue coding, including executing code that interacts with the sketch. The sketch continues to run in its own window."
   ]
  },
  {
   "cell_type": "markdown",
   "metadata": {},
   "source": [
    "## Screenshots\n",
    "\n",
    "The sketch window cannot be embedded into the notebook, but the `%py5screenshot` magic can grab a single snapshot of the window. The `-w` parameter tells it to pause for a few seconds before grabbing that snapshot."
   ]
  },
  {
   "cell_type": "code",
   "execution_count": 23,
   "metadata": {},
   "outputs": [
    {
     "data": {
      "image/png": "[encoded data removed]",
      "text/plain": [
       "<PIL.PngImagePlugin.PngImageFile image mode=RGB size=500x400 at 0x7F9AA05D2100>"
      ]
     },
     "execution_count": 23,
     "metadata": {},
     "output_type": "execute_result"
    }
   ],
   "source": [
    "sketch_snapshot = %py5screenshot -w 5\n",
    "\n",
    "sketch_snapshot"
   ]
  },
  {
   "cell_type": "markdown",
   "metadata": {},
   "source": [
    "Observe that this is a line magic, not a cell magic, and that the line magic returns a frame of the sketch as a [PIL Image object](https://pillow.readthedocs.io/en/stable/index.html)."
   ]
  },
  {
   "cell_type": "code",
   "execution_count": 24,
   "metadata": {},
   "outputs": [
    {
     "name": "stdout",
     "output_type": "stream",
     "text": [
      "<class 'PIL.PngImagePlugin.PngImageFile'>\n"
     ]
    }
   ],
   "source": [
    "print(type(sketch_snapshot))"
   ]
  },
  {
   "cell_type": "markdown",
   "metadata": {},
   "source": [
    "The `%py5saveframes` magic will save multiple frames to a directory.\n",
    "\n",
    "Of course you can also call [save_frame()](link://slug/save_frame) from the `draw` method, but that would require you to redefine the `draw` method with a few extra lines of code. This is more convenient. "
   ]
  },
  {
   "cell_type": "code",
   "execution_count": 25,
   "metadata": {},
   "outputs": [
    {
     "name": "stdout",
     "output_type": "stream",
     "text": [
      "writing frames to /tmp/testframes/...\n",
      "saving frame 10/10\n"
     ]
    },
    {
     "data": {
      "text/plain": [
       "['/tmp/testframes/frame_0000.png',\n",
       " '/tmp/testframes/frame_0001.png',\n",
       " '/tmp/testframes/frame_0002.png',\n",
       " '/tmp/testframes/frame_0003.png',\n",
       " '/tmp/testframes/frame_0004.png',\n",
       " '/tmp/testframes/frame_0005.png',\n",
       " '/tmp/testframes/frame_0006.png',\n",
       " '/tmp/testframes/frame_0007.png',\n",
       " '/tmp/testframes/frame_0008.png',\n",
       " '/tmp/testframes/frame_0009.png']"
      ]
     },
     "execution_count": 25,
     "metadata": {},
     "output_type": "execute_result"
    }
   ],
   "source": [
    "%py5saveframes -w 3 -s 0 --limit 10 /tmp/testframes/"
   ]
  },
  {
   "cell_type": "markdown",
   "metadata": {},
   "source": [
    "Those frames can be assembled into a video file.\n",
    "\n",
    "The %py5captureframes magic is similar to %py5saveframes except it returns the frames as a `list` of [PIL Image object](https://pillow.readthedocs.io/en/stable/index.html)s."
   ]
  },
  {
   "cell_type": "code",
   "execution_count": 26,
   "metadata": {},
   "outputs": [
    {
     "name": "stdout",
     "output_type": "stream",
     "text": [
      "collecting frame 10/10\n"
     ]
    }
   ],
   "source": [
    "frames = %py5captureframes -w 3 -p 1 10"
   ]
  },
  {
   "cell_type": "code",
   "execution_count": 27,
   "metadata": {},
   "outputs": [
    {
     "data": {
      "image/png": "[encoded data removed]",
      "text/plain": [
       "<PIL.Image.Image image mode=RGB size=500x400 at 0x7F9AA059CF70>"
      ]
     },
     "execution_count": 27,
     "metadata": {},
     "output_type": "execute_result"
    }
   ],
   "source": [
    "frames[0]"
   ]
  },
  {
   "cell_type": "code",
   "execution_count": 28,
   "metadata": {},
   "outputs": [
    {
     "data": {
      "image/png": "[encoded data removed]",
      "text/plain": [
       "<PIL.Image.Image image mode=RGB size=500x400 at 0x7F9AA05D2BE0>"
      ]
     },
     "execution_count": 28,
     "metadata": {},
     "output_type": "execute_result"
    }
   ],
   "source": [
    "frames[-1]"
   ]
  },
  {
   "cell_type": "markdown",
   "metadata": {},
   "source": [
    "## Animated GIFs\n",
    "\n",
    "The last magic creates animated GIFs from your sketch. Everybody loves animated GIFs."
   ]
  },
  {
   "cell_type": "code",
   "execution_count": 29,
   "metadata": {},
   "outputs": [
    {
     "name": "stdout",
     "output_type": "stream",
     "text": [
      "collecting frame 10/10\n"
     ]
    },
    {
     "data": {
      "text/plain": [
       "'images/jupyter_notebooks/simple_example.gif'"
      ]
     },
     "execution_count": 29,
     "metadata": {},
     "output_type": "execute_result"
    }
   ],
   "source": [
    "%py5animatedgif -w 3 images/jupyter_notebooks/simple_example.gif 10 1 0.5"
   ]
  },
  {
   "cell_type": "markdown",
   "metadata": {},
   "source": [
    "The animated GIF can then be embedded in a notebook markdown cell.\n",
    "\n",
    "![simple_example](images/jupyter_notebooks/simple_example.gif)"
   ]
  },
  {
   "cell_type": "markdown",
   "metadata": {},
   "source": [
    "## Print Statements\n",
    "\n",
    "Question: if the user's `draw` method contains `print` statements, where does the output appear?\n",
    "\n",
    "This would be a simple question if the [run_sketch()](link://slug/run_sketch) method did not return right away (which you could achieve by passing the parameter `block=False`). The print statements would always go into the output of the cell with the call to that method. When the sketch exits, the output for that cell would be complete.\n",
    "\n",
    "By default, the [run_sketch()](link://slug/run_sketch) method does return right away when called from a Jupyter notebook. The print statements will still go to the output of the cell with the call to that method, but when you move on to the next cell, the print statements will start to appear there instead. Why? This has to do with the inner workings of Jupyter notebooks. It gets weirder if you delete the cell that is currently receiving the output. If that happens, the print output will disappear completely.\n",
    "\n",
    "This is less than perfect, and might frustrate users who like to debug their code with print statements. A better solution would be for py5 to open a second console window to receive any text outputs such as exceptions and print statements. I'd like to implement that at some point, but I don't expect it to happen any time soon. In the mean time, note that you can send text to the Jupyter notebook log like this:"
   ]
  },
  {
   "cell_type": "code",
   "execution_count": 30,
   "metadata": {},
   "outputs": [],
   "source": [
    "shell = get_ipython()\n",
    "shell.log.critical('test message')"
   ]
  },
  {
   "cell_type": "markdown",
   "metadata": {},
   "source": [
    "In the terminal I used to run `jupyter notebook`, I see this message:\n",
    "\n",
    "```\n",
    "[IPKernelApp] CRITICAL | test message\n",
    "```\n",
    "\n",
    "This is a more reliable debugging technique."
   ]
  }
 ],
 "metadata": {
  "kernelspec": {
   "display_name": "Python 3",
   "language": "python",
   "name": "python3"
  },
  "language_info": {
   "codemirror_mode": {
    "name": "ipython",
    "version": 3
   },
   "file_extension": ".py",
   "mimetype": "text/x-python",
   "name": "python",
   "nbconvert_exporter": "python",
   "pygments_lexer": "ipython3",
   "version": "3.8.6"
  },
  "nikola": {
   "date": "2021-01-10 16:12:41 EST",
   "filters": "python scripts/adjust_notebook_img_link.py '%s'",
   "slug": "jupyter-notebooks",
   "title": "Jupyter Notebooks"
  }
 },
 "nbformat": 4,
 "nbformat_minor": 4
}
